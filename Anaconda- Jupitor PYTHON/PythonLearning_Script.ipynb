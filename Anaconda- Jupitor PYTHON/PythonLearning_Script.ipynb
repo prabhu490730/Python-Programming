{
 "cells": [
  {
   "cell_type": "code",
   "execution_count": 1,
   "metadata": {
    "pycharm": {
     "name": "#%%\n"
    }
   },
   "outputs": [
    {
     "name": "stdout",
     "output_type": "stream",
     "text": [
      "Hello Anaconda, Let's Learn Python\n"
     ]
    }
   ],
   "source": [
    "print(\"Hello Anaconda, Let's Learn Python\")"
   ]
  },
  {
   "cell_type": "code",
   "execution_count": 2,
   "metadata": {
    "pycharm": {
     "name": "#%%\n"
    }
   },
   "outputs": [
    {
     "name": "stdout",
     "output_type": "stream",
     "text": [
      "Hello Anaconda\n"
     ]
    },
    {
     "data": {
      "text/plain": [
       "2"
      ]
     },
     "execution_count": 2,
     "metadata": {},
     "output_type": "execute_result"
    }
   ],
   "source": [
    "print(\"Hello Anaconda\")\n",
    "2+12-6%8*2"
   ]
  },
  {
   "cell_type": "code",
   "execution_count": 15,
   "metadata": {
    "pycharm": {
     "name": "#%%\n"
    }
   },
   "outputs": [
    {
     "data": {
      "text/plain": [
       "5.0"
      ]
     },
     "execution_count": 15,
     "metadata": {},
     "output_type": "execute_result"
    }
   ],
   "source": [
    "#This is the first Comment \n",
    "(50 - 5*6) / 4 # classic division returns a float"
   ]
  },
  {
   "cell_type": "code",
   "execution_count": 13,
   "metadata": {
    "pycharm": {
     "name": "#%%\n"
    }
   },
   "outputs": [
    {
     "data": {
      "text/plain": [
       "4.0"
      ]
     },
     "execution_count": 13,
     "metadata": {},
     "output_type": "execute_result"
    }
   ],
   "source": [
    "8 / 2 # division always returns a floating point number"
   ]
  },
  {
   "cell_type": "code",
   "execution_count": 16,
   "metadata": {
    "pycharm": {
     "name": "#%%\n"
    }
   },
   "outputs": [
    {
     "data": {
      "text/plain": [
       "5"
      ]
     },
     "execution_count": 16,
     "metadata": {},
     "output_type": "execute_result"
    }
   ],
   "source": [
    "17 // 3 # floor division discards the fractional part"
   ]
  },
  {
   "cell_type": "code",
   "execution_count": 17,
   "metadata": {
    "pycharm": {
     "name": "#%%\n"
    }
   },
   "outputs": [
    {
     "data": {
      "text/plain": [
       "128"
      ]
     },
     "execution_count": 17,
     "metadata": {},
     "output_type": "execute_result"
    }
   ],
   "source": [
    "2 ** 7 # 2 to the power of 7"
   ]
  },
  {
   "cell_type": "code",
   "execution_count": 20,
   "metadata": {
    "pycharm": {
     "name": "#%%\n"
    }
   },
   "outputs": [
    {
     "name": "stdout",
     "output_type": "stream",
     "text": [
      "Area of Rectangle\n"
     ]
    },
    {
     "data": {
      "text/plain": [
       "900"
      ]
     },
     "execution_count": 20,
     "metadata": {},
     "output_type": "execute_result"
    }
   ],
   "source": [
    "#Area of Rectangle (A=wl)\n",
    "print (\"Area of Rectangle\")\n",
    "width = 20\n",
    "length = 5 * 9\n",
    "width * length"
   ]
  },
  {
   "cell_type": "code",
   "execution_count": 3,
   "metadata": {
    "pycharm": {
     "name": "#%%\n"
    }
   },
   "outputs": [
    {
     "data": {
      "text/plain": [
       "16"
      ]
     },
     "execution_count": 3,
     "metadata": {},
     "output_type": "execute_result"
    }
   ],
   "source": [
    "4 ** 2"
   ]
  },
  {
   "cell_type": "code",
   "execution_count": 9,
   "metadata": {
    "pycharm": {
     "name": "#%%\n"
    }
   },
   "outputs": [
    {
     "name": "stdout",
     "output_type": "stream",
     "text": [
      "Area of Rectangle\n",
      "Enter your width: 10\n",
      "10\n",
      "Enter your length: 12\n",
      "12\n"
     ]
    },
    {
     "ename": "TypeError",
     "evalue": "can't multiply sequence by non-int of type 'str'",
     "output_type": "error",
     "traceback": [
      "\u001b[0;31m---------------------------------------------------------------------------\u001b[0m",
      "\u001b[0;31mTypeError\u001b[0m                                 Traceback (most recent call last)",
      "Input \u001b[0;32mIn [9]\u001b[0m, in \u001b[0;36m<cell line: 14>\u001b[0;34m()\u001b[0m\n\u001b[1;32m     11\u001b[0m \u001b[38;5;28mprint\u001b[39m(length)\n\u001b[1;32m     13\u001b[0m \u001b[38;5;66;03m# Printing of input value for Area of Rectangle\u001b[39;00m\n\u001b[0;32m---> 14\u001b[0m \u001b[38;5;28mprint\u001b[39m (\u001b[38;5;28mint\u001b[39m(\u001b[43mlength\u001b[49m\u001b[38;5;241;43m*\u001b[39;49m\u001b[43mwidth\u001b[49m))\n",
      "\u001b[0;31mTypeError\u001b[0m: can't multiply sequence by non-int of type 'str'"
     ]
    }
   ],
   "source": [
    "# Python program showing  \n",
    "# use of taking input() from user\n",
    "\n",
    "#Area of Rectangle (A=wl)\n",
    "print (\"Area of Rectangle\")\n",
    "\n",
    "width = input(\"Enter your width: \") \n",
    "print(width) \n",
    "\n",
    "length = input(\"Enter your length: \")\n",
    "print(length)\n",
    "\n",
    "# Printing of input value for Area of Rectangle\n",
    "print (type(length*width))"
   ]
  },
  {
   "cell_type": "code",
   "execution_count": 7,
   "metadata": {
    "pycharm": {
     "name": "#%%\n"
    }
   },
   "outputs": [
    {
     "name": "stdout",
     "output_type": "stream",
     "text": [
      "Enter any number :5\n",
      "5\n",
      "Enter your name : Prabhu\n",
      "Prabhu\n",
      "type of number <class 'str'>\n",
      "type of name <class 'str'>\n"
     ]
    }
   ],
   "source": [
    "# Program to check input \n",
    "# type in Python \n",
    "\n",
    "num = input (\"Enter any number :\") \n",
    "print(num) \n",
    "name1 = input(\"Enter your name : \") \n",
    "print(name1) \n",
    "\n",
    "# Printing type of input value \n",
    "print (\"type of number\", type(num)) \n",
    "print (\"type of name\", type(name1)) \n"
   ]
  },
  {
   "cell_type": "code",
   "execution_count": 1,
   "metadata": {
    "pycharm": {
     "name": "#%%\n"
    }
   },
   "outputs": [
    {
     "name": "stdout",
     "output_type": "stream",
     "text": [
      "Your Good Name Please:Prabhat\n",
      "Hello Prabhat ,Here is easy way to find Area and Perimeter of Rectangle\n",
      "Please Enter the Width of a Rectangle: 65\n",
      "Please Enter the Height of a Rectangle: 44\n",
      "\n",
      " Area of a Rectangle is: 2860.00\n",
      " Perimeter of Rectangle is: 218.00\n"
     ]
    }
   ],
   "source": [
    "# Python Program to find Area of a Rectangle\n",
    "\n",
    "\n",
    "name = input (\"Your Good Name Please:\")\n",
    "print(\"Hello\",name,\",\" \"Here is easy way to find Area and Perimeter of Rectangle\")\n",
    "\n",
    "width = float(input('Please Enter the Width of a Rectangle: '))\n",
    "height = float(input('Please Enter the Height of a Rectangle: '))\n",
    "\n",
    "# calculate the area\n",
    "Area = width * height\n",
    "\n",
    "# calculate the Perimeter\n",
    "Perimeter = 2 * (width + height)\n",
    "\n",
    "print(\"\\n Area of a Rectangle is: %.2f\" %Area)\n",
    "print(\" Perimeter of Rectangle is: %.2f\" %Perimeter)\n",
    "\n",
    "\n",
    "\n"
   ]
  },
  {
   "cell_type": "code",
   "execution_count": 2,
   "metadata": {
    "pycharm": {
     "name": "#%%\n"
    }
   },
   "outputs": [
    {
     "name": "stdout",
     "output_type": "stream",
     "text": [
      "Your Good Name Please:Prabhat\n",
      "Hello Prabhat Here is easy way to find Area and Perimeter of Rectangle\n",
      "\n",
      "\n",
      "Please Enter the Width of a Rectangle: 15\n",
      "Please Enter the Height of a Rectangle: 10\n",
      "\n",
      " Area of a Rectangle is: 150.00\n",
      " Perimeter of Rectangle is: 50.00\n"
     ]
    }
   ],
   "source": [
    "# Python Program to find Area of a Rectangle\n",
    "\n",
    "\n",
    "name = input (\"Your Good Name Please:\")\n",
    "print(\"Hello\", name,\"Here is easy way to find Area and Perimeter of Rectangle\")\n",
    "\n",
    "print (\"\\n\")\n",
    "width = float(input('Please Enter the Width of a Rectangle: '))\n",
    "height = float(input('Please Enter the Height of a Rectangle: '))\n",
    "\n",
    "# calculate the area\n",
    "Area = width * height\n",
    "\n",
    "# calculate the Perimeter\n",
    "Perimeter = 2 * (width + height)\n",
    "\n",
    "print(\"\\n Area of a Rectangle is: %.2f\" %Area)\n",
    "print(\" Perimeter of Rectangle is: %.2f\" %Perimeter)"
   ]
  },
  {
   "cell_type": "code",
   "execution_count": 7,
   "metadata": {
    "pycharm": {
     "name": "#%%\n"
    },
    "scrolled": true
   },
   "outputs": [
    {
     "name": "stdout",
     "output_type": "stream",
     "text": [
      "Please Enter the Width of a Rectangle: 15\n",
      "Please Enter the Height of a Rectangle: 10\n",
      "\n",
      " Area of a Rectangle is: 150\n",
      " Perimeter of Rectangle is: 50\n"
     ]
    }
   ],
   "source": [
    "width = int(input('Please Enter the Width of a Rectangle: '))\n",
    "height = int(input('Please Enter the Height of a Rectangle: '))\n",
    "\n",
    "# calculate the area\n",
    "Area = width * height\n",
    "\n",
    "# calculate the Perimeter\n",
    "Perimeter = 2 * (width + height)\n",
    "\n",
    "print(\"\\n Area of a Rectangle is: %i\" %Area)\n",
    "print(\" Perimeter of Rectangle is: %i\" %Perimeter)"
   ]
  },
  {
   "cell_type": "code",
   "execution_count": 8,
   "metadata": {
    "pycharm": {
     "name": "#%%\n"
    }
   },
   "outputs": [],
   "source": [
    "#Useful Link: https://www.geeksforgeeks.org/python-programming-examples/\n"
   ]
  },
  {
   "cell_type": "code",
   "execution_count": 7,
   "metadata": {
    "pycharm": {
     "name": "#%%\n"
    }
   },
   "outputs": [
    {
     "name": "stdout",
     "output_type": "stream",
     "text": [
      "First number: 10\n",
      "\n",
      "Second number: 15\n",
      "\n",
      "The sum of 10 and 15 is 25.0\n"
     ]
    }
   ],
   "source": [
    "# Python3 program to add two numbers \n",
    "  \n",
    "number1 = input(\"First number: \") \n",
    "number2 = input(\"\\nSecond number: \") \n",
    "  \n",
    "# Adding two numbers \n",
    "# User might also enter float numbers \n",
    "sum = float(number1) + float(number2) \n",
    "  \n",
    "# Display the sum \n",
    "# will print value in float \n",
    "print(\"\\nThe sum of {0} and {1} is {2}\" .format(number1, number2, sum))"
   ]
  },
  {
   "cell_type": "code",
   "execution_count": 11,
   "metadata": {
    "pycharm": {
     "name": "#%%\n"
    }
   },
   "outputs": [
    {
     "name": "stdout",
     "output_type": "stream",
     "text": [
      "First number: 10.2\n",
      "\n",
      "Second number: 5.10\n",
      "Sum is: 15\n"
     ]
    }
   ],
   "source": [
    "# Python3 program to add two numbers {Input from User}\n",
    "  \n",
    "number1 = input(\"First number: \") \n",
    "number2 = input(\"\\nSecond number: \") \n",
    "  \n",
    "# Adding two numbers \n",
    "# User might also enter float numbers \n",
    "sum = float(number1) + float(number2) \n",
    "  \n",
    "# Display the sum \n",
    "# will print value in float \n",
    "#print(\"The sum of {0} and {1} is {2}\" .format(number1, number2, sum))\n",
    "print (\"Sum is: %i\" %sum)"
   ]
  },
  {
   "cell_type": "code",
   "execution_count": 12,
   "metadata": {
    "pycharm": {
     "name": "#%%\n"
    }
   },
   "outputs": [
    {
     "name": "stdout",
     "output_type": "stream",
     "text": [
      "Sum of 15 and 12 is 27\n"
     ]
    }
   ],
   "source": [
    "# Python3 program to add two numbers \n",
    "  \n",
    "num1 = 15\n",
    "num2 = 12\n",
    "  \n",
    "# Adding two nos \n",
    "sum = num1 + num2 \n",
    "  \n",
    "# printing values \n",
    "print(\"Sum of {0} and {1} is {2}\" .format(num1, num2, sum)) \n"
   ]
  },
  {
   "cell_type": "code",
   "execution_count": 14,
   "metadata": {
    "pycharm": {
     "name": "#%%\n"
    }
   },
   "outputs": [
    {
     "name": "stdout",
     "output_type": "stream",
     "text": [
      "Factorial of 5 is 120\n"
     ]
    }
   ],
   "source": [
    "# Python program to find factorial of given number \n",
    "\n",
    "def factorial(n): \n",
    "      \n",
    "    # single line to find factorial \n",
    "    return 1 if (n==1 or n==0) else n * factorial(n - 1);  \n",
    "  \n",
    "# Driver Code \n",
    "num = 5; \n",
    "print(\"Factorial of\",num,\"is\", factorial(num)) "
   ]
  },
  {
   "cell_type": "code",
   "execution_count": 3,
   "metadata": {
    "pycharm": {
     "name": "#%%\n"
    }
   },
   "outputs": [
    {
     "name": "stdout",
     "output_type": "stream",
     "text": [
      "Enter your Number to calculate factorial:50\n",
      "30414093201713378043612608166064768844377641568960512000000000000\n"
     ]
    }
   ],
   "source": [
    "# Python program to find factorial of given number \n",
    "num = int(input(\"Enter your Number to calculate factorial:\"))\n",
    "fact=1\n",
    "if num==0:\n",
    "    print(\"Factorial=1\")\n",
    "elif num==1:\n",
    "    print(\"Factorial=1\")\n",
    "elif num<=-1:\n",
    "    print(\"Factorial Does Not Exist\")\n",
    "else:\n",
    "    for i in range(1,num+1):\n",
    "        fact=fact*i\n",
    "print(fact)"
   ]
  },
  {
   "cell_type": "code",
   "execution_count": 3,
   "metadata": {
    "pycharm": {
     "name": "#%%\n"
    }
   },
   "outputs": [
    {
     "name": "stdout",
     "output_type": "stream",
     "text": [
      "Enter your First Number: 15.35346\n",
      "\n",
      "Enter your Second Number: 76784.23576\n",
      "The Sum of 15.35346 and 76784.23576 is 76799.58922\n"
     ]
    }
   ],
   "source": [
    "# Python3 program to add two numbers \n",
    "number1 = input(\"Enter your First Number: \")\n",
    "number2 = input (\"\\nEnter your Second Number: \")\n",
    "\n",
    "# Adding two numbers\n",
    "#User can Enter Either int or float numbers\n",
    "Sum = float(number1) + float(number2)\n",
    "\n",
    "# Display the sum \n",
    "# will print value in float \n",
    "print (\"The Sum of {0} and {1} is {2}\" .format(number1,number2, Sum))"
   ]
  },
  {
   "cell_type": "code",
   "execution_count": 5,
   "metadata": {
    "pycharm": {
     "name": "#%%\n"
    }
   },
   "outputs": [
    {
     "name": "stdout",
     "output_type": "stream",
     "text": [
      "Enter the Principle Amount: 15000\n",
      "\n",
      "Rate of Interest: 12\n",
      "\n",
      "Total Time Period: 4\n",
      "The Simple Interest of 15000 and 12 and 4 is 7200.0\n"
     ]
    }
   ],
   "source": [
    "# Python3 program to find Simple Interest \n",
    "Principle = input(\"Enter the Principle Amount: \")\n",
    "Rate = input (\"\\nRate of Interest: \")\n",
    "Time = input(\"\\nTotal Time Period: \")\n",
    "\n",
    "# Calculate Simple Interest Formula \n",
    "#User can Enter Either int or float numbers\n",
    "SI = (float(Principle) * float(Rate) * float(Time)) / 100\n",
    "\n",
    "# Display the Simple Interest \n",
    "# will print value in float \n",
    "print (\"The Simple Interest of {0} and {1} and {2} is {3}\" .format(Principle,Rate, Time, SI))"
   ]
  },
  {
   "cell_type": "code",
   "execution_count": 6,
   "metadata": {
    "pycharm": {
     "name": "#%%\n"
    }
   },
   "outputs": [
    {
     "name": "stdout",
     "output_type": "stream",
     "text": [
      "The principal is 8\n",
      "The time period is 6\n",
      "The rate of interest is 8\n",
      "The Simple Interest is 3.84\n"
     ]
    },
    {
     "data": {
      "text/plain": [
       "3.84"
      ]
     },
     "execution_count": 6,
     "metadata": {},
     "output_type": "execute_result"
    }
   ],
   "source": [
    "# Python3 program to find simple interest \n",
    "# for given principal amount, time and \n",
    "# rate of interest. \n",
    "  \n",
    "  \n",
    "def simple_interest(p,t,r): \n",
    "    print('The principal is', p) \n",
    "    print('The time period is', t) \n",
    "    print('The rate of interest is',r) \n",
    "      \n",
    "    si = (p * t * r)/100\n",
    "      \n",
    "    print('The Simple Interest is', si) \n",
    "    return si \n",
    "      \n",
    "# Driver code \n",
    "simple_interest(8, 6, 8) "
   ]
  },
  {
   "cell_type": "code",
   "execution_count": 1,
   "metadata": {
    "pycharm": {
     "name": "#%%\n"
    }
   },
   "outputs": [
    {
     "data": {
      "text/plain": [
       "4"
      ]
     },
     "execution_count": 1,
     "metadata": {},
     "output_type": "execute_result"
    }
   ],
   "source": [
    "2**2"
   ]
  },
  {
   "cell_type": "code",
   "execution_count": 2,
   "metadata": {
    "pycharm": {
     "name": "#%%\n"
    }
   },
   "outputs": [
    {
     "data": {
      "text/plain": [
       "256"
      ]
     },
     "execution_count": 2,
     "metadata": {},
     "output_type": "execute_result"
    }
   ],
   "source": [
    "2**8"
   ]
  },
  {
   "cell_type": "code",
   "execution_count": 2,
   "metadata": {
    "pycharm": {
     "name": "#%%\n"
    }
   },
   "outputs": [
    {
     "data": {
      "text/plain": [
       "2"
      ]
     },
     "execution_count": 2,
     "metadata": {},
     "output_type": "execute_result"
    }
   ],
   "source": [
    "2%5"
   ]
  },
  {
   "cell_type": "code",
   "execution_count": 7,
   "metadata": {
    "pycharm": {
     "name": "#%%\n"
    }
   },
   "outputs": [
    {
     "name": "stdout",
     "output_type": "stream",
     "text": [
      "4\n"
     ]
    }
   ],
   "source": [
    "# Python program to find the \n",
    "# maximum of two numbers \n",
    "  \n",
    "  \n",
    "def maximum(a, b): \n",
    "      \n",
    "    if a >= b: \n",
    "        return a \n",
    "    else: \n",
    "        return b \n",
    "      \n",
    "# Driver code \n",
    "a = 2\n",
    "b = 4\n",
    "print(maximum(a, b))"
   ]
  },
  {
   "cell_type": "code",
   "execution_count": 11,
   "metadata": {
    "pycharm": {
     "name": "#%%\n"
    }
   },
   "outputs": [
    {
     "name": "stdout",
     "output_type": "stream",
     "text": [
      "6\n"
     ]
    }
   ],
   "source": [
    "# Python program to find the \n",
    "# maximum of two numbers \n",
    "  \n",
    "  \n",
    "def maximum(a, b, c): \n",
    "      \n",
    "    if a >= b: \n",
    "        return a \n",
    "    \n",
    "    if b >= c:\n",
    "        return b\n",
    "    \n",
    "    else: \n",
    "        return c \n",
    "      \n",
    "# Driver code \n",
    "a = 2\n",
    "b = 4\n",
    "c = 6\n",
    "print(maximum(a, b, c))\n",
    "\n",
    "# \"Else If\" Function will not work Here..!!"
   ]
  },
  {
   "cell_type": "code",
   "execution_count": 12,
   "metadata": {
    "pycharm": {
     "name": "#%%\n"
    }
   },
   "outputs": [
    {
     "name": "stdout",
     "output_type": "stream",
     "text": [
      "4\n"
     ]
    }
   ],
   "source": [
    "# Python program to find the \n",
    "# maximum of two numbers  using MAX fun^n.\n",
    "  \n",
    "    \n",
    "a = 2\n",
    "b = 4\n",
    "  \n",
    "maximum = max(a, b) \n",
    "print(maximum)"
   ]
  },
  {
   "cell_type": "code",
   "execution_count": 8,
   "metadata": {
    "pycharm": {
     "name": "#%%\n"
    }
   },
   "outputs": [
    {
     "ename": "SyntaxError",
     "evalue": "invalid syntax (4263982563.py, line 1)",
     "output_type": "error",
     "traceback": [
      "\u001b[0;36m  Input \u001b[0;32mIn [8]\u001b[0;36m\u001b[0m\n\u001b[0;31m    a b c =100 200 400\u001b[0m\n\u001b[0m      ^\u001b[0m\n\u001b[0;31mSyntaxError\u001b[0m\u001b[0;31m:\u001b[0m invalid syntax\n"
     ]
    }
   ],
   "source": [
    "a b c =100 200 400 \n",
    "print(a,b)"
   ]
  },
  {
   "cell_type": "code",
   "execution_count": 7,
   "metadata": {
    "pycharm": {
     "name": "#%%\n"
    }
   },
   "outputs": [
    {
     "ename": "TypeError",
     "evalue": "object of type 'int' has no len()",
     "output_type": "error",
     "traceback": [
      "\u001b[0;31m---------------------------------------------------------------------------\u001b[0m",
      "\u001b[0;31mTypeError\u001b[0m                                 Traceback (most recent call last)",
      "Input \u001b[0;32mIn [7]\u001b[0m, in \u001b[0;36m<cell line: 2>\u001b[0;34m()\u001b[0m\n\u001b[1;32m      1\u001b[0m tup\u001b[38;5;241m=\u001b[39m(\u001b[38;5;241m4\u001b[39m) \n\u001b[0;32m----> 2\u001b[0m \u001b[38;5;28mprint\u001b[39m(\u001b[38;5;28;43mlen\u001b[39;49m\u001b[43m(\u001b[49m\u001b[43mtup\u001b[49m\u001b[43m)\u001b[49m)\n",
      "\u001b[0;31mTypeError\u001b[0m: object of type 'int' has no len()"
     ]
    }
   ],
   "source": [
    "tup=(4) \n",
    "print(len(tup))"
   ]
  },
  {
   "cell_type": "code",
   "execution_count": 3,
   "metadata": {
    "pycharm": {
     "name": "#%%\n"
    }
   },
   "outputs": [
    {
     "name": "stdout",
     "output_type": "stream",
     "text": [
      "[4, 100, 1, 2, 3]\n"
     ]
    }
   ],
   "source": [
    "s=[4,1,2,3] \n",
    "s.insert(1,100) \n",
    "print(s)"
   ]
  },
  {
   "cell_type": "code",
   "execution_count": 1,
   "metadata": {
    "pycharm": {
     "name": "#%%\n"
    }
   },
   "outputs": [
    {
     "name": "stdout",
     "output_type": "stream",
     "text": [
      "4\n"
     ]
    }
   ],
   "source": [
    "    \n",
    "a = 2\n",
    "b = 4\n",
    "  \n",
    "maximum = max(a, b) \n",
    "print(maximum)"
   ]
  },
  {
   "cell_type": "code",
   "execution_count": 5,
   "metadata": {
    "pycharm": {
     "name": "#%%\n"
    }
   },
   "outputs": [
    {
     "ename": "TypeError",
     "evalue": "type() takes 1 or 3 arguments",
     "output_type": "error",
     "traceback": [
      "\u001b[0;31m---------------------------------------------------------------------------\u001b[0m",
      "\u001b[0;31mTypeError\u001b[0m                                 Traceback (most recent call last)",
      "\u001b[0;32m<ipython-input-5-4348bf726407>\u001b[0m in \u001b[0;36m<module>\u001b[0;34m\u001b[0m\n\u001b[0;32m----> 1\u001b[0;31m \u001b[0mprint\u001b[0m\u001b[0;34m(\u001b[0m\u001b[0mtype\u001b[0m\u001b[0;34m(\u001b[0m\u001b[0;36m1\u001b[0m\u001b[0;34m,\u001b[0m\u001b[0;36m2\u001b[0m\u001b[0;34m)\u001b[0m\u001b[0;34m)\u001b[0m\u001b[0;34m\u001b[0m\u001b[0;34m\u001b[0m\u001b[0m\n\u001b[0m",
      "\u001b[0;31mTypeError\u001b[0m: type() takes 1 or 3 arguments"
     ]
    }
   ],
   "source": [
    "print(type(1,2))"
   ]
  },
  {
   "cell_type": "code",
   "execution_count": 1,
   "metadata": {
    "pycharm": {
     "name": "#%%\n"
    }
   },
   "outputs": [
    {
     "ename": "SyntaxError",
     "evalue": "non-default argument follows default argument (2588443845.py, line 1)",
     "output_type": "error",
     "traceback": [
      "\u001b[0;36m  Input \u001b[0;32mIn [1]\u001b[0;36m\u001b[0m\n\u001b[0;31m    def test(a=10,b,c):\u001b[0m\n\u001b[0m                    ^\u001b[0m\n\u001b[0;31mSyntaxError\u001b[0m\u001b[0;31m:\u001b[0m non-default argument follows default argument\n"
     ]
    }
   ],
   "source": [
    "def test(a=10,b,c): \n",
    "    print(a) \n",
    "    test(3,4)"
   ]
  },
  {
   "cell_type": "code",
   "execution_count": 2,
   "metadata": {
    "pycharm": {
     "name": "#%%\n"
    }
   },
   "outputs": [
    {
     "name": "stdout",
     "output_type": "stream",
     "text": [
      "hello\n"
     ]
    }
   ],
   "source": [
    "login = {'user':'scott','password':'hello'} \n",
    "print(login['password'])"
   ]
  },
  {
   "cell_type": "code",
   "execution_count": 10,
   "metadata": {
    "pycharm": {
     "name": "#%%\n"
    }
   },
   "outputs": [],
   "source": [
    "li=[True,'Test',123,{'name':'Sita'},(4,5,6)]"
   ]
  },
  {
   "cell_type": "code",
   "execution_count": 1,
   "metadata": {
    "pycharm": {
     "name": "#%%\n"
    }
   },
   "outputs": [
    {
     "name": "stdout",
     "output_type": "stream",
     "text": [
      "hello\n"
     ]
    }
   ],
   "source": [
    "print (\"hello\")"
   ]
  },
  {
   "cell_type": "code",
   "execution_count": null,
   "metadata": {},
   "outputs": [],
   "source": []
  }
 ],
 "metadata": {
  "kernelspec": {
   "display_name": "Python 3 (ipykernel)",
   "language": "python",
   "name": "python3"
  },
  "language_info": {
   "codemirror_mode": {
    "name": "ipython",
    "version": 3
   },
   "file_extension": ".py",
   "mimetype": "text/x-python",
   "name": "python",
   "nbconvert_exporter": "python",
   "pygments_lexer": "ipython3",
   "version": "3.9.12"
  }
 },
 "nbformat": 4,
 "nbformat_minor": 2
}
