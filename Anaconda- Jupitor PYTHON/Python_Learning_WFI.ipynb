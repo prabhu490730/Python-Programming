{
 "cells": [
  {
   "cell_type": "code",
   "execution_count": null,
   "metadata": {
    "pycharm": {
     "name": "#%%\n"
    }
   },
   "outputs": [
    {
     "name": "stdout",
     "output_type": "stream",
     "text": [
      "\n",
      "Welcome to Python 3.7's help utility!\n",
      "\n",
      "If this is your first time using Python, you should definitely check out\n",
      "the tutorial on the Internet at https://docs.python.org/3.7/tutorial/.\n",
      "\n",
      "Enter the name of any module, keyword, or topic to get help on writing\n",
      "Python programs and using Python modules.  To quit this help utility and\n",
      "return to the interpreter, just type \"quit\".\n",
      "\n",
      "To get a list of available modules, keywords, symbols, or topics, type\n",
      "\"modules\", \"keywords\", \"symbols\", or \"topics\".  Each module also comes\n",
      "with a one-line summary of what it does; to list the modules whose name\n",
      "or summary contain a given string such as \"spam\", type \"modules spam\".\n",
      "\n",
      "help> modules\n",
      "\n",
      "Please wait a moment while I gather a list of all available modules...\n",
      "\n"
     ]
    },
    {
     "name": "stderr",
     "output_type": "stream",
     "text": [
      "/Users/iprabhatkumar/opt/anaconda3/lib/python3.7/site-packages/IPython/kernel/__init__.py:13: ShimWarning: The `IPython.kernel` package has been deprecated since IPython 4.0.You should import from ipykernel or jupyter_client instead.\n",
      "  \"You should import from ipykernel or jupyter_client instead.\", ShimWarning)\n"
     ]
    }
   ],
   "source": [
    "help()"
   ]
  },
  {
   "cell_type": "code",
   "execution_count": 2,
   "metadata": {
    "pycharm": {
     "name": "#%%\n"
    }
   },
   "outputs": [
    {
     "name": "stdout",
     "output_type": "stream",
     "text": [
      "\n",
      "Welcome to Python 3.9's help utility!\n",
      "\n",
      "If this is your first time using Python, you should definitely check out\n",
      "the tutorial on the Internet at https://docs.python.org/3.9/tutorial/.\n",
      "\n",
      "Enter the name of any module, keyword, or topic to get help on writing\n",
      "Python programs and using Python modules.  To quit this help utility and\n",
      "return to the interpreter, just type \"quit\".\n",
      "\n",
      "To get a list of available modules, keywords, symbols, or topics, type\n",
      "\"modules\", \"keywords\", \"symbols\", or \"topics\".  Each module also comes\n",
      "with a one-line summary of what it does; to list the modules whose name\n",
      "or summary contain a given string such as \"spam\", type \"modules spam\".\n",
      "\n",
      "help> module\n",
      "No Python documentation found for 'module'.\n",
      "Use help() to get the interactive help utility.\n",
      "Use help(str) for help on the str class.\n",
      "\n",
      "help> modules\n",
      "\n",
      "Please wait a moment while I gather a list of all available modules...\n",
      "\n"
     ]
    },
    {
     "name": "stderr",
     "output_type": "stream",
     "text": [
      "WARNING: AstropyDeprecationWarning: The private astropy._erfa module has been made into its own package, pyerfa, which is a dependency of astropy and can be imported directly using \"import erfa\" [astropy._erfa]\n",
      "/Users/iprabhatkumar/opt/anaconda3/lib/python3.9/site-packages/nltk/twitter/__init__.py:20: UserWarning: The twython library has not been installed. Some functionality from the twitter package will not be available.\n",
      "  warnings.warn(\n",
      "/Users/iprabhatkumar/opt/anaconda3/lib/python3.9/site-packages/_distutils_hack/__init__.py:30: UserWarning: Setuptools is replacing distutils.\n",
      "  warnings.warn(\"Setuptools is replacing distutils.\")\n",
      "No QCoreApplication instance found. Application patches not applied. You have to call load_stylesheet function after instantiation of QApplication to take effect. \n",
      "/Users/iprabhatkumar/opt/anaconda3/lib/python3.9/pkgutil.py:108: VisibleDeprecationWarning:\n",
      "\n",
      "zmq.eventloop.minitornado is deprecated in pyzmq 14.0 and will be removed.\n",
      "    Install tornado itself to use zmq with the tornado IOLoop.\n",
      "    \n",
      "\n"
     ]
    },
    {
     "name": "stdout",
     "output_type": "stream",
     "text": [
      "Cython              bz2                 jupyterlab_pygments resource\n",
      "IPython             cProfile            jupyterlab_server   rlcompleter\n",
      "OpenSSL             cachetools          jupyterlab_widgets  rope\n",
      "PIL                 calendar            jwt                 rsa\n",
      "PyQt5               certifi             keyring             rtree\n",
      "TBB                 cffi                keyword             ruamel_yaml\n",
      "__future__          cgi                 kiwisolver          runpy\n",
      "_abc                cgitb               lazy_object_proxy   s3transfer\n",
      "_aix_support        chardet             lib2to3             sched\n",
      "_argon2_cffi_bindings charset_normalizer  libarchive          scipy\n",
      "_ast                chunk               libfuturize         scrapy\n",
      "_asyncio            click               libpasteurize       seaborn\n",
      "_bisect             cloudpickle         lief                secrets\n",
      "_black_version      clyent              linecache           select\n",
      "_blake2             cmath               llvmlite            selectors\n",
      "_bootlocale         cmd                 locale              send2trash\n",
      "_bootsubprocess     code                locket              service_identity\n",
      "_bz2                codecs              logging             setuptools\n",
      "_cffi_backend       codeop              lxml                shelve\n",
      "_codecs             collections         lzma                shlex\n",
      "_codecs_cn          colorama            mactypes            shutil\n",
      "_codecs_hk          colorcet            mailbox             signal\n",
      "_codecs_iso2022     colorsys            mailcap             sip\n",
      "_codecs_jp          compileall          markdown            sipconfig\n",
      "_codecs_kr          concurrent          markupsafe          sipdistutils\n",
      "_codecs_tw          conda               marshal             site\n",
      "_collections        conda_build         math                six\n",
      "_collections_abc    conda_content_trust matplotlib          skimage\n",
      "_compat_pickle      conda_env           matplotlib_inline   sklearn\n",
      "_compression        conda_pack          mccabe              sklearnex\n",
      "_contextvars        conda_package_handling mimetypes           slugify\n",
      "_crypt              conda_token         mistune             smart_open\n",
      "_csv                conda_verify        mkl                 smtpd\n",
      "_ctypes             configparser        mkl_fft             smtplib\n",
      "_ctypes_test        constantly          mkl_random          snappy\n",
      "_curses             contextlib          mmap                sndhdr\n",
      "_curses_panel       contextvars         mock                sniffio\n",
      "_datetime           cookiecutter        modulefinder        snowballstemmer\n",
      "_dbm                copy                mpmath              socket\n",
      "_decimal            copyreg             msgpack             socketserver\n",
      "_distutils_hack     crypt               multidict           socks\n",
      "_elementtree        cryptography        multipledispatch    sockshandler\n",
      "_functools          cssselect           multiprocessing     sortedcollections\n",
      "_hashlib            csv                 munkres             sortedcontainers\n",
      "_heapq              ctypes              mypy_extensions     soupsieve\n",
      "_imp                curl                navigator_updater   sphinx\n",
      "_io                 curses              nbclassic           spyder\n",
      "_json               cycler              nbclient            spyder_kernels\n",
      "_locale             cython              nbconvert           sqlalchemy\n",
      "_lsprof             cytoolz             nbformat            sqlite3\n",
      "_lzma               daal4py             nest_asyncio        sre_compile\n",
      "_markupbase         dask                netrc               sre_constants\n",
      "_md5                dataclasses         networkx            sre_parse\n",
      "_multibytecodec     datashader          nis                 ssl\n",
      "_multiprocessing    datashape           nltk                stack_data\n",
      "_opcode             datetime            nntplib             stat\n",
      "_operator           dateutil            nose                statistics\n",
      "_osx_support        dbm                 notebook            statsmodels\n",
      "_peg_parser         debugpy             ntpath              string\n",
      "_pickle             decimal             nturl2path          stringprep\n",
      "_plotly_future_     decorator           numba               struct\n",
      "_plotly_utils       defusedxml          numbergen           subprocess\n",
      "_posixshmem         diff_match_patch    numbers             sunau\n",
      "_posixsubprocess    difflib             numexpr             symbol\n",
      "_py_abc             dis                 numpy               sympy\n",
      "_pydecimal          distributed         numpydoc            symtable\n",
      "_pyio               distutils           olefile             sys\n",
      "_pyrsistent_version doctest             onedal              sysconfig\n",
      "_pytest             docutils            opcode              syslog\n",
      "_queue              email               openpyxl            tables\n",
      "_random             encodings           operator            tabnanny\n",
      "_scproxy            ensurepip           optparse            tabulate\n",
      "_sha1               entrypoints         os                  tarfile\n",
      "_sha256             enum                osax                tbb\n",
      "_sha3               erfa                packaging           tblib\n",
      "_sha512             errno               pandas              telnetlib\n",
      "_signal             et_xmlfile          pandocfilters       tempfile\n",
      "_sitebuiltins       executing           panel               tenacity\n",
      "_socket             fastjsonschema      param               terminado\n",
      "_sqlite3            faulthandler        parsel              termios\n",
      "_sre                fcntl               parser              test\n",
      "_ssl                filecmp             parso               test_pycosat\n",
      "_stat               fileinput           partd               testpath\n",
      "_statistics         filelock            past                text_unidecode\n",
      "_string             flake8              pathlib             textdistance\n",
      "_strptime           flask               pathspec            textwrap\n",
      "_struct             fnmatch             patsy               this\n",
      "_symtable           fontTools           pdb                 threading\n",
      "_sysconfigdata__darwin_darwin formatter           pep8                threadpoolctl\n",
      "_sysconfigdata_x86_64_apple_darwin13_4_0 fractions           pexpect             three_merge\n",
      "_testbuffer         frozenlist          pickle              tifffile\n",
      "_testcapi           fsspec              pickleshare         time\n",
      "_testimportmultiple ftplib              pickletools         timeit\n",
      "_testinternalcapi   functools           pip                 tinycss\n",
      "_testmultiphase     future              pipes               tkinter\n",
      "_thread             gc                  pkg_resources       tldextract\n",
      "_threading_local    genericpath         pkginfo             tlz\n",
      "_tkinter            gensim              pkgutil             token\n",
      "_tracemalloc        getopt              platform            tokenize\n",
      "_uuid               getpass             plistlib            toml\n",
      "_warnings           gettext             plotly              tomli\n",
      "_watchdog_fsevents  glob                pluggy              toolz\n",
      "_weakref            glob2               poplib              tornado\n",
      "_weakrefset         gmpy2               posix               tqdm\n",
      "_xxsubinterpreters  google_crc32c       posixpath           trace\n",
      "_xxtestfuzz         graphlib            poyo                traceback\n",
      "_yaml               greenlet            pprint              tracemalloc\n",
      "_zoneinfo           grp                 profile             traitlets\n",
      "abc                 grpc                prometheus_client   tty\n",
      "aem                 gzip                prompt_toolkit      turtle\n",
      "aifc                h5py                protego             turtledemo\n",
      "aiohttp             hamcrest            pstats              twisted\n",
      "aiosignal           hashlib             psutil              typed_ast\n",
      "alabaster           heapdict            pty                 types\n",
      "anaconda_navigator  heapq               ptyprocess          typing\n",
      "anaconda_project    hmac                pure_eval           typing_extensions\n",
      "antigravity         holoviews           pvectorc            ujson\n",
      "anyio               html                pwd                 unicodedata\n",
      "appdirs             http                py                  unidecode\n",
      "applaunchservices   hvplot              py_compile          unittest\n",
      "appnope             hyperlink           pyasn1              urllib\n",
      "appscript           idlelib             pyasn1_modules      urllib3\n",
      "argon2              idna                pyclbr              uu\n",
      "argparse            imagecodecs         pycodestyle         uuid\n",
      "array               imageio             pycosat             venv\n",
      "arrow               imagesize           pycparser           w3lib\n",
      "ast                 imaplib             pyct                warnings\n",
      "astroid             imghdr              pycurl              watchdog\n",
      "astropy             imp                 pydispatch          wave\n",
      "asttokens           importlib           pydoc               wcwidth\n",
      "async_timeout       importlib_metadata  pydoc_data          weakref\n",
      "asynchat            incremental         pydocstyle          webbrowser\n",
      "asyncio             inflection          pyexpat             webencodings\n",
      "asyncore            iniconfig           pyflakes            websocket\n",
      "atexit              inspect             pygments            werkzeug\n",
      "atomicwrites        intake              pylab               wheel\n",
      "attr                intervaltree        pylint              widgetsnbextension\n",
      "attrs               io                  pyls_spyder         wrapt\n",
      "audioop             ipaddress           pylsp               wsgiref\n",
      "automat             ipykernel           pylsp_black         wurlitzer\n",
      "autopep8            ipykernel_launcher  pylsp_jsonrpc       xarray\n",
      "babel               ipython_genutils    pyodbc              xdrlib\n",
      "backcall            ipywidgets          pyparsing           xlrd\n",
      "backports           isort               pyrsistent          xlsxwriter\n",
      "base64              isympy              pytest              xlwings\n",
      "bcrypt              itemadapter         pytz                xml\n",
      "bdb                 itemloaders         pyviz_comms         xmlrpc\n",
      "binaryornot         itertools           pywt                xxlimited\n",
      "binascii            itsdangerous        pyximport           xxsubtype\n",
      "binhex              jdcal               qdarkstyle          yaml\n",
      "binstar_client      jedi                qstylizer           yapf\n",
      "bisect              jinja2              qtawesome           yapftests\n",
      "bitarray            jinja2_time         qtconsole           yarl\n",
      "bkcharts            jmespath            qtpy                zict\n",
      "black               joblib              queue               zipapp\n",
      "blackd              json                queuelib            zipfile\n",
      "bleach              json5               quopri              zipimport\n",
      "blib2to3            jsonschema          random              zipp\n",
      "bokeh               jupyter             re                  zlib\n",
      "boto3               jupyter_client      readline            zmq\n",
      "botocore            jupyter_console     regex               zoneinfo\n",
      "bottleneck          jupyter_core        repo_cli            zope\n",
      "brotli              jupyter_server      reprlib             \n",
      "bs4                 jupyterlab          requests            \n",
      "builtins            jupyterlab_plotly   requests_file       \n",
      "\n",
      "Enter any module name to get more help.  Or, type \"modules spam\" to search\n",
      "for modules whose name or summary contain the string \"spam\".\n",
      "\n"
     ]
    },
    {
     "name": "stdout",
     "output_type": "stream",
     "text": [
      "help> modules math\n",
      "\n",
      "Here is a list of modules whose name or summary contains 'math'.\n",
      "If there are any, enter a module name to get more help.\n",
      "\n",
      "cmath \n",
      "math \n",
      "PIL.ImageMath \n",
      "PIL._imagingmath \n",
      "astroid.brain.brain_numpy_core_umath - Astroid hooks for numpy.core.umath module.\n",
      "astropy.io.misc.asdf.tags.transform.math \n",
      "astropy.modeling.functional_models - Mathematical models.\n",
      "astropy.modeling.math_functions - Define Numpy Ufuncs as Models.\n",
      "astropy.modeling.tests.test_math_func \n",
      "docutils.utils.math - This is the Docutils (Python Documentation Utilities) \"math\" sub-package.\n",
      "docutils.utils.math.latex2mathml - Convert LaTex math code into presentational MathML\n",
      "docutils.utils.math.math2html \n",
      "docutils.utils.math.tex2mathml_extern \n",
      "docutils.utils.math.tex2unichar \n",
      "docutils.utils.math.unichar2tex \n",
      "gensim.corpora.mmcorpus - Corpus in the `Matrix Market format <https://math.nist.gov/MatrixMarket/formats.html>`_.\n",
      "gensim.matutils - Math helper functions.\n",
      "gensim.test.test_ldaseqmodel - Tests to check DTM math functions and Topic-Word, Doc-Topic proportions.\n",
      "matplotlib._mathtext - Implementation details for :mod:`.mathtext`.\n",
      "matplotlib._mathtext_data - font data tables for truetype and afm computer modern fonts\n",
      "matplotlib.mathtext - A module for parsing a subset of the TeX math syntax and rendering it to a\n",
      "matplotlib.sphinxext.mathmpl - A role and directive to display mathtext in Sphinx\n",
      "mpmath \n",
      "mpmath.calculus \n",
      "mpmath.calculus.approximation \n",
      "mpmath.calculus.calculus \n",
      "mpmath.calculus.differentiation \n",
      "mpmath.calculus.extrapolation \n",
      "mpmath.calculus.inverselaplace \n",
      "mpmath.calculus.odes \n",
      "mpmath.calculus.optimization \n",
      "mpmath.calculus.polynomials \n",
      "mpmath.calculus.quadrature \n",
      "mpmath.ctx_base \n",
      "mpmath.ctx_fp \n",
      "mpmath.ctx_iv \n",
      "mpmath.ctx_mp - This module defines the mpf, mpc classes, and standard functions for\n",
      "mpmath.ctx_mp_python \n",
      "mpmath.function_docs - Extended docstrings for functions.py\n",
      "mpmath.functions \n",
      "mpmath.functions.bessel \n",
      "mpmath.functions.elliptic - Elliptic functions historically comprise the elliptic integrals\n",
      "mpmath.functions.expintegrals \n",
      "mpmath.functions.factorials \n",
      "mpmath.functions.functions \n",
      "mpmath.functions.hypergeometric \n",
      "mpmath.functions.orthogonal \n",
      "mpmath.functions.qfunctions \n",
      "mpmath.functions.rszeta - ---------------------------------------------------------------------\n",
      "mpmath.functions.theta \n",
      "mpmath.functions.zeta \n",
      "mpmath.functions.zetazeros - The function zetazero(n) computes the n-th nontrivial zero of zeta(s).\n",
      "mpmath.identification - Implements the PSLQ algorithm for integer relation detection,\n",
      "mpmath.libmp \n",
      "mpmath.libmp.backend \n",
      "mpmath.libmp.gammazeta - -----------------------------------------------------------------------\n",
      "mpmath.libmp.libelefun - This module implements computation of elementary transcendental\n",
      "mpmath.libmp.libhyper - This module implements computation of hypergeometric and related\n",
      "mpmath.libmp.libintmath - Utility functions for integer math.\n",
      "mpmath.libmp.libmpc - Low-level functions for complex arithmetic.\n",
      "mpmath.libmp.libmpf - Low-level functions for arbitrary-precision floating-point arithmetic.\n",
      "mpmath.libmp.libmpi - Computational functions for interval arithmetic.\n",
      "mpmath.math2 - This module complements the math and cmath builtin modules by providing\n",
      "mpmath.matrices \n",
      "mpmath.matrices.calculus \n",
      "mpmath.matrices.eigen - The eigenvalue problem\n",
      "mpmath.matrices.eigen_symmetric - The symmetric eigenvalue problem.\n",
      "mpmath.matrices.linalg - Linear algebra\n",
      "mpmath.matrices.matrices \n",
      "mpmath.rational \n",
      "mpmath.tests \n",
      "mpmath.tests.extratest_gamma \n",
      "mpmath.tests.extratest_zeta \n",
      "mpmath.tests.runtests - python runtests.py -py\n",
      "mpmath.tests.test_basic_ops \n",
      "mpmath.tests.test_bitwise - Test bit-level integer and mpf operations\n",
      "mpmath.tests.test_calculus \n",
      "mpmath.tests.test_compatibility \n",
      "mpmath.tests.test_convert \n",
      "mpmath.tests.test_diff \n",
      "mpmath.tests.test_division \n",
      "mpmath.tests.test_eigen \n",
      "mpmath.tests.test_eigen_symmetric \n",
      "mpmath.tests.test_elliptic - Limited tests of the elliptic functions module.  A full suite of\n",
      "mpmath.tests.test_fp - Easy-to-use test-generating code:\n",
      "mpmath.tests.test_functions \n",
      "mpmath.tests.test_functions2 \n",
      "mpmath.tests.test_gammazeta \n",
      "mpmath.tests.test_hp - Check that the output from irrational functions is accurate for\n",
      "mpmath.tests.test_identify \n",
      "mpmath.tests.test_interval \n",
      "mpmath.tests.test_levin \n",
      "mpmath.tests.test_linalg \n",
      "mpmath.tests.test_matrices \n",
      "mpmath.tests.test_mpmath \n",
      "mpmath.tests.test_ode \n",
      "mpmath.tests.test_pickle \n",
      "mpmath.tests.test_power \n",
      "mpmath.tests.test_quad \n",
      "mpmath.tests.test_rootfinding \n",
      "mpmath.tests.test_special \n",
      "mpmath.tests.test_str \n",
      "mpmath.tests.test_summation \n",
      "mpmath.tests.test_trig \n",
      "mpmath.tests.test_visualization - Limited tests of the visualization module. Right now it just makes\n",
      "mpmath.tests.torture - Torture tests for asymptotics and high precision evaluation of\n",
      "mpmath.usertools \n",
      "mpmath.visualization - Plotting (requires matplotlib)\n",
      "numba.core.fastmathpass \n",
      "numba.core.intrinsics - LLVM pass that converts intrinsic into other math calls\n",
      "numba.core.typing.cmathdecl \n",
      "numba.core.typing.mathdecl \n",
      "numba.cpython.cmathimpl - Implement the cmath module functions.\n",
      "numba.cpython.mathimpl - Provide math calls that uses intrinsics or libc math functions.\n",
      "numba.cuda.cudamath \n",
      "numba.cuda.mathimpl \n",
      "numba.cuda.tests.cudapy.test_fastmath \n",
      "numba.cuda.tests.cudapy.test_math \n",
      "numba.np.arraymath - Implementation of math operations on Array objects.\n",
      "numba.tests.test_fastmath \n",
      "numba.tests.test_mathlib \n",
      "numpy.core._multiarray_umath \n",
      "numpy.core._umath_tests \n",
      "numpy.core.tests.test_scalarmath \n",
      "numpy.core.tests.test_umath \n",
      "numpy.core.tests.test_umath_accuracy \n",
      "numpy.core.tests.test_umath_complex \n",
      "numpy.core.umath - Create the numpy.core.umath namespace for backward compatibility. In v1.16\n",
      "numpy.core.umath_tests - Shim for _umath_tests to allow a deprecation period for the new name.\n",
      "numpy.lib.scimath - Wrapper functions to more user-friendly calling of certain math functions\n",
      "numpy.linalg._umath_linalg \n",
      "openpyxl.compat.product - math.prod equivalent for < Python 3.8\n",
      "panel.models.mathjax - Defines a custom MathJax bokeh model to render text using MathJax.\n",
      "pygments.lexers.math - pygments.lexers.math\n",
      "rsa.core - Core mathematical operations.\n",
      "scipy.signal.tests.mpsig - Some signal functions implemented using mpmath.\n",
      "scipy.special.tests.test_cdflib - Test cdflib functions versus mpmath, if available.\n",
      "scipy.special.tests.test_mpmath - Test SciPy functions versus mpmath, if available.\n",
      "scipy.stats.tests.studentized_range_mpmath_ref \n",
      "sklearn.utils.extmath - Extended math utilities.\n",
      "sklearn.utils.tests.test_extmath \n",
      "sphinx.domains.math - sphinx.domains.math\n",
      "sphinx.ext.imgmath - sphinx.ext.imgmath\n",
      "sphinx.ext.mathjax - sphinx.ext.mathjax\n",
      "sphinx.util.math - sphinx.util.math\n",
      "sympy - SymPy is a Python library for symbolic mathematics. It aims to become a\n",
      "sympy.assumptions.relation.equality - Module for mathematical equality [1] and inequalities [2].\n",
      "sympy.codegen.cfunctions - This module contains SymPy functions mathcin corresponding to special math functions in the\n",
      "sympy.core.evalf - Adaptive numerical evaluation of SymPy expressions, using mpmath\n",
      "sympy.functions.special.mathieu_functions - This module contains the Mathieu functions.\n",
      "sympy.functions.special.tests.test_mathieu \n",
      "sympy.integrals.rubi.parsetools.parse - Parser for FullForm[Downvalues[]] of Mathematica rules.\n",
      "sympy.parsing.mathematica \n",
      "sympy.parsing.tests.test_mathematica \n",
      "sympy.plotting.intervalmath \n",
      "sympy.plotting.intervalmath.interval_arithmetic - Interval Arithmetic for plotting.\n",
      "sympy.plotting.intervalmath.interval_membership \n",
      "sympy.plotting.intervalmath.lib_interval - The module contains implemented functions for interval arithmetic.\n",
      "sympy.plotting.intervalmath.tests \n",
      "sympy.plotting.intervalmath.tests.test_interval_functions \n",
      "sympy.plotting.intervalmath.tests.test_interval_membership \n",
      "sympy.plotting.intervalmath.tests.test_intervalmath \n",
      "sympy.polys.domains - Implementation of mathematical domains.\n",
      "sympy.polys.domains.groundtypes - Ground types for various mathematical domains in SymPy.\n",
      "sympy.printing.mathematica - Mathematica code printer\n",
      "sympy.printing.mathml - A MathML printer.\n",
      "sympy.printing.tests.test_mathematica \n",
      "sympy.printing.tests.test_mathml \n",
      "sympy.utilities.mathml - Module with some functions for MathML, like transforming MathML\n",
      "sympy.utilities.tests.test_wester - Tests from Michael Wester's 1999 paper \"Review of CAS mathematical\n"
     ]
    },
    {
     "name": "stdout",
     "output_type": "stream",
     "text": [
      "\n",
      "\n",
      "You are now leaving help and returning to the Python interpreter.\n",
      "If you want to ask for help on a particular object directly from the\n",
      "interpreter, you can type \"help(object)\".  Executing \"help('string')\"\n",
      "has the same effect as typing a particular string at the help> prompt.\n"
     ]
    }
   ],
   "source": [
    "help()"
   ]
  },
  {
   "cell_type": "code",
   "execution_count": 6,
   "metadata": {
    "pycharm": {
     "name": "#%%\n"
    }
   },
   "outputs": [
    {
     "data": {
      "text/plain": [
       "3.0"
      ]
     },
     "execution_count": 6,
     "metadata": {},
     "output_type": "execute_result"
    }
   ],
   "source": [
    "2+2/2"
   ]
  },
  {
   "cell_type": "code",
   "execution_count": 8,
   "metadata": {
    "pycharm": {
     "name": "#%%\n"
    }
   },
   "outputs": [
    {
     "data": {
      "text/plain": [
       "4"
      ]
     },
     "execution_count": 8,
     "metadata": {},
     "output_type": "execute_result"
    }
   ],
   "source": [
    "2+2"
   ]
  },
  {
   "cell_type": "code",
   "execution_count": 11,
   "metadata": {
    "pycharm": {
     "name": "#%%\n"
    }
   },
   "outputs": [
    {
     "name": "stdout",
     "output_type": "stream",
     "text": [
      "Hi Prabhat\n"
     ]
    }
   ],
   "source": [
    "User = \"Prabhat\"\n",
    "print (\"Hi\", User)"
   ]
  },
  {
   "cell_type": "code",
   "execution_count": 12,
   "metadata": {
    "pycharm": {
     "name": "#%%\n"
    }
   },
   "outputs": [
    {
     "data": {
      "text/plain": [
       "'Mon Jun  6 10:59:21 2022'"
      ]
     },
     "execution_count": 12,
     "metadata": {},
     "output_type": "execute_result"
    }
   ],
   "source": [
    "import time\n",
    "time.ctime(time.time())"
   ]
  },
  {
   "cell_type": "code",
   "execution_count": 15,
   "metadata": {
    "pycharm": {
     "name": "#%%\n"
    },
    "scrolled": true
   },
   "outputs": [
    {
     "data": {
      "text/plain": [
       "0.8939966636005579"
      ]
     },
     "execution_count": 15,
     "metadata": {},
     "output_type": "execute_result"
    }
   ],
   "source": [
    "import math\n",
    "math.sin(90)"
   ]
  },
  {
   "cell_type": "code",
   "execution_count": 18,
   "metadata": {
    "pycharm": {
     "name": "#%%\n"
    }
   },
   "outputs": [
    {
     "name": "stdout",
     "output_type": "stream",
     "text": [
      "Enter Your Name:Prabhat\n",
      "Hi Prabhat\n"
     ]
    }
   ],
   "source": [
    "name = input(\"Enter Your Name:\")\n",
    "print (\"Hi\", name)"
   ]
  },
  {
   "cell_type": "markdown",
   "metadata": {
    "pycharm": {
     "name": "#%% md\n"
    }
   },
   "source": [
    "# Indentation: Just a Tab Space in your code will make difference in your O/P"
   ]
  },
  {
   "cell_type": "code",
   "execution_count": 24,
   "metadata": {
    "pycharm": {
     "name": "#%%\n"
    }
   },
   "outputs": [
    {
     "name": "stdout",
     "output_type": "stream",
     "text": [
      "Let's Code Python\n",
      "Completed\n",
      "Let's Code Python\n",
      "Completed\n",
      "Let's Code Python\n",
      "Completed\n"
     ]
    }
   ],
   "source": [
    "for i in range(3):\n",
    "    print(\"Let's Code Python\")\n",
    "    print(\"Completed\")"
   ]
  },
  {
   "cell_type": "code",
   "execution_count": 21,
   "metadata": {
    "pycharm": {
     "name": "#%%\n"
    }
   },
   "outputs": [
    {
     "name": "stdout",
     "output_type": "stream",
     "text": [
      "Let's Code Python\n",
      "Let's Code Python\n",
      "Let's Code Python\n",
      "Completed\n"
     ]
    }
   ],
   "source": [
    "for i in range(3):\n",
    "    print(\"Let's Code Python\")\n",
    "print(\"Completed\")"
   ]
  },
  {
   "cell_type": "code",
   "execution_count": 22,
   "metadata": {
    "pycharm": {
     "name": "#%%\n"
    }
   },
   "outputs": [
    {
     "ename": "IndentationError",
     "evalue": "unexpected indent (462178386.py, line 3)",
     "output_type": "error",
     "traceback": [
      "\u001B[0;36m  Input \u001B[0;32mIn [22]\u001B[0;36m\u001B[0m\n\u001B[0;31m    print(\"Completed\")\u001B[0m\n\u001B[0m    ^\u001B[0m\n\u001B[0;31mIndentationError\u001B[0m\u001B[0;31m:\u001B[0m unexpected indent\n"
     ]
    }
   ],
   "source": [
    "for i in range(3):\n",
    "    print(\"Let's Code Python\")\n",
    "        print(\"Completed\")"
   ]
  },
  {
   "cell_type": "code",
   "execution_count": 28,
   "metadata": {
    "pycharm": {
     "name": "#%%\n"
    },
    "scrolled": false
   },
   "outputs": [
    {
     "ename": "IndentationError",
     "evalue": "expected an indented block (1255753117.py, line 4)",
     "output_type": "error",
     "traceback": [
      "\u001B[0;36m  Input \u001B[0;32mIn [28]\u001B[0;36m\u001B[0m\n\u001B[0;31m    print(i)\u001B[0m\n\u001B[0m    ^\u001B[0m\n\u001B[0;31mIndentationError\u001B[0m\u001B[0;31m:\u001B[0m expected an indented block\n"
     ]
    }
   ],
   "source": [
    "# print numbers from 5 to 10\n",
    "# You'll have to provide Max. num+1 value atleast; If you give only till 10 then you'll have O/P till 9 only.\n",
    "for i in range(5, 11):\n",
    "print(i)"
   ]
  },
  {
   "cell_type": "code",
   "execution_count": 29,
   "metadata": {
    "pycharm": {
     "name": "#%%\n"
    },
    "scrolled": true
   },
   "outputs": [
    {
     "name": "stdout",
     "output_type": "stream",
     "text": [
      "5\n",
      "6\n",
      "7\n",
      "8\n",
      "9\n",
      "10\n"
     ]
    }
   ],
   "source": [
    "\n",
    "for i in range(5, 11):\n",
    "    print(i)"
   ]
  },
  {
   "cell_type": "code",
   "execution_count": 35,
   "metadata": {
    "pycharm": {
     "name": "#%%\n"
    }
   },
   "outputs": [
    {
     "name": "stdout",
     "output_type": "stream",
     "text": [
      "Number =  10\n",
      "Square = 100\n",
      "Number =  11\n",
      "Square = 121\n",
      "Number =  12\n",
      "Square = 144\n",
      "Number =  13\n",
      "Square = 169\n",
      "Number =  14\n",
      "Square = 196\n",
      "Number =  15\n",
      "Square = 225\n"
     ]
    }
   ],
   "source": [
    "# print numbers and Sqaurs from 10 to 15\n",
    "for i in range (10, 16):\n",
    "    print(\"Number = \",i)\n",
    "    print(\"Square =\",i*i)"
   ]
  },
  {
   "cell_type": "code",
   "execution_count": 38,
   "metadata": {
    "pycharm": {
     "name": "#%%\n"
    }
   },
   "outputs": [
    {
     "name": "stdout",
     "output_type": "stream",
     "text": [
      "Square = 100\n",
      "Square = 121\n",
      "Square = 144\n",
      "Square = 169\n",
      "Square = 196\n",
      "Square = 225\n"
     ]
    }
   ],
   "source": [
    "# print Sqaurs from 10 to 15\n",
    "for i in range (10, 16):\n",
    "    print(\"Square =\",i*i)"
   ]
  },
  {
   "cell_type": "code",
   "execution_count": 39,
   "metadata": {
    "pycharm": {
     "name": "#%%\n"
    }
   },
   "outputs": [
    {
     "name": "stdout",
     "output_type": "stream",
     "text": [
      "Square = 100\n",
      "Mod = 0\n",
      "Square = 121\n",
      "Mod = 0\n",
      "Square = 144\n",
      "Mod = 0\n",
      "Square = 169\n",
      "Mod = 0\n",
      "Square = 196\n",
      "Mod = 0\n",
      "Square = 225\n",
      "Mod = 0\n"
     ]
    }
   ],
   "source": [
    "# print Sqaurs and Mod from 10 to 15\n",
    "for i in range (10, 16):\n",
    "    print(\"Square =\",i*i)\n",
    "    print(\"Mod =\", i%i)"
   ]
  },
  {
   "cell_type": "code",
   "execution_count": 44,
   "metadata": {
    "pycharm": {
     "name": "#%%\n"
    }
   },
   "outputs": [
    {
     "name": "stdout",
     "output_type": "stream",
     "text": [
      "20\n",
      "22\n",
      "24\n",
      "26\n",
      "28\n",
      "30\n",
      "10\n",
      "9\n",
      "8\n",
      "7\n",
      "6\n"
     ]
    }
   ],
   "source": [
    "# Print from 20 to 30 in steps. of 2\n",
    "for j in range (20,31, +2):\n",
    "    print (j)\n",
    "#Count Down\n",
    "for k in range (10,5, -1):\n",
    "    print (k)"
   ]
  },
  {
   "cell_type": "code",
   "execution_count": 48,
   "metadata": {
    "pycharm": {
     "name": "#%%\n"
    }
   },
   "outputs": [
    {
     "name": "stdout",
     "output_type": "stream",
     "text": [
      "1 * 1 = 1\n",
      "1 * 2 = 2\n",
      "1 * 3 = 3\n",
      "1 * 4 = 4\n",
      "1 * 5 = 5\n",
      "1 * 6 = 6\n",
      "1 * 7 = 7\n",
      "1 * 8 = 8\n",
      "1 * 9 = 9\n",
      "1 * 10 = 10\n",
      "______*******______\n",
      "2 * 1 = 2\n",
      "2 * 2 = 4\n",
      "2 * 3 = 6\n",
      "2 * 4 = 8\n",
      "2 * 5 = 10\n",
      "2 * 6 = 12\n",
      "2 * 7 = 14\n",
      "2 * 8 = 16\n",
      "2 * 9 = 18\n",
      "2 * 10 = 20\n",
      "______*******______\n",
      "3 * 1 = 3\n",
      "3 * 2 = 6\n",
      "3 * 3 = 9\n",
      "3 * 4 = 12\n",
      "3 * 5 = 15\n",
      "3 * 6 = 18\n",
      "3 * 7 = 21\n",
      "3 * 8 = 24\n",
      "3 * 9 = 27\n",
      "3 * 10 = 30\n",
      "______*******______\n",
      "4 * 1 = 4\n",
      "4 * 2 = 8\n",
      "4 * 3 = 12\n",
      "4 * 4 = 16\n",
      "4 * 5 = 20\n",
      "4 * 6 = 24\n",
      "4 * 7 = 28\n",
      "4 * 8 = 32\n",
      "4 * 9 = 36\n",
      "4 * 10 = 40\n",
      "______*******______\n",
      "5 * 1 = 5\n",
      "5 * 2 = 10\n",
      "5 * 3 = 15\n",
      "5 * 4 = 20\n",
      "5 * 5 = 25\n",
      "5 * 6 = 30\n",
      "5 * 7 = 35\n",
      "5 * 8 = 40\n",
      "5 * 9 = 45\n",
      "5 * 10 = 50\n",
      "______*******______\n",
      "6 * 1 = 6\n",
      "6 * 2 = 12\n",
      "6 * 3 = 18\n",
      "6 * 4 = 24\n",
      "6 * 5 = 30\n",
      "6 * 6 = 36\n",
      "6 * 7 = 42\n",
      "6 * 8 = 48\n",
      "6 * 9 = 54\n",
      "6 * 10 = 60\n",
      "______*******______\n",
      "7 * 1 = 7\n",
      "7 * 2 = 14\n",
      "7 * 3 = 21\n",
      "7 * 4 = 28\n",
      "7 * 5 = 35\n",
      "7 * 6 = 42\n",
      "7 * 7 = 49\n",
      "7 * 8 = 56\n",
      "7 * 9 = 63\n",
      "7 * 10 = 70\n",
      "______*******______\n",
      "8 * 1 = 8\n",
      "8 * 2 = 16\n",
      "8 * 3 = 24\n",
      "8 * 4 = 32\n",
      "8 * 5 = 40\n",
      "8 * 6 = 48\n",
      "8 * 7 = 56\n",
      "8 * 8 = 64\n",
      "8 * 9 = 72\n",
      "8 * 10 = 80\n",
      "______*******______\n",
      "9 * 1 = 9\n",
      "9 * 2 = 18\n",
      "9 * 3 = 27\n",
      "9 * 4 = 36\n",
      "9 * 5 = 45\n",
      "9 * 6 = 54\n",
      "9 * 7 = 63\n",
      "9 * 8 = 72\n",
      "9 * 9 = 81\n",
      "9 * 10 = 90\n",
      "______*******______\n",
      "10 * 1 = 10\n",
      "10 * 2 = 20\n",
      "10 * 3 = 30\n",
      "10 * 4 = 40\n",
      "10 * 5 = 50\n",
      "10 * 6 = 60\n",
      "10 * 7 = 70\n",
      "10 * 8 = 80\n",
      "10 * 9 = 90\n",
      "10 * 10 = 100\n",
      "______*******______\n"
     ]
    }
   ],
   "source": [
    "for x in range (1,11):\n",
    "    for y in range (1,11):\n",
    "        print(x, '*', y, '=', x*y)\n",
    "    print(\"______*******______\")"
   ]
  },
  {
   "cell_type": "code",
   "execution_count": 51,
   "metadata": {
    "pycharm": {
     "name": "#%%\n"
    }
   },
   "outputs": [
    {
     "name": "stdout",
     "output_type": "stream",
     "text": [
      "3 + 3 = 6\n",
      "3 + 4 = 7\n",
      "3 + 5 = 8\n",
      "______*******______\n",
      "4 + 3 = 7\n",
      "4 + 4 = 8\n",
      "4 + 5 = 9\n",
      "______*******______\n",
      "5 + 3 = 8\n",
      "5 + 4 = 9\n",
      "5 + 5 = 10\n",
      "______*******______\n"
     ]
    }
   ],
   "source": [
    "for x in range (3,6):\n",
    "    for y in range (3,6):\n",
    "        print(x, '+', y, '=', x+y) #Addition here for x and y\n",
    "    print(\"______*******______\")"
   ]
  },
  {
   "cell_type": "code",
   "execution_count": 1,
   "metadata": {
    "pycharm": {
     "name": "#%%\n"
    }
   },
   "outputs": [
    {
     "name": "stdout",
     "output_type": "stream",
     "text": [
      "Enter Your value or something:prabhu\n",
      "You have entered 6 value/characters\n",
      "Enter Some values:6\n",
      "You have entered 1 value/characters\n",
      "Enter Some values:Prabhat\n",
      "You have entered 7 value/characters\n",
      "Enter Some values:\n",
      "End of Program/Code\n"
     ]
    }
   ],
   "source": [
    "#While Condition: This program will never end unless you enter \"Blank or Nothing or the moment you don't give any value and hit enter\"\n",
    "\n",
    "\n",
    "text = input(\"Enter Your value or something:\")\n",
    "while len(text) > 0:\n",
    "    print(\"You have entered {} value/characters\".format(len(text)))\n",
    "    text = input(\"Enter Some values:\")\n",
    "print(\"End of Program/Code\")\n"
   ]
  },
  {
   "cell_type": "code",
   "execution_count": null,
   "metadata": {
    "pycharm": {
     "name": "#%%\n"
    }
   },
   "outputs": [],
   "source": [
    "#This is how you fix the above code and make this perfect when you exit the code"
   ]
  },
  {
   "cell_type": "code",
   "execution_count": 2,
   "metadata": {
    "pycharm": {
     "name": "#%%\n"
    },
    "scrolled": true
   },
   "outputs": [
    {
     "name": "stdout",
     "output_type": "stream",
     "text": [
      "Enter Some values:Prabhu\n",
      "You have entered 6 value/characters\n",
      "Enter Some values:5\n",
      "You have entered 1 value/characters\n",
      "Enter Some values:\n",
      "You have entered 0 value/characters\n",
      "End of Program/Code\n"
     ]
    }
   ],
   "source": [
    "while True:\n",
    "    text = input(\"Enter Some values:\")\n",
    "    print(\"You have entered {} value/characters\".format(len(text)))\n",
    "    if len(text) == 0:\n",
    "        break\n",
    "print(\"End of Program/Code\")"
   ]
  },
  {
   "cell_type": "code",
   "execution_count": 4,
   "metadata": {
    "pycharm": {
     "name": "#%%\n"
    }
   },
   "outputs": [
    {
     "name": "stdout",
     "output_type": "stream",
     "text": [
      "You're Overweight\n"
     ]
    }
   ],
   "source": [
    "weight = 95\n",
    "\n",
    "if weight < 55:\n",
    "    print(\"You're UnderWeight\")\n",
    "elif weight > 85:\n",
    "    print(\"You're Overweight\")\n",
    "else:\n",
    "    print(\"You're doing good, Keep Exercising\")"
   ]
  },
  {
   "cell_type": "code",
   "execution_count": 10,
   "metadata": {
    "pycharm": {
     "name": "#%%\n"
    },
    "scrolled": true
   },
   "outputs": [
    {
     "name": "stdout",
     "output_type": "stream",
     "text": [
      "Enter Your Weight: 95\n",
      "Your weight is 95\n"
     ]
    },
    {
     "ename": "TypeError",
     "evalue": "'<' not supported between instances of 'str' and 'int'",
     "output_type": "error",
     "traceback": [
      "\u001B[0;31m---------------------------------------------------------------------------\u001B[0m",
      "\u001B[0;31mTypeError\u001B[0m                                 Traceback (most recent call last)",
      "Input \u001B[0;32mIn [10]\u001B[0m, in \u001B[0;36m<cell line: 4>\u001B[0;34m()\u001B[0m\n\u001B[1;32m      1\u001B[0m weight \u001B[38;5;241m=\u001B[39m \u001B[38;5;28minput\u001B[39m (\u001B[38;5;124m\"\u001B[39m\u001B[38;5;124mEnter Your Weight: \u001B[39m\u001B[38;5;124m\"\u001B[39m)\n\u001B[1;32m      2\u001B[0m \u001B[38;5;28mprint\u001B[39m (\u001B[38;5;124m\"\u001B[39m\u001B[38;5;124mYour weight is\u001B[39m\u001B[38;5;124m\"\u001B[39m, weight)\n\u001B[0;32m----> 4\u001B[0m \u001B[38;5;28;01mif\u001B[39;00m \u001B[43mweight\u001B[49m\u001B[43m \u001B[49m\u001B[38;5;241;43m<\u001B[39;49m\u001B[43m \u001B[49m\u001B[38;5;241;43m55\u001B[39;49m:\n\u001B[1;32m      5\u001B[0m     \u001B[38;5;28mprint\u001B[39m(\u001B[38;5;124m\"\u001B[39m\u001B[38;5;124mYou\u001B[39m\u001B[38;5;124m'\u001B[39m\u001B[38;5;124mre UnderWeight\u001B[39m\u001B[38;5;124m\"\u001B[39m)\n\u001B[1;32m      6\u001B[0m \u001B[38;5;28;01melif\u001B[39;00m weight \u001B[38;5;241m>\u001B[39m \u001B[38;5;241m85\u001B[39m:\n",
      "\u001B[0;31mTypeError\u001B[0m: '<' not supported between instances of 'str' and 'int'"
     ]
    }
   ],
   "source": [
    "weight = input (\"Enter Your Weight: \")\n",
    "print (\"Your weight is\", weight)\n",
    "\n",
    "if weight < 55:\n",
    "    print(\"You're UnderWeight\")\n",
    "elif weight > 85:\n",
    "    print(\"You're Overweight\")\n",
    "else:\n",
    "    print(\"You're doing good, Keep Exercising\")"
   ]
  },
  {
   "cell_type": "code",
   "execution_count": 20,
   "metadata": {
    "pycharm": {
     "name": "#%%\n"
    },
    "scrolled": true
   },
   "outputs": [
    {
     "name": "stdout",
     "output_type": "stream",
     "text": [
      "Hello There, Let's Code Python\n",
      "Enter Your Name:Prabhat Kumar\n",
      "Hi Prabhat Kumar Have a Good Day\n",
      "Enter Some values:5\n",
      "You have entered 1 value/characters\n",
      "Enter Some values:\n",
      "You have entered 0 value/characters\n",
      "Sorry, Please enter a valid name\n"
     ]
    }
   ],
   "source": [
    "# 1. Accept a name and print the length of the name. If name is blank print an error message 'please enter a valid value'\n",
    "\n",
    "\n",
    "print(\"Hello There, Let's Code Python\")\n",
    "name = input (\"Enter Your Name:\")\n",
    "print(\"Hi\", name, \"Have a Good Day\")\n",
    "    \n",
    "while True:\n",
    "    text = input(\"Enter Your Values:\")\n",
    "    print(\"You have entered {} value/characters\".format(len(text)))\n",
    "    if len(text) == 0:\n",
    "        break\n",
    "print(\"Sorry, Please enter a valid name\")"
   ]
  },
  {
   "cell_type": "code",
   "execution_count": null,
   "metadata": {
    "pycharm": {
     "name": "#%%\n"
    }
   },
   "outputs": [],
   "source": [
    "# 2. Accept the three angles of a triangle and print if it is an isosceles triangle or not"
   ]
  },
  {
   "cell_type": "code",
   "execution_count": 29,
   "metadata": {
    "pycharm": {
     "name": "#%%\n"
    }
   },
   "outputs": [
    {
     "name": "stdout",
     "output_type": "stream",
     "text": [
      "20\n",
      "22\n",
      "24\n",
      "26\n",
      "28\n",
      "30\n",
      "32\n",
      "34\n",
      "36\n",
      "38\n",
      "40\n"
     ]
    }
   ],
   "source": [
    "# 3. print all even numbers between 20 and 40, including 40\n",
    "\n",
    "for i in range (20,41,+2):\n",
    "    print (i)"
   ]
  },
  {
   "cell_type": "code",
   "execution_count": 34,
   "metadata": {
    "pycharm": {
     "name": "#%%\n"
    }
   },
   "outputs": [
    {
     "name": "stdout",
     "output_type": "stream",
     "text": [
      "Square root of 1 is 1.0\n",
      "Square root of 2 is 1.4142135623730951\n",
      "Square root of 3 is 1.7320508075688772\n",
      "Square root of 4 is 2.0\n",
      "Square root of 5 is 2.23606797749979\n",
      "Square root of 6 is 2.449489742783178\n",
      "Square root of 7 is 2.6457513110645907\n",
      "Square root of 8 is 2.8284271247461903\n",
      "Square root of 9 is 3.0\n",
      "Square root of 10 is 3.1622776601683795\n",
      "Square root of 11 is 3.3166247903554\n",
      "Square root of 12 is 3.4641016151377544\n",
      "Square root of 13 is 3.605551275463989\n",
      "Square root of 14 is 3.7416573867739413\n",
      "Square root of 15 is 3.872983346207417\n",
      "Square root of 16 is 4.0\n",
      "Square root of 17 is 4.123105625617661\n",
      "Square root of 18 is 4.242640687119285\n",
      "Square root of 19 is 4.358898943540674\n",
      "Square root of 20 is 4.47213595499958\n"
     ]
    }
   ],
   "source": [
    "# 4. print the square root of all numbers from 1 to 20\n",
    "\n",
    "import math\n",
    "for n in range (1,21):\n",
    "    print('Square root of {} is {}' .format(n,math.sqrt (n)))"
   ]
  },
  {
   "cell_type": "code",
   "execution_count": 35,
   "metadata": {
    "pycharm": {
     "name": "#%%\n"
    }
   },
   "outputs": [
    {
     "name": "stdout",
     "output_type": "stream",
     "text": [
      "1 X 15 = 15\n",
      "2 X 15 = 30\n",
      "3 X 15 = 45\n",
      "4 X 15 = 60\n",
      "5 X 15 = 75\n",
      "6 X 15 = 90\n",
      "7 X 15 = 105\n",
      "8 X 15 = 120\n",
      "9 X 15 = 135\n",
      "10 X 15 = 150\n",
      "11 X 15 = 165\n"
     ]
    }
   ],
   "source": [
    "# 5. Create a script which accepts a number and prints the multiplication table of the number  in the format '1 X n = n' and so on up to '12 X n ='\n",
    "\n",
    "num = 15\n",
    "for count in range(1,12):\n",
    "    print(\"{} X {} = {}\" .format(count, num, count*num))"
   ]
  },
  {
   "cell_type": "code",
   "execution_count": null,
   "metadata": {
    "pycharm": {
     "name": "#%%\n"
    }
   },
   "outputs": [
    {
     "name": "stdout",
     "output_type": "stream",
     "text": [
      "Enter Your Guess: 50\n",
      "Enter Your Guess: 1\n",
      "Enter Your Guess: 100\n",
      "Enter Your Guess: 101\n"
     ]
    }
   ],
   "source": [
    "# Guess a Random Number\n",
    "import random\n",
    "guess = random.randint (1,100)\n",
    "\n",
    "while True:\n",
    "\n",
    "    #Ask User for Input\n",
    "    Userguess = int (input(\"Enter Your Guess: \"))"
   ]
  },
  {
   "cell_type": "code",
   "execution_count": 1,
   "metadata": {
    "pycharm": {
     "name": "#%%\n"
    }
   },
   "outputs": [
    {
     "name": "stdout",
     "output_type": "stream",
     "text": [
      "Enter Your Guess: 25\n",
      "Try a Larger Number\n",
      "Enter Your Guess: 30\n",
      "Try a Larger Number\n",
      "Enter Your Guess: 50\n",
      "Try a Larger Number\n",
      "Enter Your Guess: 60\n",
      "Try a Smaller Number\n",
      "Enter Your Guess: 55\n",
      "Try a Larger Number\n",
      "Enter Your Guess: 57\n",
      "You got the no. correct\n"
     ]
    }
   ],
   "source": [
    "# Guess a Random Number\n",
    "import random\n",
    "guess = random.randint (1,100)\n",
    "\n",
    "while True:\n",
    "\n",
    "#Ask User for Input\n",
    "    Userguess = int (input(\"Enter Your Guess: \"))\n",
    "\n",
    "# If Input is greater than Guess\n",
    "    if Userguess > guess:\n",
    "        print(\"Try a Smaller Number\")\n",
    "# If Input is Lesser than Guess\n",
    "    elif Userguess < guess:\n",
    "        print(\"Try a Larger Number\")\n",
    "# If Input is equal to the Guess\n",
    "    else:\n",
    "        print(\"You got the no. correct\")\n",
    "        break"
   ]
  },
  {
   "cell_type": "code",
   "execution_count": 1,
   "metadata": {
    "pycharm": {
     "name": "#%%\n"
    }
   },
   "outputs": [
    {
     "name": "stdout",
     "output_type": "stream",
     "text": [
      "5\n",
      "I\n",
      "a\n",
      "d\n",
      "Ind\n",
      "ndi\n",
      "Ind\n",
      "India\n"
     ]
    }
   ],
   "source": [
    "word = 'India'\n",
    "\n",
    "print(len(word))\n",
    "\n",
    "# Indexing\n",
    "\n",
    "print(word[0])\n",
    "print(word[-1])\n",
    "print(word[2])\n",
    "\n",
    "# Slicing\n",
    "\n",
    "print(word[0:3])\n",
    "print(word[1:4])\n",
    "print(word[:3])\n",
    "print(word[0:])"
   ]
  },
  {
   "cell_type": "code",
   "execution_count": 2,
   "metadata": {
    "pycharm": {
     "name": "#%%\n"
    }
   },
   "outputs": [
    {
     "name": "stdout",
     "output_type": "stream",
     "text": [
      "<class 'str'>\n",
      "<class 'str'>\n",
      "<class 'str'>\n",
      "hihello\n",
      "I love pythonI love pythonI love pythonI love pythonI love pythonI love pythonI love pythonI love pythonI love pythonI love python\n",
      "INDIA\n",
      "india\n",
      "True\n",
      "False\n"
     ]
    }
   ],
   "source": [
    "# how to define a string\n",
    "\n",
    "word = 'India'\n",
    "sentence = \"India is my country\"\n",
    "para = \"\"\"India is my country\n",
    "all indians are my brothers and sisters\n",
    "except my wife\"\"\"\n",
    "\n",
    "print(type(word))\n",
    "print(type(sentence))\n",
    "print(type(para))\n",
    "\n",
    "# operators\n",
    "\n",
    "print('hi' + \"hello\")\n",
    "print(\"I love python\" * 10)\n",
    "\n",
    "\n",
    "# methods\n",
    "\n",
    "print(word.upper())\n",
    "print(word.lower())\n",
    "\n",
    "# search a string\n",
    "\n",
    "print(\"my\" in sentence)\n",
    "print(\"hi\" in sentence)"
   ]
  },
  {
   "cell_type": "code",
   "execution_count": 3,
   "metadata": {
    "pycharm": {
     "name": "#%%\n"
    }
   },
   "outputs": [
    {
     "name": "stdout",
     "output_type": "stream",
     "text": [
      "<class 'list'>\n",
      "5\n",
      "390\n",
      "57\n",
      "95\n",
      "78.0\n",
      "[3, 4, 5, 2, 7, 8]\n",
      "[1, 2, 3, 1, 2, 3, 1, 2, 3, 1, 2, 3, 1, 2, 3]\n",
      "95\n",
      "71\n",
      "[57, 81, 71]\n",
      "209\n",
      "138\n"
     ]
    }
   ],
   "source": [
    "marks=[95,86,57,81,71]\n",
    "#This will print the type of code category \n",
    "print(type(marks))\n",
    "#Print total length of the marks\n",
    "print(len(marks))\n",
    "#Add all the marks\n",
    "print(sum(marks))\n",
    "#fetch the minimum marks from the total marks\n",
    "print(min(marks))\n",
    "#fetch the maximum marks from the total marks\n",
    "print(max(marks))\n",
    "#Average Percentage\n",
    "print(sum(marks)/len(marks))\n",
    "\n",
    "# operations\n",
    "print([3,4,5] + [2,7,8])\n",
    "print([1,2,3] * 5)\n",
    "\n",
    "# indexing\n",
    "print(marks[0])\n",
    "print(marks[-1])\n",
    "\n",
    "# slicing\n",
    "print(marks[2:5])\n",
    "\n",
    "print(sum(marks[-3:]))  # sum of last 3 elements\n",
    "print(sum(marks [2:4])) # It will sum of 2nd and 4th marks value"
   ]
  },
  {
   "cell_type": "code",
   "execution_count": 4,
   "metadata": {
    "pycharm": {
     "name": "#%%\n"
    }
   },
   "outputs": [
    {
     "name": "stdout",
     "output_type": "stream",
     "text": [
      "['hari', 'sita', 'giri', 'gita']\n",
      "['hari', 'sita', 'giri', 'gita', 'siri']\n",
      "['hari', 'sri', 'sita', 'giri', 'gita', 'siri']\n",
      "['hari', 'sita', 'giri', 'gita', 'siri']\n",
      "['hari', 'sita', 'gita', 'siri']\n",
      "['gita', 'hari', 'siri', 'sita']\n",
      "['sita', 'siri', 'hari', 'gita']\n",
      "2\n",
      "1\n",
      "sita\n",
      "siri\n",
      "hari\n",
      "gita\n",
      "SITA\n",
      "SIRI\n",
      "HARI\n",
      "GITA\n",
      "0 sita\n",
      "1 siri\n",
      "2 hari\n",
      "3 gita\n",
      "Sita is at index 0\n",
      "Siri is at index 1\n",
      "Hari is at index 2\n",
      "Gita is at index 3\n"
     ]
    }
   ],
   "source": [
    "# list methods\n",
    "\n",
    "friends = ['hari','sita','giri','gita']\n",
    "\n",
    "# adding elements\n",
    "\n",
    "print(friends)\n",
    "friends.append('siri')\n",
    "print(friends)\n",
    "friends.insert(1,'sri')\n",
    "print(friends)\n",
    "# remove elements\n",
    "\n",
    "friends.remove('sri')\n",
    "print(friends)\n",
    "friends.pop(2)\n",
    "print(friends)\n",
    "\n",
    "# sort\n",
    "\n",
    "friends.sort()\n",
    "print(friends)\n",
    "friends.sort(reverse=True)\n",
    "print(friends)\n",
    "\n",
    "# query\n",
    "\n",
    "print(friends.index('hari'))\n",
    "print(friends.count('hari'))\n",
    "\n",
    "\n",
    "# iterating a list\n",
    "\n",
    "for friend in friends:\n",
    "\tprint(friend)\n",
    "\n",
    "for friend in friends:\n",
    "\tprint(friend.upper())\n",
    "\n",
    "for index, friend in enumerate(friends):\n",
    "\tprint(index, friend)\n",
    "\n",
    "for index, friend in enumerate(friends):\n",
    "\tprint(\"{} is at index {}\".format(friend.capitalize(), index))"
   ]
  },
  {
   "cell_type": "code",
   "execution_count": 5,
   "metadata": {
    "pycharm": {
     "name": "#%%\n"
    }
   },
   "outputs": [
    {
     "name": "stdout",
     "output_type": "stream",
     "text": [
      "['prabhu', 'deepu', 'vivek', 'manish']\n",
      "['prabhu', 'deepu', 'vivek', 'manish', 'mithun']\n",
      "['prabhu', 'subham', 'deepu', 'vivek', 'manish', 'mithun']\n",
      "['prabhu', 'deepu', 'vivek', 'manish', 'mithun']\n",
      "['prabhu', 'deepu', 'manish', 'mithun']\n",
      "['deepu', 'manish', 'mithun', 'prabhu']\n",
      "['prabhu', 'mithun', 'manish', 'deepu']\n",
      "2\n",
      "0\n",
      "prabhu\n",
      "mithun\n",
      "manish\n",
      "deepu\n",
      "PRABHU\n",
      "MITHUN\n",
      "MANISH\n",
      "DEEPU\n",
      "0 prabhu\n",
      "1 mithun\n",
      "2 manish\n",
      "3 deepu\n",
      "Prabhu is at index 0\n",
      "Mithun is at index 1\n",
      "Manish is at index 2\n",
      "Deepu is at index 3\n"
     ]
    }
   ],
   "source": [
    "# list methods\n",
    "\n",
    "friends = ['prabhu','deepu','vivek','manish']\n",
    "\n",
    "# adding elements\n",
    "\n",
    "print(friends)\n",
    "friends.append('mithun')\n",
    "print(friends)\n",
    "friends.insert(1,'subham')\n",
    "print(friends)\n",
    "\n",
    "# remove elements\n",
    "friends.remove('subham')\n",
    "print(friends)\n",
    "friends.pop(2)\n",
    "print(friends)\n",
    "\n",
    "# sort\n",
    "friends.sort()\n",
    "print(friends)\n",
    "friends.sort(reverse=True)\n",
    "print(friends)\n",
    "\n",
    "# query\n",
    "print(friends.index('manish'))\n",
    "print(friends.count('vivek'))\n",
    "\n",
    "# iterating a list\n",
    "for friend in friends:\n",
    "\tprint(friend)\n",
    "\n",
    "for friend in friends:\n",
    "\tprint(friend.upper())\n",
    "\n",
    "for index, friend in enumerate(friends):\n",
    "\tprint(index, friend)\n",
    "\n",
    "for index, friend in enumerate(friends):\n",
    "\tprint(\"{} is at index {}\".format(friend.capitalize(), index))\n",
    "\n",
    "    "
   ]
  },
  {
   "cell_type": "code",
   "execution_count": 6,
   "metadata": {
    "pycharm": {
     "name": "#%%\n"
    }
   },
   "outputs": [
    {
     "name": "stdout",
     "output_type": "stream",
     "text": [
      "<class 'tuple'>\n",
      "5\n",
      "412\n",
      "67\n",
      "96\n",
      "82.4\n",
      "(3, 4, 5, 2, 7, 8)\n",
      "(1, 2, 3, 1, 2, 3, 1, 2, 3, 1, 2, 3, 1, 2, 3)\n",
      "96\n",
      "81\n",
      "(67, 81, 81)\n",
      "229\n",
      "<class 'tuple'>\n",
      "0\n",
      "1\n",
      "hari\n",
      "sita\n",
      "giri\n",
      "gita\n",
      "HARI\n",
      "SITA\n",
      "GIRI\n",
      "GITA\n",
      "0 hari\n",
      "1 sita\n",
      "2 giri\n",
      "3 gita\n",
      "Hari is at index 0\n",
      "Sita is at index 1\n",
      "Giri is at index 2\n",
      "Gita is at index 3\n"
     ]
    }
   ],
   "source": [
    "#Whatever You can do with Lists, You can do using Tuples...\n",
    "#only 2 methods: Lists and Counts, append won't work..\n",
    "# tuple is a read only list. You can not modify or Append..!!\n",
    "# tuples are immutable\n",
    "# can use () braces here..\n",
    "marks=(96,87,67,81,81)\n",
    "print(type(marks))\n",
    "print(len(marks))\n",
    "print(sum(marks))\n",
    "print(min(marks))\n",
    "print(max(marks))\n",
    "print(sum(marks)/len(marks))\n",
    "\n",
    "# operations\n",
    "print((3,4,5) + (2,7,8))\n",
    "print((1,2,3) * 5)\n",
    "\n",
    "# indexing\n",
    "\n",
    "print(marks[0])\n",
    "print(marks[-1])\n",
    "\n",
    "# slicing\n",
    "\n",
    "print(marks[2:5])\n",
    "\n",
    "print(sum(marks[-3:]))  # sum of last 3 elements\n",
    "\n",
    "\n",
    "# tuple methods\n",
    "\n",
    "friends = 'hari','sita','giri','gita'\n",
    "\n",
    "\n",
    "print(type(friends))\n",
    "# query\n",
    "\n",
    "print(friends.index('hari'))\n",
    "print(friends.count('hari'))\n",
    "\n",
    "\n",
    "# iterating a list\n",
    "\n",
    "for friend in friends:\n",
    "\tprint(friend)\n",
    "\n",
    "for friend in friends:\n",
    "\tprint(friend.upper())\n",
    "\n",
    "for index, friend in enumerate(friends):\n",
    "\tprint(index, friend)\n",
    "\n",
    "for index, friend in enumerate(friends):\n",
    "\tprint(\"{} is at index {}\".format(friend.capitalize(), index))"
   ]
  },
  {
   "cell_type": "code",
   "execution_count": 7,
   "metadata": {
    "pycharm": {
     "name": "#%%\n"
    }
   },
   "outputs": [
    {
     "name": "stdout",
     "output_type": "stream",
     "text": [
      "<class 'dict'>\n",
      "2\n",
      "dict_keys(['hyd', 'blr'])\n",
      "dict_values(['040', '080'])\n",
      "dict_items([('hyd', '040'), ('blr', '080')])\n",
      "040\n",
      "040\n",
      "{'hyd': '040', 'blr': '080', 'del': '011', 'chennai': '044'}\n",
      "{'hyd': '040', 'blr': '080', 'chennai': '044'}\n"
     ]
    }
   ],
   "source": [
    "# dictionaries\n",
    "#Std we use for dictionaries\n",
    "\n",
    "std = {\"hyd\":\"040\",\"blr\":\"080\"}\n",
    "\n",
    "print(type(std))\n",
    "print(len(std))\n",
    "print(std.keys())\n",
    "print(std.values())\n",
    "print(std.items())\n",
    "\n",
    "# how to lookup\n",
    "#Both way it shall work: Using \"get\" or only using std methods.\n",
    "print(std.get('hyd'))\n",
    "print(std['hyd'])\n",
    "\n",
    "# how to add/update: same line with updated value will reflect in O/P.\n",
    "\n",
    "std['del'] = \"011\"\n",
    "std['chennai'] = \"088\" # wrong entry\n",
    "std['chennai'] = \"044\"\n",
    "print(std)\n",
    "# how to delete\n",
    "del std['del']\n",
    "print(std)"
   ]
  },
  {
   "cell_type": "code",
   "execution_count": 8,
   "metadata": {
    "pycharm": {
     "name": "#%%\n"
    }
   },
   "outputs": [
    {
     "name": "stdout",
     "output_type": "stream",
     "text": [
      "<class 'set'>\n",
      "{2, 3, 4, 5, 6, 234}\n",
      "{8, 3, 5}\n",
      "{8, 40, 3, 5}\n",
      "{1, 2, 3, 4, 5, 6}\n",
      "{3, 4}\n",
      "{1, 2, 3, 4, 5, 6, 7}\n"
     ]
    }
   ],
   "source": [
    "# sets\n",
    "\n",
    "a = {2,5,3,5,6,4,5,3,4,234}\n",
    "b = {3,5,8}\n",
    "\n",
    "print(type(a))\n",
    "print(a)\n",
    "\n",
    "print(b)\n",
    "b.add(40)\n",
    "b.add(3)\n",
    "print(b)\n",
    "\n",
    "x = {1,2,3,4}\n",
    "y = {3,4,5,6}\n",
    "\n",
    "print(x.union(y))\n",
    "print(x.intersection(y))\n",
    "\n",
    "data = [1,2,3,4,5,3,4,5,6,2,3,4,5,6,7,4,5,6]\n",
    "\n",
    "unique = set(data) # duplicate removal\n",
    "\n",
    "print(unique)\n"
   ]
  },
  {
   "cell_type": "code",
   "execution_count": 9,
   "metadata": {
    "pycharm": {
     "name": "#%%\n"
    }
   },
   "outputs": [
    {
     "name": "stdout",
     "output_type": "stream",
     "text": [
      "Good morning\n",
      "How are you Prabhat Kumar\n",
      "Hello Prabhu your age is 32 years\n",
      "16\n",
      "1701\n",
      "7\n",
      "6358.500000000001\n",
      "Hello 32 your age is Prabhu years\n",
      "Hello Prabhu your age is 75 years\n"
     ]
    }
   ],
   "source": [
    "\n",
    "#Defining Function\n",
    "def hi():\n",
    "\tprint(\"Good morning\")\n",
    "#Call a Function \n",
    "hi()\n",
    "\n",
    "#Processing parameters\n",
    "def hello(name):\n",
    "\tprint(\"How are you {}\".format(name))\n",
    "\n",
    "hello(\"Prabhat Kumar\")\n",
    "\n",
    "def wish(name, age):\n",
    "\tprint(\"Hello {} your age is {} years\".format(name, age))\n",
    "\n",
    "wish(\"Prabhu\", 32)\n",
    "\n",
    "#The return statements\n",
    "def square(x):\n",
    "\treturn x*x\n",
    "\n",
    "result = square(56) #It will only store and return the value but won't print.\n",
    "print(square(4))\n",
    "k = square(34) + square(23) + square(square(2))\n",
    "print(k)\n",
    "\n",
    "def add(a,b):\n",
    "\treturn a+b\n",
    "\n",
    "print(add(3,4))\n",
    "\n",
    "#Local Variables\n",
    "def circle_area(radius):\n",
    "\tpi = 3.14 # local variable\n",
    "\treturn pi * radius * radius\n",
    "\n",
    "print(circle_area(45))\n",
    "\n",
    "#Keyword Arguments\n",
    "wish(32, 'Prabhu') #The Order of Keys aren't correct\n",
    "\n",
    "wish(age=75, name='Prabhu') #You can specify the Keys and values here\n"
   ]
  },
  {
   "cell_type": "code",
   "execution_count": 12,
   "metadata": {
    "pycharm": {
     "name": "#%%\n"
    }
   },
   "outputs": [
    {
     "name": "stdout",
     "output_type": "stream",
     "text": [
      "['deepu', 'manish', 'prabhu', 'vivek']\n",
      "DEEPU\n",
      "MANISH\n",
      "PRABHU\n",
      "VIVEK\n"
     ]
    }
   ],
   "source": [
    "# 1. Create an empty list. Accept names and store them in the list in upper case. \n",
    "# 2. Finally print the names in the list in sorted order.\n",
    "# list methods\n",
    "\n",
    "friends = ['prabhu','deepu','vivek','manish']\n",
    "\n",
    "# sort\n",
    "friends.sort()\n",
    "print(friends)\n",
    "\n",
    "# iterating a list\n",
    "\n",
    "for friend in friends:\n",
    "\tprint(friend.upper())\n"
   ]
  },
  {
   "cell_type": "code",
   "execution_count": 18,
   "metadata": {
    "pycharm": {
     "name": "#%%\n"
    }
   },
   "outputs": [
    {
     "name": "stdout",
     "output_type": "stream",
     "text": [
      "512\n"
     ]
    }
   ],
   "source": [
    "#Cube of a Number\n",
    "\n",
    "def cube(num):\n",
    "\treturn num * num * num\n",
    "\n",
    "print(cube(8))"
   ]
  },
  {
   "cell_type": "code",
   "execution_count": 21,
   "metadata": {
    "pycharm": {
     "name": "#%%\n"
    }
   },
   "outputs": [
    {
     "name": "stdout",
     "output_type": "stream",
     "text": [
      "dict_items([('CPPWFI001', '192.168.50.10'), ('CDVWFI005', '172.140.30.2'), ('CUTWFI007', '10.20.170.5')])\n",
      "192.168.50.10\n",
      "192.168.50.10\n",
      "{'CPPWFI001': '192.168.50.10', 'CDVWFI005': '172.140.30.2'}\n"
     ]
    }
   ],
   "source": [
    "# dictionaries\n",
    "#Server and Their IP Address\n",
    "\n",
    "std = {\"CPPWFI001\":\"192.168.50.10\",\"CDVWFI005\":\"172.140.30.2\",\"CUTWFI007\":\"10.20.170.5\" }\n",
    "\n",
    "print(std.items())\n",
    "\n",
    "# how to lookup\n",
    "#Both way it shall work: Using \"get\" or only using std methods.\n",
    "print(std.get('CPPWFI001'))\n",
    "print(std['CPPWFI001'])\n",
    "\n",
    "# how to delete\n",
    "del std['CUTWFI007']\n",
    "print(std)"
   ]
  },
  {
   "cell_type": "code",
   "execution_count": 23,
   "metadata": {
    "pycharm": {
     "name": "#%%\n"
    }
   },
   "outputs": [
    {
     "name": "stdout",
     "output_type": "stream",
     "text": [
      "Enter HostName: Linux\n",
      "IP Address is: 192.168.50.10\n"
     ]
    }
   ],
   "source": [
    "# dictionaries\n",
    "#Server and Their IP Address\n",
    "\n",
    "hosts = {\"Linux\":\"192.168.50.10\",\"Windows\":\"172.140.30.2\",\"MacOS\":\"10.20.170.5\" }\n",
    "\n",
    "host = input(\"Enter HostName: \")\n",
    "ipaddr=hosts.get(host.title())\n",
    "\n",
    "if ipaddr:\n",
    "    print(\"IP Address is:\", ipaddr)\n",
    "else:\n",
    "    print(\"Hostname not found in Database\")\n"
   ]
  },
  {
   "cell_type": "code",
   "execution_count": 24,
   "metadata": {
    "pycharm": {
     "name": "#%%\n"
    }
   },
   "outputs": [
    {
     "name": "stdout",
     "output_type": "stream",
     "text": [
      "The average number is 4.92\n"
     ]
    }
   ],
   "source": [
    "numbers = [2.50, 4, 8.25]\n",
    "\n",
    "average = sum(numbers) / len(numbers)\n",
    "\n",
    "print(\"The average number is \" + str(round(average, 2)))"
   ]
  },
  {
   "cell_type": "code",
   "execution_count": null,
   "metadata": {
    "pycharm": {
     "name": "#%%\n"
    }
   },
   "outputs": [],
   "source": []
  },
  {
   "cell_type": "code",
   "execution_count": 25,
   "metadata": {
    "pycharm": {
     "name": "#%%\n"
    }
   },
   "outputs": [
    {
     "name": "stdout",
     "output_type": "stream",
     "text": [
      "True\n",
      "True\n",
      "enter your number: 6\n",
      "720\n"
     ]
    }
   ],
   "source": [
    "# write a function that returns the factorial of a number\n",
    "\n",
    "def factorial(n):\n",
    "\tfact=1\n",
    "\tfor i in range(1,n+1):\n",
    "\t\tfact = fact * i\n",
    "\treturn fact\n",
    "\n",
    "\n",
    "print(factorial(2) == 2)\n",
    "print(factorial(3) == 6)\n",
    "\n",
    "n = int(input(\"enter your number: \"))\n",
    "print(factorial(n))"
   ]
  },
  {
   "cell_type": "code",
   "execution_count": 27,
   "metadata": {
    "pycharm": {
     "name": "#%%\n"
    }
   },
   "outputs": [
    {
     "name": "stdout",
     "output_type": "stream",
     "text": [
      "Help on built-in function len in module builtins:\n",
      "\n",
      "len(obj, /)\n",
      "    Return the number of items in a container.\n",
      "\n"
     ]
    }
   ],
   "source": [
    "help(len)"
   ]
  },
  {
   "cell_type": "code",
   "execution_count": 38,
   "metadata": {
    "pycharm": {
     "name": "#%%\n"
    }
   },
   "outputs": [
    {
     "name": "stdout",
     "output_type": "stream",
     "text": [
      "Help on function add in module __main__:\n",
      "\n",
      "add(a, b)\n",
      "    this function takes two numbers\n",
      "    and returns their sum\n",
      "\n",
      "[1, 2, 3, 4]\n",
      "4\n",
      "[1, 2, 3]\n",
      "[1, 2, 3]\n",
      "3\n",
      "[1, 2, 3]\n",
      "7\n",
      "12\n",
      "93\n",
      "('Learn', 'Python', 'Code')\n"
     ]
    }
   ],
   "source": [
    "\n",
    "#DocString\n",
    "\n",
    "def add(a,b):\n",
    "\t\"\"\"this function takes two numbers\n",
    "\tand returns their sum\"\"\"\n",
    "\treturn a+b\n",
    "\n",
    "help(add)\n",
    "\n",
    "#Call by reference\n",
    "\n",
    "a=[1,2,3,4]\n",
    "\n",
    "def destroy(x):\n",
    "\tprint(x.pop()) #it will always destroy the last number if not specified.\n",
    "\n",
    "print(a)\n",
    "destroy(a)\n",
    "print(a)\n",
    "\n",
    "#Call by value\n",
    "\n",
    "print(a)\n",
    "destroy(a[:])\n",
    "print(a)\n",
    "\n",
    "#For Dictionaries Use: .copy()\n",
    "# a.copy()\n",
    "\n",
    "#Variable number of parameters\n",
    "# *{args/sum/num/digit and anything with *}:\n",
    "    #can call a function to do any number of arthemetic or other Operations.\n",
    "def total(*args):\n",
    "\tprint(sum(args))\n",
    "\n",
    "total(3,4)\n",
    "total(3,4,5)\n",
    "total(45,6,7,8,9,3,4,5,6)\n",
    "\n",
    "#arthemetic operations (here as ex: sum) won't work for string\n",
    "#Defing another fucntion for string.\n",
    "def total(*string):\n",
    "\tprint((string))\n",
    "total(\"Learn\", \"Python\", \"Code\")"
   ]
  },
  {
   "cell_type": "code",
   "execution_count": 39,
   "metadata": {
    "pycharm": {
     "name": "#%%\n"
    }
   },
   "outputs": [
    {
     "name": "stdout",
     "output_type": "stream",
     "text": [
      "\n",
      "Please wait a moment while I gather a list of all available modules...\n",
      "\n"
     ]
    },
    {
     "name": "stderr",
     "output_type": "stream",
     "text": [
      "WARNING: AstropyDeprecationWarning: The private astropy._erfa module has been made into its own package, pyerfa, which is a dependency of astropy and can be imported directly using \"import erfa\" [astropy._erfa]\n",
      "/Users/iprabhatkumar/opt/anaconda3/lib/python3.9/site-packages/nltk/twitter/__init__.py:20: UserWarning: The twython library has not been installed. Some functionality from the twitter package will not be available.\n",
      "  warnings.warn(\n",
      "/Users/iprabhatkumar/opt/anaconda3/lib/python3.9/site-packages/_distutils_hack/__init__.py:30: UserWarning: Setuptools is replacing distutils.\n",
      "  warnings.warn(\"Setuptools is replacing distutils.\")\n",
      "No QCoreApplication instance found. Application patches not applied. You have to call load_stylesheet function after instantiation of QApplication to take effect. \n"
     ]
    },
    {
     "name": "stdout",
     "output_type": "stream",
     "text": [
      "Cython              bz2                 jupyterlab_pygments resource\n",
      "IPython             cProfile            jupyterlab_server   rlcompleter\n",
      "OpenSSL             cachetools          jupyterlab_widgets  rope\n",
      "PIL                 calendar            jwt                 rsa\n",
      "PyQt5               certifi             keyring             rtree\n",
      "TBB                 cffi                keyword             ruamel_yaml\n",
      "__future__          cgi                 kiwisolver          runpy\n",
      "_abc                cgitb               lazy_object_proxy   s3transfer\n",
      "_aix_support        chardet             lib2to3             sched\n",
      "_argon2_cffi_bindings charset_normalizer  libarchive          scipy\n",
      "_ast                chunk               libfuturize         scrapy\n",
      "_asyncio            click               libpasteurize       seaborn\n",
      "_bisect             cloudpickle         lief                secrets\n",
      "_black_version      clyent              linecache           select\n",
      "_blake2             cmath               llvmlite            selectors\n",
      "_bootlocale         cmd                 locale              send2trash\n",
      "_bootsubprocess     code                locket              service_identity\n",
      "_bz2                codecs              logging             setuptools\n",
      "_cffi_backend       codeop              lxml                shelve\n",
      "_codecs             collections         lzma                shlex\n",
      "_codecs_cn          colorama            mactypes            shutil\n",
      "_codecs_hk          colorcet            mailbox             signal\n",
      "_codecs_iso2022     colorsys            mailcap             sip\n",
      "_codecs_jp          compileall          markdown            sipconfig\n",
      "_codecs_kr          concurrent          markupsafe          sipdistutils\n",
      "_codecs_tw          conda               marshal             site\n",
      "_collections        conda_build         math                six\n",
      "_collections_abc    conda_content_trust matplotlib          skimage\n",
      "_compat_pickle      conda_env           matplotlib_inline   sklearn\n",
      "_compression        conda_pack          mccabe              sklearnex\n",
      "_contextvars        conda_package_handling mimetypes           slugify\n",
      "_crypt              conda_token         mistune             smart_open\n",
      "_csv                conda_verify        mkl                 smtpd\n",
      "_ctypes             configparser        mkl_fft             smtplib\n",
      "_ctypes_test        constantly          mkl_random          snappy\n",
      "_curses             contextlib          mmap                sndhdr\n",
      "_curses_panel       contextvars         mock                sniffio\n",
      "_datetime           cookiecutter        modulefinder        snowballstemmer\n",
      "_dbm                copy                mpmath              socket\n",
      "_decimal            copyreg             msgpack             socketserver\n",
      "_distutils_hack     crypt               multidict           socks\n",
      "_elementtree        cryptography        multipledispatch    sockshandler\n",
      "_functools          cssselect           multiprocessing     sortedcollections\n",
      "_hashlib            csv                 munkres             sortedcontainers\n",
      "_heapq              ctypes              mypy_extensions     soupsieve\n",
      "_imp                curl                navigator_updater   sphinx\n",
      "_io                 curses              nbclassic           spyder\n",
      "_json               cycler              nbclient            spyder_kernels\n",
      "_locale             cython              nbconvert           sqlalchemy\n",
      "_lsprof             cytoolz             nbformat            sqlite3\n",
      "_lzma               daal4py             nest_asyncio        sre_compile\n",
      "_markupbase         dask                netrc               sre_constants\n",
      "_md5                dataclasses         networkx            sre_parse\n",
      "_multibytecodec     datashader          nis                 ssl\n",
      "_multiprocessing    datashape           nltk                stack_data\n",
      "_opcode             datetime            nntplib             stat\n",
      "_operator           dateutil            nose                statistics\n",
      "_osx_support        dbm                 notebook            statsmodels\n",
      "_peg_parser         debugpy             ntpath              string\n",
      "_pickle             decimal             nturl2path          stringprep\n",
      "_plotly_future_     decorator           numba               struct\n",
      "_plotly_utils       defusedxml          numbergen           subprocess\n",
      "_posixshmem         diff_match_patch    numbers             sunau\n",
      "_posixsubprocess    difflib             numexpr             symbol\n",
      "_py_abc             dis                 numpy               sympy\n",
      "_pydecimal          distributed         numpydoc            symtable\n",
      "_pyio               distutils           olefile             sys\n",
      "_pyrsistent_version doctest             onedal              sysconfig\n",
      "_pytest             docutils            opcode              syslog\n",
      "_queue              email               openpyxl            tables\n",
      "_random             encodings           operator            tabnanny\n",
      "_scproxy            ensurepip           optparse            tabulate\n",
      "_sha1               entrypoints         os                  tarfile\n",
      "_sha256             enum                osax                tbb\n",
      "_sha3               erfa                packaging           tblib\n",
      "_sha512             errno               pandas              telnetlib\n",
      "_signal             et_xmlfile          pandocfilters       tempfile\n",
      "_sitebuiltins       executing           panel               tenacity\n",
      "_socket             fastjsonschema      param               terminado\n",
      "_sqlite3            faulthandler        parsel              termios\n",
      "_sre                fcntl               parser              test\n",
      "_ssl                filecmp             parso               test_pycosat\n",
      "_stat               fileinput           partd               testpath\n",
      "_statistics         filelock            past                text_unidecode\n",
      "_string             flake8              pathlib             textdistance\n",
      "_strptime           flask               pathspec            textwrap\n",
      "_struct             fnmatch             patsy               this\n",
      "_symtable           fontTools           pdb                 threading\n",
      "_sysconfigdata__darwin_darwin formatter           pep8                threadpoolctl\n",
      "_sysconfigdata_x86_64_apple_darwin13_4_0 fractions           pexpect             three_merge\n",
      "_testbuffer         frozenlist          pickle              tifffile\n",
      "_testcapi           fsspec              pickleshare         time\n",
      "_testimportmultiple ftplib              pickletools         timeit\n",
      "_testinternalcapi   functools           pip                 tinycss\n",
      "_testmultiphase     future              pipes               tkinter\n",
      "_thread             gc                  pkg_resources       tldextract\n",
      "_threading_local    genericpath         pkginfo             tlz\n",
      "_tkinter            gensim              pkgutil             token\n",
      "_tracemalloc        getopt              platform            tokenize\n",
      "_uuid               getpass             plistlib            toml\n",
      "_warnings           gettext             plotly              tomli\n",
      "_watchdog_fsevents  glob                pluggy              toolz\n",
      "_weakref            glob2               poplib              tornado\n",
      "_weakrefset         gmpy2               posix               tqdm\n",
      "_xxsubinterpreters  google_crc32c       posixpath           trace\n",
      "_xxtestfuzz         graphlib            poyo                traceback\n",
      "_yaml               greenlet            pprint              tracemalloc\n",
      "_zoneinfo           grp                 profile             traitlets\n",
      "abc                 grpc                prometheus_client   tty\n",
      "aem                 gzip                prompt_toolkit      turtle\n",
      "aifc                h5py                protego             turtledemo\n",
      "aiohttp             hamcrest            pstats              twisted\n",
      "aiosignal           hashlib             psutil              typed_ast\n",
      "alabaster           heapdict            pty                 types\n",
      "anaconda_navigator  heapq               ptyprocess          typing\n",
      "anaconda_project    hmac                pure_eval           typing_extensions\n",
      "antigravity         holoviews           pvectorc            ujson\n",
      "anyio               html                pwd                 unicodedata\n",
      "appdirs             http                py                  unidecode\n",
      "applaunchservices   hvplot              py_compile          unittest\n",
      "appnope             hyperlink           pyasn1              urllib\n",
      "appscript           idlelib             pyasn1_modules      urllib3\n",
      "argon2              idna                pyclbr              uu\n",
      "argparse            imagecodecs         pycodestyle         uuid\n",
      "array               imageio             pycosat             venv\n",
      "arrow               imagesize           pycparser           w3lib\n",
      "ast                 imaplib             pyct                warnings\n",
      "astroid             imghdr              pycurl              watchdog\n",
      "astropy             imp                 pydispatch          wave\n",
      "asttokens           importlib           pydoc               wcwidth\n",
      "async_timeout       importlib_metadata  pydoc_data          weakref\n",
      "asynchat            incremental         pydocstyle          webbrowser\n",
      "asyncio             inflection          pyexpat             webencodings\n",
      "asyncore            iniconfig           pyflakes            websocket\n",
      "atexit              inspect             pygments            werkzeug\n",
      "atomicwrites        intake              pylab               wheel\n",
      "attr                intervaltree        pylint              widgetsnbextension\n",
      "attrs               io                  pyls_spyder         wrapt\n",
      "audioop             ipaddress           pylsp               wsgiref\n",
      "automat             ipykernel           pylsp_black         wurlitzer\n",
      "autopep8            ipykernel_launcher  pylsp_jsonrpc       xarray\n",
      "babel               ipython_genutils    pyodbc              xdrlib\n",
      "backcall            ipywidgets          pyparsing           xlrd\n",
      "backports           isort               pyrsistent          xlsxwriter\n",
      "base64              isympy              pytest              xlwings\n",
      "bcrypt              itemadapter         pytz                xml\n",
      "bdb                 itemloaders         pyviz_comms         xmlrpc\n",
      "binaryornot         itertools           pywt                xxlimited\n",
      "binascii            itsdangerous        pyximport           xxsubtype\n",
      "binhex              jdcal               qdarkstyle          yaml\n",
      "binstar_client      jedi                qstylizer           yapf\n",
      "bisect              jinja2              qtawesome           yapftests\n",
      "bitarray            jinja2_time         qtconsole           yarl\n",
      "bkcharts            jmespath            qtpy                zict\n",
      "black               joblib              queue               zipapp\n",
      "blackd              json                queuelib            zipfile\n",
      "bleach              json5               quopri              zipimport\n",
      "blib2to3            jsonschema          random              zipp\n",
      "bokeh               jupyter             re                  zlib\n",
      "boto3               jupyter_client      readline            zmq\n",
      "botocore            jupyter_console     regex               zoneinfo\n",
      "bottleneck          jupyter_core        repo_cli            zope\n",
      "brotli              jupyter_server      reprlib             \n",
      "bs4                 jupyterlab          requests            \n",
      "builtins            jupyterlab_plotly   requests_file       \n",
      "\n",
      "Enter any module name to get more help.  Or, type \"modules spam\" to search\n",
      "for modules whose name or summary contain the string \"spam\".\n",
      "\n"
     ]
    },
    {
     "name": "stderr",
     "output_type": "stream",
     "text": [
      "/Users/iprabhatkumar/opt/anaconda3/lib/python3.9/pkgutil.py:108: VisibleDeprecationWarning:\n",
      "\n",
      "zmq.eventloop.minitornado is deprecated in pyzmq 14.0 and will be removed.\n",
      "    Install tornado itself to use zmq with the tornado IOLoop.\n",
      "    \n",
      "\n"
     ]
    }
   ],
   "source": [
    "help(\"modules\")"
   ]
  },
  {
   "cell_type": "code",
   "execution_count": 5,
   "metadata": {
    "pycharm": {
     "name": "#%%\n"
    }
   },
   "outputs": [
    {
     "data": {
      "text/plain": [
       "0.8509035245341184"
      ]
     },
     "execution_count": 5,
     "metadata": {},
     "output_type": "execute_result"
    }
   ],
   "source": [
    "\n",
    "from random import randint\n",
    "randint (3,30)\n",
    "\n",
    "from math import sin, cos, tan \n",
    "cos(90)\n",
    "sin(45)"
   ]
  },
  {
   "cell_type": "code",
   "execution_count": 7,
   "metadata": {
    "pycharm": {
     "name": "#%%\n"
    }
   },
   "outputs": [
    {
     "data": {
      "text/plain": [
       "720"
      ]
     },
     "execution_count": 7,
     "metadata": {},
     "output_type": "execute_result"
    }
   ],
   "source": [
    "import random as rd \n",
    "rd.randint (3,30)\n",
    "\n",
    "from math import factorial as f \n",
    "f(6)"
   ]
  },
  {
   "cell_type": "code",
   "execution_count": 4,
   "metadata": {
    "pycharm": {
     "name": "#%%\n"
    }
   },
   "outputs": [
    {
     "data": {
      "text/plain": [
       "0.8939966636005579"
      ]
     },
     "execution_count": 4,
     "metadata": {},
     "output_type": "execute_result"
    }
   ],
   "source": [
    "import math\n",
    "math.sin(90)"
   ]
  },
  {
   "cell_type": "code",
   "execution_count": 8,
   "metadata": {
    "pycharm": {
     "name": "#%%\n"
    }
   },
   "outputs": [
    {
     "data": {
      "text/plain": [
       "['__doc__',\n",
       " '__file__',\n",
       " '__loader__',\n",
       " '__name__',\n",
       " '__package__',\n",
       " '__spec__',\n",
       " 'acos',\n",
       " 'acosh',\n",
       " 'asin',\n",
       " 'asinh',\n",
       " 'atan',\n",
       " 'atan2',\n",
       " 'atanh',\n",
       " 'ceil',\n",
       " 'comb',\n",
       " 'copysign',\n",
       " 'cos',\n",
       " 'cosh',\n",
       " 'degrees',\n",
       " 'dist',\n",
       " 'e',\n",
       " 'erf',\n",
       " 'erfc',\n",
       " 'exp',\n",
       " 'expm1',\n",
       " 'fabs',\n",
       " 'factorial',\n",
       " 'floor',\n",
       " 'fmod',\n",
       " 'frexp',\n",
       " 'fsum',\n",
       " 'gamma',\n",
       " 'gcd',\n",
       " 'hypot',\n",
       " 'inf',\n",
       " 'isclose',\n",
       " 'isfinite',\n",
       " 'isinf',\n",
       " 'isnan',\n",
       " 'isqrt',\n",
       " 'lcm',\n",
       " 'ldexp',\n",
       " 'lgamma',\n",
       " 'log',\n",
       " 'log10',\n",
       " 'log1p',\n",
       " 'log2',\n",
       " 'modf',\n",
       " 'nan',\n",
       " 'nextafter',\n",
       " 'perm',\n",
       " 'pi',\n",
       " 'pow',\n",
       " 'prod',\n",
       " 'radians',\n",
       " 'remainder',\n",
       " 'sin',\n",
       " 'sinh',\n",
       " 'sqrt',\n",
       " 'tan',\n",
       " 'tanh',\n",
       " 'tau',\n",
       " 'trunc',\n",
       " 'ulp']"
      ]
     },
     "execution_count": 8,
     "metadata": {},
     "output_type": "execute_result"
    }
   ],
   "source": [
    "import math\n",
    "dir(math)"
   ]
  },
  {
   "cell_type": "code",
   "execution_count": 9,
   "metadata": {
    "pycharm": {
     "name": "#%%\n"
    }
   },
   "outputs": [
    {
     "name": "stdout",
     "output_type": "stream",
     "text": [
      "Help on built-in function sin in module math:\n",
      "\n",
      "sin(x, /)\n",
      "    Return the sine of x (measured in radians).\n",
      "\n"
     ]
    }
   ],
   "source": [
    "#Help on a Function\n",
    "import math\n",
    "help(math.sin)"
   ]
  },
  {
   "cell_type": "code",
   "execution_count": 13,
   "metadata": {
    "pycharm": {
     "name": "#%%\n"
    }
   },
   "outputs": [
    {
     "name": "stdout",
     "output_type": "stream",
     "text": [
      "Help on module random:\n",
      "\n",
      "NAME\n",
      "    random - Random variable generators.\n",
      "\n",
      "MODULE REFERENCE\n",
      "    https://docs.python.org/3.9/library/random\n",
      "    \n",
      "    The following documentation is automatically generated from the Python\n",
      "    source files.  It may be incomplete, incorrect or include features that\n",
      "    are considered implementation detail and may vary between Python\n",
      "    implementations.  When in doubt, consult the module reference at the\n",
      "    location listed above.\n",
      "\n",
      "DESCRIPTION\n",
      "        bytes\n",
      "        -----\n",
      "               uniform bytes (values between 0 and 255)\n",
      "    \n",
      "        integers\n",
      "        --------\n",
      "               uniform within range\n",
      "    \n",
      "        sequences\n",
      "        ---------\n",
      "               pick random element\n",
      "               pick random sample\n",
      "               pick weighted random sample\n",
      "               generate random permutation\n",
      "    \n",
      "        distributions on the real line:\n",
      "        ------------------------------\n",
      "               uniform\n",
      "               triangular\n",
      "               normal (Gaussian)\n",
      "               lognormal\n",
      "               negative exponential\n",
      "               gamma\n",
      "               beta\n",
      "               pareto\n",
      "               Weibull\n",
      "    \n",
      "        distributions on the circle (angles 0 to 2pi)\n",
      "        ---------------------------------------------\n",
      "               circular uniform\n",
      "               von Mises\n",
      "    \n",
      "    General notes on the underlying Mersenne Twister core generator:\n",
      "    \n",
      "    * The period is 2**19937-1.\n",
      "    * It is one of the most extensively tested generators in existence.\n",
      "    * The random() method is implemented in C, executes in a single Python step,\n",
      "      and is, therefore, threadsafe.\n",
      "\n",
      "CLASSES\n",
      "    _random.Random(builtins.object)\n",
      "        Random\n",
      "            SystemRandom\n",
      "    \n",
      "    class Random(_random.Random)\n",
      "     |  Random(x=None)\n",
      "     |  \n",
      "     |  Random number generator base class used by bound module functions.\n",
      "     |  \n",
      "     |  Used to instantiate instances of Random to get generators that don't\n",
      "     |  share state.\n",
      "     |  \n",
      "     |  Class Random can also be subclassed if you want to use a different basic\n",
      "     |  generator of your own devising: in that case, override the following\n",
      "     |  methods:  random(), seed(), getstate(), and setstate().\n",
      "     |  Optionally, implement a getrandbits() method so that randrange()\n",
      "     |  can cover arbitrarily large ranges.\n",
      "     |  \n",
      "     |  Method resolution order:\n",
      "     |      Random\n",
      "     |      _random.Random\n",
      "     |      builtins.object\n",
      "     |  \n",
      "     |  Methods defined here:\n",
      "     |  \n",
      "     |  __getstate__(self)\n",
      "     |      # Issue 17489: Since __reduce__ was defined to fix #759889 this is no\n",
      "     |      # longer called; we leave it here because it has been here since random was\n",
      "     |      # rewritten back in 2001 and why risk breaking something.\n",
      "     |  \n",
      "     |  __init__(self, x=None)\n",
      "     |      Initialize an instance.\n",
      "     |      \n",
      "     |      Optional argument x controls seeding, as for Random.seed().\n",
      "     |  \n",
      "     |  __reduce__(self)\n",
      "     |      Helper for pickle.\n",
      "     |  \n",
      "     |  __setstate__(self, state)\n",
      "     |  \n",
      "     |  betavariate(self, alpha, beta)\n",
      "     |      Beta distribution.\n",
      "     |      \n",
      "     |      Conditions on the parameters are alpha > 0 and beta > 0.\n",
      "     |      Returned values range between 0 and 1.\n",
      "     |  \n",
      "     |  choice(self, seq)\n",
      "     |      Choose a random element from a non-empty sequence.\n",
      "     |  \n",
      "     |  choices(self, population, weights=None, *, cum_weights=None, k=1)\n",
      "     |      Return a k sized list of population elements chosen with replacement.\n",
      "     |      \n",
      "     |      If the relative weights or cumulative weights are not specified,\n",
      "     |      the selections are made with equal probability.\n",
      "     |  \n",
      "     |  expovariate(self, lambd)\n",
      "     |      Exponential distribution.\n",
      "     |      \n",
      "     |      lambd is 1.0 divided by the desired mean.  It should be\n",
      "     |      nonzero.  (The parameter would be called \"lambda\", but that is\n",
      "     |      a reserved word in Python.)  Returned values range from 0 to\n",
      "     |      positive infinity if lambd is positive, and from negative\n",
      "     |      infinity to 0 if lambd is negative.\n",
      "     |  \n",
      "     |  gammavariate(self, alpha, beta)\n",
      "     |      Gamma distribution.  Not the gamma function!\n",
      "     |      \n",
      "     |      Conditions on the parameters are alpha > 0 and beta > 0.\n",
      "     |      \n",
      "     |      The probability distribution function is:\n",
      "     |      \n",
      "     |                  x ** (alpha - 1) * math.exp(-x / beta)\n",
      "     |        pdf(x) =  --------------------------------------\n",
      "     |                    math.gamma(alpha) * beta ** alpha\n",
      "     |  \n",
      "     |  gauss(self, mu, sigma)\n",
      "     |      Gaussian distribution.\n",
      "     |      \n",
      "     |      mu is the mean, and sigma is the standard deviation.  This is\n",
      "     |      slightly faster than the normalvariate() function.\n",
      "     |      \n",
      "     |      Not thread-safe without a lock around calls.\n",
      "     |  \n",
      "     |  getstate(self)\n",
      "     |      Return internal state; can be passed to setstate() later.\n",
      "     |  \n",
      "     |  lognormvariate(self, mu, sigma)\n",
      "     |      Log normal distribution.\n",
      "     |      \n",
      "     |      If you take the natural logarithm of this distribution, you'll get a\n",
      "     |      normal distribution with mean mu and standard deviation sigma.\n",
      "     |      mu can have any value, and sigma must be greater than zero.\n",
      "     |  \n",
      "     |  normalvariate(self, mu, sigma)\n",
      "     |      Normal distribution.\n",
      "     |      \n",
      "     |      mu is the mean, and sigma is the standard deviation.\n",
      "     |  \n",
      "     |  paretovariate(self, alpha)\n",
      "     |      Pareto distribution.  alpha is the shape parameter.\n",
      "     |  \n",
      "     |  randbytes(self, n)\n",
      "     |      Generate n random bytes.\n",
      "     |  \n",
      "     |  randint(self, a, b)\n",
      "     |      Return random integer in range [a, b], including both end points.\n",
      "     |  \n",
      "     |  randrange(self, start, stop=None, step=1)\n",
      "     |      Choose a random item from range(start, stop[, step]).\n",
      "     |      \n",
      "     |      This fixes the problem with randint() which includes the\n",
      "     |      endpoint; in Python this is usually not what you want.\n",
      "     |  \n",
      "     |  sample(self, population, k, *, counts=None)\n",
      "     |      Chooses k unique random elements from a population sequence or set.\n",
      "     |      \n",
      "     |      Returns a new list containing elements from the population while\n",
      "     |      leaving the original population unchanged.  The resulting list is\n",
      "     |      in selection order so that all sub-slices will also be valid random\n",
      "     |      samples.  This allows raffle winners (the sample) to be partitioned\n",
      "     |      into grand prize and second place winners (the subslices).\n",
      "     |      \n",
      "     |      Members of the population need not be hashable or unique.  If the\n",
      "     |      population contains repeats, then each occurrence is a possible\n",
      "     |      selection in the sample.\n",
      "     |      \n",
      "     |      Repeated elements can be specified one at a time or with the optional\n",
      "     |      counts parameter.  For example:\n",
      "     |      \n",
      "     |          sample(['red', 'blue'], counts=[4, 2], k=5)\n",
      "     |      \n",
      "     |      is equivalent to:\n",
      "     |      \n",
      "     |          sample(['red', 'red', 'red', 'red', 'blue', 'blue'], k=5)\n",
      "     |      \n",
      "     |      To choose a sample from a range of integers, use range() for the\n",
      "     |      population argument.  This is especially fast and space efficient\n",
      "     |      for sampling from a large population:\n",
      "     |      \n",
      "     |          sample(range(10000000), 60)\n",
      "     |  \n",
      "     |  seed(self, a=None, version=2)\n",
      "     |      Initialize internal state from a seed.\n",
      "     |      \n",
      "     |      The only supported seed types are None, int, float,\n",
      "     |      str, bytes, and bytearray.\n",
      "     |      \n",
      "     |      None or no argument seeds from current time or from an operating\n",
      "     |      system specific randomness source if available.\n",
      "     |      \n",
      "     |      If *a* is an int, all bits are used.\n",
      "     |      \n",
      "     |      For version 2 (the default), all of the bits are used if *a* is a str,\n",
      "     |      bytes, or bytearray.  For version 1 (provided for reproducing random\n",
      "     |      sequences from older versions of Python), the algorithm for str and\n",
      "     |      bytes generates a narrower range of seeds.\n",
      "     |  \n",
      "     |  setstate(self, state)\n",
      "     |      Restore internal state from object returned by getstate().\n",
      "     |  \n",
      "     |  shuffle(self, x, random=None)\n",
      "     |      Shuffle list x in place, and return None.\n",
      "     |      \n",
      "     |      Optional argument random is a 0-argument function returning a\n",
      "     |      random float in [0.0, 1.0); if it is the default None, the\n",
      "     |      standard random.random will be used.\n",
      "     |  \n",
      "     |  triangular(self, low=0.0, high=1.0, mode=None)\n",
      "     |      Triangular distribution.\n",
      "     |      \n",
      "     |      Continuous distribution bounded by given lower and upper limits,\n",
      "     |      and having a given mode value in-between.\n",
      "     |      \n",
      "     |      http://en.wikipedia.org/wiki/Triangular_distribution\n",
      "     |  \n",
      "     |  uniform(self, a, b)\n",
      "     |      Get a random number in the range [a, b) or [a, b] depending on rounding.\n",
      "     |  \n",
      "     |  vonmisesvariate(self, mu, kappa)\n",
      "     |      Circular data distribution.\n",
      "     |      \n",
      "     |      mu is the mean angle, expressed in radians between 0 and 2*pi, and\n",
      "     |      kappa is the concentration parameter, which must be greater than or\n",
      "     |      equal to zero.  If kappa is equal to zero, this distribution reduces\n",
      "     |      to a uniform random angle over the range 0 to 2*pi.\n",
      "     |  \n",
      "     |  weibullvariate(self, alpha, beta)\n",
      "     |      Weibull distribution.\n",
      "     |      \n",
      "     |      alpha is the scale parameter and beta is the shape parameter.\n",
      "     |  \n",
      "     |  ----------------------------------------------------------------------\n",
      "     |  Class methods defined here:\n",
      "     |  \n",
      "     |  __init_subclass__(**kwargs) from builtins.type\n",
      "     |      Control how subclasses generate random integers.\n",
      "     |      \n",
      "     |      The algorithm a subclass can use depends on the random() and/or\n",
      "     |      getrandbits() implementation available to it and determines\n",
      "     |      whether it can generate random integers from arbitrarily large\n",
      "     |      ranges.\n",
      "     |  \n",
      "     |  ----------------------------------------------------------------------\n",
      "     |  Data descriptors defined here:\n",
      "     |  \n",
      "     |  __dict__\n",
      "     |      dictionary for instance variables (if defined)\n",
      "     |  \n",
      "     |  __weakref__\n",
      "     |      list of weak references to the object (if defined)\n",
      "     |  \n",
      "     |  ----------------------------------------------------------------------\n",
      "     |  Data and other attributes defined here:\n",
      "     |  \n",
      "     |  VERSION = 3\n",
      "     |  \n",
      "     |  ----------------------------------------------------------------------\n",
      "     |  Methods inherited from _random.Random:\n",
      "     |  \n",
      "     |  getrandbits(self, k, /)\n",
      "     |      getrandbits(k) -> x.  Generates an int with k random bits.\n",
      "     |  \n",
      "     |  random(self, /)\n",
      "     |      random() -> x in the interval [0, 1).\n",
      "     |  \n",
      "     |  ----------------------------------------------------------------------\n",
      "     |  Static methods inherited from _random.Random:\n",
      "     |  \n",
      "     |  __new__(*args, **kwargs) from builtins.type\n",
      "     |      Create and return a new object.  See help(type) for accurate signature.\n",
      "    \n",
      "    class SystemRandom(Random)\n",
      "     |  SystemRandom(x=None)\n",
      "     |  \n",
      "     |  Alternate random number generator using sources provided\n",
      "     |  by the operating system (such as /dev/urandom on Unix or\n",
      "     |  CryptGenRandom on Windows).\n",
      "     |  \n",
      "     |   Not available on all systems (see os.urandom() for details).\n",
      "     |  \n",
      "     |  Method resolution order:\n",
      "     |      SystemRandom\n",
      "     |      Random\n",
      "     |      _random.Random\n",
      "     |      builtins.object\n",
      "     |  \n",
      "     |  Methods defined here:\n",
      "     |  \n",
      "     |  getrandbits(self, k)\n",
      "     |      getrandbits(k) -> x.  Generates an int with k random bits.\n",
      "     |  \n",
      "     |  getstate = _notimplemented(self, *args, **kwds)\n",
      "     |  \n",
      "     |  randbytes(self, n)\n",
      "     |      Generate n random bytes.\n",
      "     |  \n",
      "     |  random(self)\n",
      "     |      Get the next random number in the range [0.0, 1.0).\n",
      "     |  \n",
      "     |  seed(self, *args, **kwds)\n",
      "     |      Stub method.  Not used for a system random number generator.\n",
      "     |  \n",
      "     |  setstate = _notimplemented(self, *args, **kwds)\n",
      "     |  \n",
      "     |  ----------------------------------------------------------------------\n",
      "     |  Methods inherited from Random:\n",
      "     |  \n",
      "     |  __getstate__(self)\n",
      "     |      # Issue 17489: Since __reduce__ was defined to fix #759889 this is no\n",
      "     |      # longer called; we leave it here because it has been here since random was\n",
      "     |      # rewritten back in 2001 and why risk breaking something.\n",
      "     |  \n",
      "     |  __init__(self, x=None)\n",
      "     |      Initialize an instance.\n",
      "     |      \n",
      "     |      Optional argument x controls seeding, as for Random.seed().\n",
      "     |  \n",
      "     |  __reduce__(self)\n",
      "     |      Helper for pickle.\n",
      "     |  \n",
      "     |  __setstate__(self, state)\n",
      "     |  \n",
      "     |  betavariate(self, alpha, beta)\n",
      "     |      Beta distribution.\n",
      "     |      \n",
      "     |      Conditions on the parameters are alpha > 0 and beta > 0.\n",
      "     |      Returned values range between 0 and 1.\n",
      "     |  \n",
      "     |  choice(self, seq)\n",
      "     |      Choose a random element from a non-empty sequence.\n",
      "     |  \n",
      "     |  choices(self, population, weights=None, *, cum_weights=None, k=1)\n",
      "     |      Return a k sized list of population elements chosen with replacement.\n",
      "     |      \n",
      "     |      If the relative weights or cumulative weights are not specified,\n",
      "     |      the selections are made with equal probability.\n",
      "     |  \n",
      "     |  expovariate(self, lambd)\n",
      "     |      Exponential distribution.\n",
      "     |      \n",
      "     |      lambd is 1.0 divided by the desired mean.  It should be\n",
      "     |      nonzero.  (The parameter would be called \"lambda\", but that is\n",
      "     |      a reserved word in Python.)  Returned values range from 0 to\n",
      "     |      positive infinity if lambd is positive, and from negative\n",
      "     |      infinity to 0 if lambd is negative.\n",
      "     |  \n",
      "     |  gammavariate(self, alpha, beta)\n",
      "     |      Gamma distribution.  Not the gamma function!\n",
      "     |      \n",
      "     |      Conditions on the parameters are alpha > 0 and beta > 0.\n",
      "     |      \n",
      "     |      The probability distribution function is:\n",
      "     |      \n",
      "     |                  x ** (alpha - 1) * math.exp(-x / beta)\n",
      "     |        pdf(x) =  --------------------------------------\n",
      "     |                    math.gamma(alpha) * beta ** alpha\n",
      "     |  \n",
      "     |  gauss(self, mu, sigma)\n",
      "     |      Gaussian distribution.\n",
      "     |      \n",
      "     |      mu is the mean, and sigma is the standard deviation.  This is\n",
      "     |      slightly faster than the normalvariate() function.\n",
      "     |      \n",
      "     |      Not thread-safe without a lock around calls.\n",
      "     |  \n",
      "     |  lognormvariate(self, mu, sigma)\n",
      "     |      Log normal distribution.\n",
      "     |      \n",
      "     |      If you take the natural logarithm of this distribution, you'll get a\n",
      "     |      normal distribution with mean mu and standard deviation sigma.\n",
      "     |      mu can have any value, and sigma must be greater than zero.\n",
      "     |  \n",
      "     |  normalvariate(self, mu, sigma)\n",
      "     |      Normal distribution.\n",
      "     |      \n",
      "     |      mu is the mean, and sigma is the standard deviation.\n",
      "     |  \n",
      "     |  paretovariate(self, alpha)\n",
      "     |      Pareto distribution.  alpha is the shape parameter.\n",
      "     |  \n",
      "     |  randint(self, a, b)\n",
      "     |      Return random integer in range [a, b], including both end points.\n",
      "     |  \n",
      "     |  randrange(self, start, stop=None, step=1)\n",
      "     |      Choose a random item from range(start, stop[, step]).\n",
      "     |      \n",
      "     |      This fixes the problem with randint() which includes the\n",
      "     |      endpoint; in Python this is usually not what you want.\n",
      "     |  \n",
      "     |  sample(self, population, k, *, counts=None)\n",
      "     |      Chooses k unique random elements from a population sequence or set.\n",
      "     |      \n",
      "     |      Returns a new list containing elements from the population while\n",
      "     |      leaving the original population unchanged.  The resulting list is\n",
      "     |      in selection order so that all sub-slices will also be valid random\n",
      "     |      samples.  This allows raffle winners (the sample) to be partitioned\n",
      "     |      into grand prize and second place winners (the subslices).\n",
      "     |      \n",
      "     |      Members of the population need not be hashable or unique.  If the\n",
      "     |      population contains repeats, then each occurrence is a possible\n",
      "     |      selection in the sample.\n",
      "     |      \n",
      "     |      Repeated elements can be specified one at a time or with the optional\n",
      "     |      counts parameter.  For example:\n",
      "     |      \n",
      "     |          sample(['red', 'blue'], counts=[4, 2], k=5)\n",
      "     |      \n",
      "     |      is equivalent to:\n",
      "     |      \n",
      "     |          sample(['red', 'red', 'red', 'red', 'blue', 'blue'], k=5)\n",
      "     |      \n",
      "     |      To choose a sample from a range of integers, use range() for the\n",
      "     |      population argument.  This is especially fast and space efficient\n",
      "     |      for sampling from a large population:\n",
      "     |      \n",
      "     |          sample(range(10000000), 60)\n",
      "     |  \n",
      "     |  shuffle(self, x, random=None)\n",
      "     |      Shuffle list x in place, and return None.\n",
      "     |      \n",
      "     |      Optional argument random is a 0-argument function returning a\n",
      "     |      random float in [0.0, 1.0); if it is the default None, the\n",
      "     |      standard random.random will be used.\n",
      "     |  \n",
      "     |  triangular(self, low=0.0, high=1.0, mode=None)\n",
      "     |      Triangular distribution.\n",
      "     |      \n",
      "     |      Continuous distribution bounded by given lower and upper limits,\n",
      "     |      and having a given mode value in-between.\n",
      "     |      \n",
      "     |      http://en.wikipedia.org/wiki/Triangular_distribution\n",
      "     |  \n",
      "     |  uniform(self, a, b)\n",
      "     |      Get a random number in the range [a, b) or [a, b] depending on rounding.\n",
      "     |  \n",
      "     |  vonmisesvariate(self, mu, kappa)\n",
      "     |      Circular data distribution.\n",
      "     |      \n",
      "     |      mu is the mean angle, expressed in radians between 0 and 2*pi, and\n",
      "     |      kappa is the concentration parameter, which must be greater than or\n",
      "     |      equal to zero.  If kappa is equal to zero, this distribution reduces\n",
      "     |      to a uniform random angle over the range 0 to 2*pi.\n",
      "     |  \n",
      "     |  weibullvariate(self, alpha, beta)\n",
      "     |      Weibull distribution.\n",
      "     |      \n",
      "     |      alpha is the scale parameter and beta is the shape parameter.\n",
      "     |  \n",
      "     |  ----------------------------------------------------------------------\n",
      "     |  Class methods inherited from Random:\n",
      "     |  \n",
      "     |  __init_subclass__(**kwargs) from builtins.type\n",
      "     |      Control how subclasses generate random integers.\n",
      "     |      \n",
      "     |      The algorithm a subclass can use depends on the random() and/or\n",
      "     |      getrandbits() implementation available to it and determines\n",
      "     |      whether it can generate random integers from arbitrarily large\n",
      "     |      ranges.\n",
      "     |  \n",
      "     |  ----------------------------------------------------------------------\n",
      "     |  Data descriptors inherited from Random:\n",
      "     |  \n",
      "     |  __dict__\n",
      "     |      dictionary for instance variables (if defined)\n",
      "     |  \n",
      "     |  __weakref__\n",
      "     |      list of weak references to the object (if defined)\n",
      "     |  \n",
      "     |  ----------------------------------------------------------------------\n",
      "     |  Data and other attributes inherited from Random:\n",
      "     |  \n",
      "     |  VERSION = 3\n",
      "     |  \n",
      "     |  ----------------------------------------------------------------------\n",
      "     |  Static methods inherited from _random.Random:\n",
      "     |  \n",
      "     |  __new__(*args, **kwargs) from builtins.type\n",
      "     |      Create and return a new object.  See help(type) for accurate signature.\n",
      "\n",
      "FUNCTIONS\n",
      "    betavariate(alpha, beta) method of Random instance\n",
      "        Beta distribution.\n",
      "        \n",
      "        Conditions on the parameters are alpha > 0 and beta > 0.\n",
      "        Returned values range between 0 and 1.\n",
      "    \n",
      "    choice(seq) method of Random instance\n",
      "        Choose a random element from a non-empty sequence.\n",
      "    \n",
      "    choices(population, weights=None, *, cum_weights=None, k=1) method of Random instance\n",
      "        Return a k sized list of population elements chosen with replacement.\n",
      "        \n",
      "        If the relative weights or cumulative weights are not specified,\n",
      "        the selections are made with equal probability.\n",
      "    \n",
      "    expovariate(lambd) method of Random instance\n",
      "        Exponential distribution.\n",
      "        \n",
      "        lambd is 1.0 divided by the desired mean.  It should be\n",
      "        nonzero.  (The parameter would be called \"lambda\", but that is\n",
      "        a reserved word in Python.)  Returned values range from 0 to\n",
      "        positive infinity if lambd is positive, and from negative\n",
      "        infinity to 0 if lambd is negative.\n",
      "    \n",
      "    gammavariate(alpha, beta) method of Random instance\n",
      "        Gamma distribution.  Not the gamma function!\n",
      "        \n",
      "        Conditions on the parameters are alpha > 0 and beta > 0.\n",
      "        \n",
      "        The probability distribution function is:\n",
      "        \n",
      "                    x ** (alpha - 1) * math.exp(-x / beta)\n",
      "          pdf(x) =  --------------------------------------\n",
      "                      math.gamma(alpha) * beta ** alpha\n",
      "    \n",
      "    gauss(mu, sigma) method of Random instance\n",
      "        Gaussian distribution.\n",
      "        \n",
      "        mu is the mean, and sigma is the standard deviation.  This is\n",
      "        slightly faster than the normalvariate() function.\n",
      "        \n",
      "        Not thread-safe without a lock around calls.\n",
      "    \n",
      "    getrandbits(k, /) method of Random instance\n",
      "        getrandbits(k) -> x.  Generates an int with k random bits.\n",
      "    \n",
      "    getstate() method of Random instance\n",
      "        Return internal state; can be passed to setstate() later.\n",
      "    \n",
      "    lognormvariate(mu, sigma) method of Random instance\n",
      "        Log normal distribution.\n",
      "        \n",
      "        If you take the natural logarithm of this distribution, you'll get a\n",
      "        normal distribution with mean mu and standard deviation sigma.\n",
      "        mu can have any value, and sigma must be greater than zero.\n",
      "    \n",
      "    normalvariate(mu, sigma) method of Random instance\n",
      "        Normal distribution.\n",
      "        \n",
      "        mu is the mean, and sigma is the standard deviation.\n",
      "    \n",
      "    paretovariate(alpha) method of Random instance\n",
      "        Pareto distribution.  alpha is the shape parameter.\n",
      "    \n",
      "    randbytes(n) method of Random instance\n",
      "        Generate n random bytes.\n",
      "    \n",
      "    randint(a, b) method of Random instance\n",
      "        Return random integer in range [a, b], including both end points.\n",
      "    \n",
      "    random() method of Random instance\n",
      "        random() -> x in the interval [0, 1).\n",
      "    \n",
      "    randrange(start, stop=None, step=1) method of Random instance\n",
      "        Choose a random item from range(start, stop[, step]).\n",
      "        \n",
      "        This fixes the problem with randint() which includes the\n",
      "        endpoint; in Python this is usually not what you want.\n",
      "    \n",
      "    sample(population, k, *, counts=None) method of Random instance\n",
      "        Chooses k unique random elements from a population sequence or set.\n",
      "        \n",
      "        Returns a new list containing elements from the population while\n",
      "        leaving the original population unchanged.  The resulting list is\n",
      "        in selection order so that all sub-slices will also be valid random\n",
      "        samples.  This allows raffle winners (the sample) to be partitioned\n",
      "        into grand prize and second place winners (the subslices).\n",
      "        \n",
      "        Members of the population need not be hashable or unique.  If the\n",
      "        population contains repeats, then each occurrence is a possible\n",
      "        selection in the sample.\n",
      "        \n",
      "        Repeated elements can be specified one at a time or with the optional\n",
      "        counts parameter.  For example:\n",
      "        \n",
      "            sample(['red', 'blue'], counts=[4, 2], k=5)\n",
      "        \n",
      "        is equivalent to:\n",
      "        \n",
      "            sample(['red', 'red', 'red', 'red', 'blue', 'blue'], k=5)\n",
      "        \n",
      "        To choose a sample from a range of integers, use range() for the\n",
      "        population argument.  This is especially fast and space efficient\n",
      "        for sampling from a large population:\n",
      "        \n",
      "            sample(range(10000000), 60)\n",
      "    \n",
      "    seed(a=None, version=2) method of Random instance\n",
      "        Initialize internal state from a seed.\n",
      "        \n",
      "        The only supported seed types are None, int, float,\n",
      "        str, bytes, and bytearray.\n",
      "        \n",
      "        None or no argument seeds from current time or from an operating\n",
      "        system specific randomness source if available.\n",
      "        \n",
      "        If *a* is an int, all bits are used.\n",
      "        \n",
      "        For version 2 (the default), all of the bits are used if *a* is a str,\n",
      "        bytes, or bytearray.  For version 1 (provided for reproducing random\n",
      "        sequences from older versions of Python), the algorithm for str and\n",
      "        bytes generates a narrower range of seeds.\n",
      "    \n",
      "    setstate(state) method of Random instance\n",
      "        Restore internal state from object returned by getstate().\n",
      "    \n",
      "    shuffle(x, random=None) method of Random instance\n",
      "        Shuffle list x in place, and return None.\n",
      "        \n",
      "        Optional argument random is a 0-argument function returning a\n",
      "        random float in [0.0, 1.0); if it is the default None, the\n",
      "        standard random.random will be used.\n",
      "    \n",
      "    triangular(low=0.0, high=1.0, mode=None) method of Random instance\n",
      "        Triangular distribution.\n",
      "        \n",
      "        Continuous distribution bounded by given lower and upper limits,\n",
      "        and having a given mode value in-between.\n",
      "        \n",
      "        http://en.wikipedia.org/wiki/Triangular_distribution\n",
      "    \n",
      "    uniform(a, b) method of Random instance\n",
      "        Get a random number in the range [a, b) or [a, b] depending on rounding.\n",
      "    \n",
      "    vonmisesvariate(mu, kappa) method of Random instance\n",
      "        Circular data distribution.\n",
      "        \n",
      "        mu is the mean angle, expressed in radians between 0 and 2*pi, and\n",
      "        kappa is the concentration parameter, which must be greater than or\n",
      "        equal to zero.  If kappa is equal to zero, this distribution reduces\n",
      "        to a uniform random angle over the range 0 to 2*pi.\n",
      "    \n",
      "    weibullvariate(alpha, beta) method of Random instance\n",
      "        Weibull distribution.\n",
      "        \n",
      "        alpha is the scale parameter and beta is the shape parameter.\n",
      "\n",
      "DATA\n",
      "    __all__ = ['Random', 'SystemRandom', 'betavariate', 'choice', 'choices...\n",
      "\n",
      "FILE\n",
      "    /Users/iprabhatkumar/opt/anaconda3/lib/python3.9/random.py\n",
      "\n",
      "\n"
     ]
    }
   ],
   "source": [
    "import random\n",
    "help(random)"
   ]
  },
  {
   "cell_type": "code",
   "execution_count": 14,
   "metadata": {
    "pycharm": {
     "name": "#%%\n"
    }
   },
   "outputs": [
    {
     "ename": "FileNotFoundError",
     "evalue": "[Errno 2] No such file or directory: '-f'",
     "output_type": "error",
     "traceback": [
      "\u001B[0;31m---------------------------------------------------------------------------\u001B[0m",
      "\u001B[0;31mFileNotFoundError\u001B[0m                         Traceback (most recent call last)",
      "Input \u001B[0;32mIn [14]\u001B[0m, in \u001B[0;36m<cell line: 4>\u001B[0;34m()\u001B[0m\n\u001B[1;32m      1\u001B[0m \u001B[38;5;28;01mimport\u001B[39;00m \u001B[38;5;21;01mos\u001B[39;00m\n\u001B[1;32m      2\u001B[0m \u001B[38;5;28;01mimport\u001B[39;00m \u001B[38;5;21;01msys\u001B[39;00m\n\u001B[0;32m----> 4\u001B[0m \u001B[38;5;28mprint\u001B[39m(\u001B[38;5;28msorted\u001B[39m(\u001B[43mos\u001B[49m\u001B[38;5;241;43m.\u001B[39;49m\u001B[43mlistdir\u001B[49m\u001B[43m(\u001B[49m\u001B[43msys\u001B[49m\u001B[38;5;241;43m.\u001B[39;49m\u001B[43margv\u001B[49m\u001B[43m[\u001B[49m\u001B[38;5;241;43m1\u001B[39;49m\u001B[43m]\u001B[49m\u001B[43m)\u001B[49m))\n",
      "\u001B[0;31mFileNotFoundError\u001B[0m: [Errno 2] No such file or directory: '-f'"
     ]
    }
   ],
   "source": [
    "\n",
    "import os\n",
    "import sys\n",
    "\n",
    "print(sorted(os.listdir(sys.argv[1])))"
   ]
  },
  {
   "cell_type": "code",
   "execution_count": 16,
   "metadata": {
    "pycharm": {
     "name": "#%%\n"
    }
   },
   "outputs": [],
   "source": [
    "import os\n",
    "import sys\n",
    "\n",
    "# If we are not given a path to list, use /tmp\n",
    "if len(sys.argv) == 1:\n",
    "    root = '/tmp'\n",
    "else:\n",
    "    root = sys.argv[1]\n",
    "\n",
    "for dir_name, sub_dirs, files in os.walk(root):\n",
    "    print(dir_name)\n",
    "    # Make the subdirectory names stand out with /\n",
    "    sub_dirs = [n + '/' for n in sub_dirs]\n",
    "    # Mix the directory contents together\n",
    "    contents = sub_dirs + files\n",
    "    contents.sort()\n",
    "    # Show the contents\n",
    "    for c in contents:\n",
    "        print('  {}'.format(c))\n",
    "    print()"
   ]
  },
  {
   "cell_type": "code",
   "execution_count": 17,
   "metadata": {
    "pycharm": {
     "name": "#%%\n"
    }
   },
   "outputs": [
    {
     "ename": "FileNotFoundError",
     "evalue": "[Errno 2] No such file or directory: '-f'",
     "output_type": "error",
     "traceback": [
      "\u001B[0;31m---------------------------------------------------------------------------\u001B[0m",
      "\u001B[0;31mFileNotFoundError\u001B[0m                         Traceback (most recent call last)",
      "Input \u001B[0;32mIn [17]\u001B[0m, in \u001B[0;36m<cell line: 4>\u001B[0;34m()\u001B[0m\n\u001B[1;32m      1\u001B[0m \u001B[38;5;28;01mimport\u001B[39;00m \u001B[38;5;21;01mos\u001B[39;00m\n\u001B[1;32m      2\u001B[0m \u001B[38;5;28;01mimport\u001B[39;00m \u001B[38;5;21;01msys\u001B[39;00m\n\u001B[0;32m----> 4\u001B[0m \u001B[38;5;28;01mfor\u001B[39;00m entry \u001B[38;5;129;01min\u001B[39;00m \u001B[43mos\u001B[49m\u001B[38;5;241;43m.\u001B[39;49m\u001B[43mscandir\u001B[49m\u001B[43m(\u001B[49m\u001B[43msys\u001B[49m\u001B[38;5;241;43m.\u001B[39;49m\u001B[43margv\u001B[49m\u001B[43m[\u001B[49m\u001B[38;5;241;43m1\u001B[39;49m\u001B[43m]\u001B[49m\u001B[43m)\u001B[49m:\n\u001B[1;32m      5\u001B[0m     \u001B[38;5;28;01mif\u001B[39;00m entry\u001B[38;5;241m.\u001B[39mis_dir():\n\u001B[1;32m      6\u001B[0m         typ \u001B[38;5;241m=\u001B[39m \u001B[38;5;124m'\u001B[39m\u001B[38;5;124mdir\u001B[39m\u001B[38;5;124m'\u001B[39m\n",
      "\u001B[0;31mFileNotFoundError\u001B[0m: [Errno 2] No such file or directory: '-f'"
     ]
    }
   ],
   "source": [
    "import os\n",
    "import sys\n",
    "\n",
    "for entry in os.scandir(sys.argv[1]):\n",
    "    if entry.is_dir():\n",
    "        typ = 'dir'\n",
    "    elif entry.is_file():\n",
    "        typ = 'file'\n",
    "    elif entry.is_symlink():\n",
    "        typ = 'link'\n",
    "    else:\n",
    "        typ = 'unknown'\n",
    "    print('{name} {typ}'.format(\n",
    "        name=entry.name,\n",
    "        typ=typ,\n",
    "    ))"
   ]
  },
  {
   "cell_type": "code",
   "execution_count": 18,
   "metadata": {
    "pycharm": {
     "name": "#%%\n"
    }
   },
   "outputs": [
    {
     "ename": "FileNotFoundError",
     "evalue": "[Errno 2] No such file or directory: '-f'",
     "output_type": "error",
     "traceback": [
      "\u001B[0;31m---------------------------------------------------------------------------\u001B[0m",
      "\u001B[0;31mFileNotFoundError\u001B[0m                         Traceback (most recent call last)",
      "Input \u001B[0;32mIn [18]\u001B[0m, in \u001B[0;36m<cell line: 10>\u001B[0;34m()\u001B[0m\n\u001B[1;32m      7\u001B[0m \u001B[38;5;28;01melse\u001B[39;00m:\n\u001B[1;32m      8\u001B[0m     filename \u001B[38;5;241m=\u001B[39m sys\u001B[38;5;241m.\u001B[39margv[\u001B[38;5;241m1\u001B[39m]\n\u001B[0;32m---> 10\u001B[0m stat_info \u001B[38;5;241m=\u001B[39m \u001B[43mos\u001B[49m\u001B[38;5;241;43m.\u001B[39;49m\u001B[43mstat\u001B[49m\u001B[43m(\u001B[49m\u001B[43mfilename\u001B[49m\u001B[43m)\u001B[49m\n\u001B[1;32m     12\u001B[0m \u001B[38;5;28mprint\u001B[39m(\u001B[38;5;124m'\u001B[39m\u001B[38;5;124mos.stat(\u001B[39m\u001B[38;5;132;01m{}\u001B[39;00m\u001B[38;5;124m):\u001B[39m\u001B[38;5;124m'\u001B[39m\u001B[38;5;241m.\u001B[39mformat(filename))\n\u001B[1;32m     13\u001B[0m \u001B[38;5;28mprint\u001B[39m(\u001B[38;5;124m'\u001B[39m\u001B[38;5;124m  Size:\u001B[39m\u001B[38;5;124m'\u001B[39m, stat_info\u001B[38;5;241m.\u001B[39mst_size)\n",
      "\u001B[0;31mFileNotFoundError\u001B[0m: [Errno 2] No such file or directory: '-f'"
     ]
    }
   ],
   "source": [
    "import os\n",
    "import sys\n",
    "import time\n",
    "\n",
    "if len(sys.argv) == 1:\n",
    "    filename = __file__\n",
    "else:\n",
    "    filename = sys.argv[1]\n",
    "\n",
    "stat_info = os.stat(filename)\n",
    "\n",
    "print('os.stat({}):'.format(filename))\n",
    "print('  Size:', stat_info.st_size)\n",
    "print('  Permissions:', oct(stat_info.st_mode))\n",
    "print('  Owner:', stat_info.st_uid)\n",
    "print('  Device:', stat_info.st_dev)\n",
    "print('  Created      :', time.ctime(stat_info.st_ctime))\n",
    "print('  Last modified:', time.ctime(stat_info.st_mtime))\n",
    "print('  Last accessed:', time.ctime(stat_info.st_atime))"
   ]
  },
  {
   "cell_type": "code",
   "execution_count": null,
   "metadata": {
    "pycharm": {
     "name": "#%%\n"
    }
   },
   "outputs": [],
   "source": []
  },
  {
   "cell_type": "code",
   "execution_count": 21,
   "metadata": {
    "pycharm": {
     "name": "#%%\n"
    }
   },
   "outputs": [],
   "source": [
    "import os"
   ]
  },
  {
   "cell_type": "code",
   "execution_count": 22,
   "metadata": {
    "pycharm": {
     "name": "#%%\n"
    }
   },
   "outputs": [],
   "source": [
    "import sys"
   ]
  },
  {
   "cell_type": "code",
   "execution_count": 10,
   "metadata": {
    "pycharm": {
     "name": "#%%\n"
    }
   },
   "outputs": [
    {
     "name": "stdout",
     "output_type": "stream",
     "text": [
      "True\n"
     ]
    }
   ],
   "source": [
    "import filecmp\n",
    "\n",
    "file1 = \"/Users/iprabhatkumar/Documents/Self Pace Learning/Python Learning /Python Scripts and Tutorials/Python Code- WFI (ATOM)/factorial.py\"\n",
    "file2 = \"/Users/iprabhatkumar/Documents/Self Pace Learning/Python Learning /Python Scripts and Tutorials/Python Code- WFI (ATOM)/functions3.py\"\n",
    "\n",
    "print (filecmp.cmp(file1, file2))"
   ]
  },
  {
   "cell_type": "code",
   "execution_count": 1,
   "metadata": {
    "pycharm": {
     "name": "#%%\n"
    }
   },
   "outputs": [
    {
     "name": "stdout",
     "output_type": "stream",
     "text": [
      "Requirement already satisfied: download in /Users/iprabhatkumar/opt/anaconda3/lib/python3.9/site-packages (0.3.5)\n",
      "Requirement already satisfied: tqdm in /Users/iprabhatkumar/opt/anaconda3/lib/python3.9/site-packages (from download) (4.64.0)\n",
      "Requirement already satisfied: six in /Users/iprabhatkumar/opt/anaconda3/lib/python3.9/site-packages (from download) (1.16.0)\n",
      "Requirement already satisfied: requests in /Users/iprabhatkumar/opt/anaconda3/lib/python3.9/site-packages (from download) (2.27.1)\n",
      "Requirement already satisfied: charset-normalizer~=2.0.0 in /Users/iprabhatkumar/opt/anaconda3/lib/python3.9/site-packages (from requests->download) (2.0.4)\n",
      "Requirement already satisfied: certifi>=2017.4.17 in /Users/iprabhatkumar/opt/anaconda3/lib/python3.9/site-packages (from requests->download) (2021.10.8)\n",
      "Requirement already satisfied: idna<4,>=2.5 in /Users/iprabhatkumar/opt/anaconda3/lib/python3.9/site-packages (from requests->download) (3.3)\n",
      "Requirement already satisfied: urllib3<1.27,>=1.21.1 in /Users/iprabhatkumar/opt/anaconda3/lib/python3.9/site-packages (from requests->download) (1.26.9)\n",
      "Note: you may need to restart the kernel to use updated packages.\n"
     ]
    }
   ],
   "source": [
    "pip install download"
   ]
  },
  {
   "cell_type": "code",
   "execution_count": 2,
   "metadata": {
    "pycharm": {
     "name": "#%%\n"
    }
   },
   "outputs": [
    {
     "name": "stdout",
     "output_type": "stream",
     "text": [
      "Downloading data from https://pymotw.com/3/os/index.html#module-os (92 kB)\n",
      "\n",
      "file_sizes: 100%|██████████████████████████| 94.2k/94.2k [00:00<00:00, 1.55MB/s]\n",
      "Successfully downloaded file to /Users/iprabhatkumar/Documents/Self Pace Learning/Python Learning /Python Scripts and Tutorials/modules.html\n"
     ]
    },
    {
     "data": {
      "text/plain": [
       "'/Users/iprabhatkumar/Documents/Self Pace Learning/Python Learning /Python Scripts and Tutorials/modules.html'"
      ]
     },
     "execution_count": 2,
     "metadata": {},
     "output_type": "execute_result"
    }
   ],
   "source": [
    "from download import download\n",
    "# download(\"source\",\"destination\")\n",
    "download (\"https://pymotw.com/3/os/index.html#module-os\",\"/Users/iprabhatkumar/Documents/Self Pace Learning/Python Learning /Python Scripts and Tutorials/modules.html\")\n"
   ]
  },
  {
   "cell_type": "code",
   "execution_count": 4,
   "metadata": {
    "pycharm": {
     "name": "#%%\n"
    }
   },
   "outputs": [
    {
     "name": "stdout",
     "output_type": "stream",
     "text": [
      "\u001B[31mERROR: Could not find a version that satisfies the requirement sys (from versions: none)\u001B[0m\n",
      "\u001B[31mERROR: No matching distribution found for sys\u001B[0m\n",
      "Note: you may need to restart the kernel to use updated packages.\n"
     ]
    }
   ],
   "source": [
    "pip install sys"
   ]
  },
  {
   "cell_type": "code",
   "execution_count": 5,
   "metadata": {
    "pycharm": {
     "name": "#%%\n"
    }
   },
   "outputs": [
    {
     "name": "stdout",
     "output_type": "stream",
     "text": [
      "Collecting bottle\n",
      "  Downloading bottle-0.12.21-py3-none-any.whl (89 kB)\n",
      "\u001B[K     |████████████████████████████████| 89 kB 5.2 MB/s eta 0:00:011\n",
      "\u001B[?25hInstalling collected packages: bottle\n",
      "Successfully installed bottle-0.12.21\n",
      "Note: you may need to restart the kernel to use updated packages.\n"
     ]
    }
   ],
   "source": [
    "pip install bottle"
   ]
  },
  {
   "cell_type": "code",
   "execution_count": 1,
   "metadata": {
    "pycharm": {
     "name": "#%%\n"
    }
   },
   "outputs": [
    {
     "name": "stdout",
     "output_type": "stream",
     "text": [
      "Package                       Version\r\n",
      "----------------------------- --------------------\r\n",
      "aiohttp                       3.8.1\r\n",
      "aiosignal                     1.2.0\r\n",
      "alabaster                     0.7.12\r\n",
      "anaconda-client               1.9.0\r\n",
      "anaconda-navigator            2.1.4\r\n",
      "anaconda-project              0.10.2\r\n",
      "anyio                         3.5.0\r\n",
      "appdirs                       1.4.4\r\n",
      "applaunchservices             0.2.1\r\n",
      "appnope                       0.1.2\r\n",
      "appscript                     1.1.2\r\n",
      "argon2-cffi                   21.3.0\r\n",
      "argon2-cffi-bindings          21.2.0\r\n",
      "arrow                         1.2.2\r\n",
      "astroid                       2.6.6\r\n",
      "astropy                       5.0.4\r\n",
      "asttokens                     2.0.5\r\n",
      "async-timeout                 4.0.1\r\n",
      "atomicwrites                  1.4.0\r\n",
      "attrs                         21.4.0\r\n",
      "Automat                       20.2.0\r\n",
      "autopep8                      1.6.0\r\n",
      "Babel                         2.9.1\r\n",
      "backcall                      0.2.0\r\n",
      "backports.functools-lru-cache 1.6.4\r\n",
      "backports.tempfile            1.0\r\n",
      "backports.weakref             1.0.post1\r\n",
      "bcrypt                        3.2.0\r\n",
      "beautifulsoup4                4.11.1\r\n",
      "binaryornot                   0.4.4\r\n",
      "bitarray                      2.4.1\r\n",
      "bkcharts                      0.2\r\n",
      "black                         19.10b0\r\n",
      "bleach                        4.1.0\r\n",
      "bokeh                         2.4.2\r\n",
      "boto3                         1.21.32\r\n",
      "botocore                      1.24.32\r\n",
      "bottle                        0.12.21\r\n",
      "Bottleneck                    1.3.4\r\n",
      "brotlipy                      0.7.0\r\n",
      "cachetools                    4.2.2\r\n",
      "certifi                       2021.10.8\r\n",
      "cffi                          1.15.0\r\n",
      "chardet                       4.0.0\r\n",
      "charset-normalizer            2.0.4\r\n",
      "click                         8.0.4\r\n",
      "cloudpickle                   2.0.0\r\n",
      "clyent                        1.2.2\r\n",
      "colorama                      0.4.4\r\n",
      "colorcet                      2.0.6\r\n",
      "conda                         4.12.0\r\n",
      "conda-build                   3.21.8\r\n",
      "conda-content-trust           0+unknown\r\n",
      "conda-pack                    0.6.0\r\n",
      "conda-package-handling        1.8.1\r\n",
      "conda-repo-cli                1.0.4\r\n",
      "conda-token                   0.3.0\r\n",
      "conda-verify                  3.4.2\r\n",
      "constantly                    15.1.0\r\n",
      "cookiecutter                  1.7.3\r\n",
      "cryptography                  3.4.8\r\n",
      "cssselect                     1.1.0\r\n",
      "cycler                        0.11.0\r\n",
      "Cython                        0.29.28\r\n",
      "cytoolz                       0.11.0\r\n",
      "daal4py                       2021.5.0\r\n",
      "dask                          2022.2.1\r\n",
      "datashader                    0.13.0\r\n",
      "datashape                     0.5.4\r\n",
      "debugpy                       1.5.1\r\n",
      "decorator                     5.1.1\r\n",
      "defusedxml                    0.7.1\r\n",
      "diff-match-patch              20200713\r\n",
      "distributed                   2022.2.1\r\n",
      "docutils                      0.17.1\r\n",
      "download                      0.3.5\r\n",
      "entrypoints                   0.4\r\n",
      "et-xmlfile                    1.1.0\r\n",
      "executing                     0.8.3\r\n",
      "fastjsonschema                2.15.1\r\n",
      "filelock                      3.6.0\r\n",
      "flake8                        3.9.2\r\n",
      "Flask                         1.1.2\r\n",
      "fonttools                     4.25.0\r\n",
      "frozenlist                    1.2.0\r\n",
      "fsspec                        2022.2.0\r\n",
      "future                        0.18.2\r\n",
      "gensim                        4.1.2\r\n",
      "glob2                         0.7\r\n",
      "gmpy2                         2.1.2\r\n",
      "google-api-core               1.25.1\r\n",
      "google-auth                   1.33.0\r\n",
      "google-cloud-core             1.7.1\r\n",
      "google-cloud-storage          1.31.0\r\n",
      "google-crc32c                 1.1.2\r\n",
      "google-resumable-media        1.3.1\r\n",
      "googleapis-common-protos      1.53.0\r\n",
      "greenlet                      1.1.1\r\n",
      "grpcio                        1.42.0\r\n",
      "h5py                          3.6.0\r\n",
      "HeapDict                      1.0.1\r\n",
      "holoviews                     1.14.8\r\n",
      "hvplot                        0.7.3\r\n",
      "hyperlink                     21.0.0\r\n",
      "idna                          3.3\r\n",
      "imagecodecs                   2021.8.26\r\n",
      "imageio                       2.9.0\r\n",
      "imagesize                     1.3.0\r\n",
      "importlib-metadata            4.11.3\r\n",
      "incremental                   21.3.0\r\n",
      "inflection                    0.5.1\r\n",
      "iniconfig                     1.1.1\r\n",
      "intake                        0.6.5\r\n",
      "intervaltree                  3.1.0\r\n",
      "ipykernel                     6.9.1\r\n",
      "ipython                       8.2.0\r\n",
      "ipython-genutils              0.2.0\r\n",
      "ipywidgets                    7.6.5\r\n",
      "isort                         5.9.3\r\n",
      "itemadapter                   0.3.0\r\n",
      "itemloaders                   1.0.4\r\n",
      "itsdangerous                  2.0.1\r\n",
      "jdcal                         1.4.1\r\n",
      "jedi                          0.18.1\r\n",
      "Jinja2                        2.11.3\r\n",
      "jinja2-time                   0.2.0\r\n",
      "jmespath                      0.10.0\r\n",
      "joblib                        1.1.0\r\n",
      "json5                         0.9.6\r\n",
      "jsonschema                    4.4.0\r\n",
      "jupyter                       1.0.0\r\n",
      "jupyter-client                6.1.12\r\n",
      "jupyter-console               6.4.0\r\n",
      "jupyter-core                  4.9.2\r\n",
      "jupyter-server                1.13.5\r\n",
      "jupyterlab                    3.3.2\r\n",
      "jupyterlab-pygments           0.1.2\r\n",
      "jupyterlab-server             2.10.3\r\n",
      "jupyterlab-widgets            1.0.0\r\n",
      "keyring                       23.4.0\r\n",
      "kiwisolver                    1.3.2\r\n",
      "lazy-object-proxy             1.6.0\r\n",
      "libarchive-c                  2.9\r\n",
      "llvmlite                      0.38.0\r\n",
      "locket                        0.2.1\r\n",
      "lxml                          4.8.0\r\n",
      "Markdown                      3.3.4\r\n",
      "MarkupSafe                    2.0.1\r\n",
      "matplotlib                    3.5.1\r\n",
      "matplotlib-inline             0.1.2\r\n",
      "mccabe                        0.6.1\r\n",
      "mistune                       0.8.4\r\n",
      "mkl-fft                       1.3.1\r\n",
      "mkl-random                    1.2.2\r\n",
      "mkl-service                   2.4.0\r\n",
      "mock                          4.0.3\r\n",
      "mpmath                        1.2.1\r\n",
      "msgpack                       1.0.2\r\n",
      "multidict                     5.2.0\r\n",
      "multipledispatch              0.6.0\r\n",
      "munkres                       1.1.4\r\n",
      "mypy-extensions               0.4.3\r\n",
      "navigator-updater             0.2.1\r\n",
      "nbclassic                     0.3.5\r\n",
      "nbclient                      0.5.13\r\n",
      "nbconvert                     6.4.4\r\n",
      "nbformat                      5.3.0\r\n",
      "nest-asyncio                  1.5.5\r\n",
      "networkx                      2.7.1\r\n",
      "nltk                          3.7\r\n",
      "nose                          1.3.7\r\n",
      "notebook                      6.4.8\r\n",
      "numba                         0.55.1\r\n",
      "numexpr                       2.8.1\r\n",
      "numpy                         1.21.5\r\n",
      "numpydoc                      1.2\r\n",
      "olefile                       0.46\r\n",
      "openpyxl                      3.0.9\r\n",
      "packaging                     21.3\r\n",
      "pandas                        1.4.2\r\n",
      "pandocfilters                 1.5.0\r\n",
      "panel                         0.13.0\r\n",
      "param                         1.12.0\r\n",
      "parsel                        1.6.0\r\n",
      "parso                         0.8.3\r\n",
      "partd                         1.2.0\r\n",
      "pathspec                      0.7.0\r\n",
      "patsy                         0.5.2\r\n",
      "pep8                          1.7.1\r\n",
      "pexpect                       4.8.0\r\n",
      "pickleshare                   0.7.5\r\n",
      "Pillow                        9.0.1\r\n",
      "pip                           21.2.4\r\n",
      "pkginfo                       1.8.2\r\n",
      "plotly                        5.6.0\r\n",
      "pluggy                        1.0.0\r\n",
      "poyo                          0.5.0\r\n",
      "prometheus-client             0.13.1\r\n",
      "prompt-toolkit                3.0.20\r\n",
      "Protego                       0.1.16\r\n",
      "protobuf                      3.19.1\r\n",
      "psutil                        5.8.0\r\n",
      "ptyprocess                    0.7.0\r\n",
      "pure-eval                     0.2.2\r\n",
      "py                            1.11.0\r\n",
      "pyasn1                        0.4.8\r\n",
      "pyasn1-modules                0.2.8\r\n",
      "pycodestyle                   2.7.0\r\n",
      "pycosat                       0.6.3\r\n",
      "pycparser                     2.21\r\n",
      "pyct                          0.4.6\r\n",
      "pycurl                        7.44.1\r\n",
      "PyDispatcher                  2.0.5\r\n",
      "pydocstyle                    6.1.1\r\n",
      "pyerfa                        2.0.0\r\n",
      "pyflakes                      2.3.1\r\n",
      "Pygments                      2.11.2\r\n",
      "PyHamcrest                    2.0.2\r\n",
      "PyJWT                         2.1.0\r\n",
      "pylint                        2.9.6\r\n",
      "pyls-spyder                   0.4.0\r\n",
      "pyodbc                        4.0.32\r\n",
      "pyOpenSSL                     21.0.0\r\n",
      "pyparsing                     3.0.4\r\n",
      "pyrsistent                    0.18.0\r\n",
      "PySocks                       1.7.1\r\n",
      "pytest                        7.1.1\r\n",
      "python-dateutil               2.8.2\r\n",
      "python-lsp-black              1.0.0\r\n",
      "python-lsp-jsonrpc            1.0.0\r\n",
      "python-lsp-server             1.2.4\r\n",
      "python-slugify                5.0.2\r\n",
      "python-snappy                 0.6.0\r\n",
      "pytz                          2021.3\r\n",
      "pyviz-comms                   2.0.2\r\n",
      "PyWavelets                    1.3.0\r\n",
      "PyYAML                        6.0\r\n",
      "pyzmq                         22.3.0\r\n",
      "QDarkStyle                    3.0.2\r\n",
      "qstylizer                     0.1.10\r\n",
      "QtAwesome                     1.0.3\r\n",
      "qtconsole                     5.3.0\r\n",
      "QtPy                          2.0.1\r\n",
      "queuelib                      1.5.0\r\n",
      "regex                         2022.3.15\r\n",
      "requests                      2.27.1\r\n",
      "requests-file                 1.5.1\r\n",
      "rope                          0.22.0\r\n",
      "rsa                           4.7.2\r\n",
      "Rtree                         0.9.7\r\n",
      "ruamel-yaml-conda             0.15.100\r\n",
      "s3transfer                    0.5.0\r\n",
      "scikit-image                  0.19.2\r\n",
      "scikit-learn                  1.0.2\r\n",
      "scikit-learn-intelex          2021.20220215.132722\r\n",
      "scipy                         1.7.3\r\n",
      "Scrapy                        2.6.1\r\n",
      "seaborn                       0.11.2\r\n",
      "Send2Trash                    1.8.0\r\n",
      "service-identity              18.1.0\r\n",
      "setuptools                    61.2.0\r\n",
      "sip                           4.19.13\r\n",
      "six                           1.16.0\r\n",
      "smart-open                    5.1.0\r\n",
      "sniffio                       1.2.0\r\n",
      "snowballstemmer               2.2.0\r\n",
      "sortedcollections             2.1.0\r\n",
      "sortedcontainers              2.4.0\r\n",
      "soupsieve                     2.3.1\r\n",
      "Sphinx                        4.4.0\r\n",
      "sphinxcontrib-applehelp       1.0.2\r\n",
      "sphinxcontrib-devhelp         1.0.2\r\n",
      "sphinxcontrib-htmlhelp        2.0.0\r\n",
      "sphinxcontrib-jsmath          1.0.1\r\n",
      "sphinxcontrib-qthelp          1.0.3\r\n",
      "sphinxcontrib-serializinghtml 1.1.5\r\n",
      "spyder                        5.1.5\r\n",
      "spyder-kernels                2.1.3\r\n",
      "SQLAlchemy                    1.4.32\r\n",
      "stack-data                    0.2.0\r\n",
      "statsmodels                   0.13.2\r\n",
      "sympy                         1.10.1\r\n",
      "tables                        3.6.1\r\n",
      "tabulate                      0.8.9\r\n",
      "TBB                           0.2\r\n",
      "tblib                         1.7.0\r\n",
      "tenacity                      8.0.1\r\n",
      "terminado                     0.13.1\r\n",
      "testpath                      0.5.0\r\n",
      "text-unidecode                1.3\r\n",
      "textdistance                  4.2.1\r\n",
      "threadpoolctl                 2.2.0\r\n",
      "three-merge                   0.1.1\r\n",
      "tifffile                      2021.7.2\r\n",
      "tinycss                       0.4\r\n",
      "tldextract                    3.2.0\r\n",
      "toml                          0.10.2\r\n",
      "tomli                         1.2.2\r\n",
      "toolz                         0.11.2\r\n",
      "tornado                       6.1\r\n",
      "tqdm                          4.64.0\r\n",
      "traitlets                     5.1.1\r\n",
      "Twisted                       22.2.0\r\n",
      "typed-ast                     1.4.3\r\n",
      "typing_extensions             4.1.1\r\n",
      "ujson                         5.1.0\r\n",
      "Unidecode                     1.2.0\r\n",
      "urllib3                       1.26.9\r\n",
      "w3lib                         1.21.0\r\n",
      "watchdog                      2.1.6\r\n",
      "wcwidth                       0.2.5\r\n",
      "webencodings                  0.5.1\r\n",
      "websocket-client              0.58.0\r\n",
      "Werkzeug                      2.0.3\r\n",
      "wheel                         0.37.1\r\n",
      "widgetsnbextension            3.5.2\r\n",
      "wrapt                         1.12.1\r\n",
      "wurlitzer                     3.0.2\r\n",
      "xarray                        0.20.1\r\n",
      "xlrd                          2.0.1\r\n",
      "XlsxWriter                    3.0.3\r\n",
      "xlwings                       0.24.9\r\n",
      "yapf                          0.31.0\r\n",
      "yarl                          1.6.3\r\n",
      "zict                          2.0.0\r\n",
      "zipp                          3.7.0\r\n",
      "zope.interface                5.4.0\r\n"
     ]
    },
    {
     "name": "stdout",
     "output_type": "stream",
     "text": [
      "Note: you may need to restart the kernel to use updated packages.\n"
     ]
    }
   ],
   "source": [
    "pip list"
   ]
  },
  {
   "cell_type": "code",
   "execution_count": 2,
   "metadata": {
    "pycharm": {
     "name": "#%%\n"
    }
   },
   "outputs": [
    {
     "name": "stdout",
     "output_type": "stream",
     "text": [
      "Name: bottle\n",
      "Version: 0.12.21\n",
      "Summary: Fast and simple WSGI-framework for small web-applications.\n",
      "Home-page: http://bottlepy.org/\n",
      "Author: Marcel Hellkamp\n",
      "Author-email: marc@gsites.de\n",
      "License: MIT\n",
      "Location: /Users/iprabhatkumar/opt/anaconda3/lib/python3.9/site-packages\n",
      "Requires: \n",
      "Required-by: \n",
      "Note: you may need to restart the kernel to use updated packages.\n"
     ]
    }
   ],
   "source": [
    "pip show bottle"
   ]
  },
  {
   "cell_type": "code",
   "execution_count": null,
   "metadata": {
    "pycharm": {
     "name": "#%%\n"
    }
   },
   "outputs": [
    {
     "name": "stdout",
     "output_type": "stream",
     "text": [
      "Found existing installation: bottle 0.12.21\r\n",
      "Uninstalling bottle-0.12.21:\r\n",
      "  Would remove:\r\n",
      "    /Users/iprabhatkumar/opt/anaconda3/bin/bottle.py\r\n",
      "    /Users/iprabhatkumar/opt/anaconda3/lib/python3.9/site-packages/bottle-0.12.21.dist-info/*\r\n",
      "    /Users/iprabhatkumar/opt/anaconda3/lib/python3.9/site-packages/bottle.py\r\n",
      "Proceed (Y/n)? "
     ]
    }
   ],
   "source": [
    "pip uninstall bottle"
   ]
  },
  {
   "cell_type": "code",
   "execution_count": 5,
   "metadata": {
    "pycharm": {
     "name": "#%%\n"
    }
   },
   "outputs": [
    {
     "data": {
      "text/plain": [
       "['/Users/iprabhatkumar/Documents/Self Pace Learning/Python Learning /Python Scripts and Tutorials/Anaconda- Jupitor PYTHON',\n",
       " '/Users/iprabhatkumar/opt/anaconda3/lib/python39.zip',\n",
       " '/Users/iprabhatkumar/opt/anaconda3/lib/python3.9',\n",
       " '/Users/iprabhatkumar/opt/anaconda3/lib/python3.9/lib-dynload',\n",
       " '',\n",
       " '/Users/iprabhatkumar/opt/anaconda3/lib/python3.9/site-packages',\n",
       " '/Users/iprabhatkumar/opt/anaconda3/lib/python3.9/site-packages/aeosa']"
      ]
     },
     "execution_count": 5,
     "metadata": {},
     "output_type": "execute_result"
    }
   ],
   "source": [
    "import sys\n",
    "sys.path"
   ]
  },
  {
   "cell_type": "code",
   "execution_count": 6,
   "metadata": {
    "pycharm": {
     "name": "#%%\n"
    }
   },
   "outputs": [
    {
     "data": {
      "text/plain": [
       "<module 'posixpath' from '/Users/iprabhatkumar/opt/anaconda3/lib/python3.9/posixpath.py'>"
      ]
     },
     "execution_count": 6,
     "metadata": {},
     "output_type": "execute_result"
    }
   ],
   "source": [
    "import os\n",
    "os.path"
   ]
  },
  {
   "cell_type": "code",
   "execution_count": 7,
   "metadata": {
    "pycharm": {
     "name": "#%%\n"
    }
   },
   "outputs": [
    {
     "ename": "FileNotFoundError",
     "evalue": "[Errno 2] No such file or directory: '-f'",
     "output_type": "error",
     "traceback": [
      "\u001B[0;31m---------------------------------------------------------------------------\u001B[0m",
      "\u001B[0;31mFileNotFoundError\u001B[0m                         Traceback (most recent call last)",
      "Input \u001B[0;32mIn [7]\u001B[0m, in \u001B[0;36m<cell line: 9>\u001B[0;34m()\u001B[0m\n\u001B[1;32m      6\u001B[0m file1 \u001B[38;5;241m=\u001B[39m sys\u001B[38;5;241m.\u001B[39margv[\u001B[38;5;241m1\u001B[39m]\n\u001B[1;32m      7\u001B[0m file2 \u001B[38;5;241m=\u001B[39m sys\u001B[38;5;241m.\u001B[39margv[\u001B[38;5;241m2\u001B[39m]\n\u001B[0;32m----> 9\u001B[0m \u001B[38;5;28mprint\u001B[39m(\u001B[43mfilecmp\u001B[49m\u001B[38;5;241;43m.\u001B[39;49m\u001B[43mcmp\u001B[49m\u001B[43m(\u001B[49m\u001B[43mfile1\u001B[49m\u001B[43m,\u001B[49m\u001B[43m \u001B[49m\u001B[43mfile2\u001B[49m\u001B[43m)\u001B[49m)\n",
      "File \u001B[0;32m~/opt/anaconda3/lib/python3.9/filecmp.py:53\u001B[0m, in \u001B[0;36mcmp\u001B[0;34m(f1, f2, shallow)\u001B[0m\n\u001B[1;32m     30\u001B[0m \u001B[38;5;28;01mdef\u001B[39;00m \u001B[38;5;21mcmp\u001B[39m(f1, f2, shallow\u001B[38;5;241m=\u001B[39m\u001B[38;5;28;01mTrue\u001B[39;00m):\n\u001B[1;32m     31\u001B[0m     \u001B[38;5;124;03m\"\"\"Compare two files.\u001B[39;00m\n\u001B[1;32m     32\u001B[0m \n\u001B[1;32m     33\u001B[0m \u001B[38;5;124;03m    Arguments:\u001B[39;00m\n\u001B[0;32m   (...)\u001B[0m\n\u001B[1;32m     50\u001B[0m \n\u001B[1;32m     51\u001B[0m \u001B[38;5;124;03m    \"\"\"\u001B[39;00m\n\u001B[0;32m---> 53\u001B[0m     s1 \u001B[38;5;241m=\u001B[39m _sig(\u001B[43mos\u001B[49m\u001B[38;5;241;43m.\u001B[39;49m\u001B[43mstat\u001B[49m\u001B[43m(\u001B[49m\u001B[43mf1\u001B[49m\u001B[43m)\u001B[49m)\n\u001B[1;32m     54\u001B[0m     s2 \u001B[38;5;241m=\u001B[39m _sig(os\u001B[38;5;241m.\u001B[39mstat(f2))\n\u001B[1;32m     55\u001B[0m     \u001B[38;5;28;01mif\u001B[39;00m s1[\u001B[38;5;241m0\u001B[39m] \u001B[38;5;241m!=\u001B[39m stat\u001B[38;5;241m.\u001B[39mS_IFREG \u001B[38;5;129;01mor\u001B[39;00m s2[\u001B[38;5;241m0\u001B[39m] \u001B[38;5;241m!=\u001B[39m stat\u001B[38;5;241m.\u001B[39mS_IFREG:\n",
      "\u001B[0;31mFileNotFoundError\u001B[0m: [Errno 2] No such file or directory: '-f'"
     ]
    }
   ],
   "source": [
    "import sys\n",
    "import filecmp\n",
    "\n",
    "# how to handle command line parameters\n",
    "\n",
    "file1 = sys.argv[1]\n",
    "file2 = sys.argv[2]\n",
    "\n",
    "print(filecmp.cmp(file1, file2))"
   ]
  },
  {
   "cell_type": "code",
   "execution_count": 11,
   "metadata": {
    "pycharm": {
     "name": "#%%\n"
    }
   },
   "outputs": [
    {
     "name": "stdout",
     "output_type": "stream",
     "text": [
      "True\n"
     ]
    }
   ],
   "source": [
    "import sys\n",
    "import filecmp\n",
    "\n",
    "file1 = \"/Users/iprabhatkumar/Documents/Self Pace Learning/Python Learning /Python Scripts and Tutorials/Python Code- WFI (ATOM)/factorial.py\"\n",
    "file2 = \"/Users/iprabhatkumar/Documents/Self Pace Learning/Python Learning /Python Scripts and Tutorials/Python Code- WFI (ATOM)/functions3.py\"\n",
    "\n",
    "print (filecmp.cmp(file1, file2))"
   ]
  },
  {
   "cell_type": "code",
   "execution_count": 12,
   "metadata": {
    "pycharm": {
     "name": "#%%\n"
    }
   },
   "outputs": [
    {
     "name": "stdout",
     "output_type": "stream",
     "text": [
      "1654669699.213863\n",
      "Wed Jun  8 11:58:19 2022\n",
      "1.7002570629119873\n",
      "sleeping\n",
      "wokeup\n"
     ]
    }
   ],
   "source": [
    "import time\n",
    "\n",
    "print(time.time())\n",
    "print(time.ctime(time.time()))\n",
    "\n",
    "start = time.time()\n",
    "for x in range(10000000):\n",
    "\ty=x*x\n",
    "end = time.time()\n",
    "print(end - start)\n",
    "\n",
    "#use \"sleep\" for giving pause to the script\n",
    "print(\"sleeping\")\n",
    "time.sleep(2)\n",
    "print(\"wokeup\")"
   ]
  },
  {
   "cell_type": "code",
   "execution_count": 17,
   "metadata": {
    "pycharm": {
     "name": "#%%\n"
    }
   },
   "outputs": [
    {
     "name": "stdout",
     "output_type": "stream",
     "text": [
      "12 1 3\n",
      "1\n",
      "2022\n"
     ]
    }
   ],
   "source": [
    "from datetime import datetime\n",
    "\n",
    "d=datetime.now()\n",
    "print(d.hour, d.minute, d.second)\n",
    "print(d.minute)\n",
    "print(d.year)"
   ]
  },
  {
   "cell_type": "code",
   "execution_count": 18,
   "metadata": {
    "pycharm": {
     "name": "#%%\n"
    }
   },
   "outputs": [
    {
     "name": "stdout",
     "output_type": "stream",
     "text": [
      "Enter the amount you wish to withdraw : 1000\n",
      "Collect your cash\n"
     ]
    }
   ],
   "source": [
    "try:\n",
    "\tamount = int(input(\"Enter the amount you wish to withdraw : \"))\n",
    "\tprint(\"Collect your cash\")\n",
    "except ValueError:\n",
    "\tprint(\"Enter a proper amount\")"
   ]
  },
  {
   "cell_type": "code",
   "execution_count": 19,
   "metadata": {
    "pycharm": {
     "name": "#%%\n"
    }
   },
   "outputs": [
    {
     "name": "stdout",
     "output_type": "stream",
     "text": [
      "2.5\n",
      "Check your denominator\n",
      "Only numbers allowed\n"
     ]
    }
   ],
   "source": [
    "def divide(a,b):\n",
    "\ttry:\n",
    "\t\tresult = a/b\n",
    "\t\tprint(result)\n",
    "\texcept ZeroDivisionError:\n",
    "\t\tprint(\"Check your denominator\")\n",
    "\texcept TypeError:\n",
    "\t\tprint(\"Only numbers allowed\")\n",
    "#You can use \"except exception: If you do not know the Error Name\"\n",
    "#Always try to use specific exception (Error) name.\n",
    "divide(5,2)\n",
    "divide(5,0)\n",
    "divide(5,'a')"
   ]
  },
  {
   "cell_type": "code",
   "execution_count": 20,
   "metadata": {
    "pycharm": {
     "name": "#%%\n"
    }
   },
   "outputs": [
    {
     "name": "stdout",
     "output_type": "stream",
     "text": [
      "Check Your Command\n"
     ]
    }
   ],
   "source": [
    "\n",
    "try:\n",
    "    open(\"123abc.exe\")\n",
    "except Exception:\n",
    "    print(\"Check Your Command\")"
   ]
  },
  {
   "cell_type": "code",
   "execution_count": 23,
   "metadata": {
    "pycharm": {
     "name": "#%%\n"
    }
   },
   "outputs": [
    {
     "name": "stdout",
     "output_type": "stream",
     "text": [
      "The average is 18.4\n"
     ]
    }
   ],
   "source": [
    "def cal_average(num):\n",
    "    sum_num = 0\n",
    "    for t in num:\n",
    "        sum_num = sum_num + t           \n",
    "\n",
    "    avg = sum_num / len(num)\n",
    "    return avg\n",
    "\n",
    "print(\"The average is\", cal_average([18,25,3,41,5]))"
   ]
  },
  {
   "cell_type": "code",
   "execution_count": 27,
   "metadata": {
    "pycharm": {
     "name": "#%%\n"
    }
   },
   "outputs": [
    {
     "name": "stdout",
     "output_type": "stream",
     "text": [
      "Average of the list = 35.75\n"
     ]
    }
   ],
   "source": [
    "# Python program to get average of a list\n",
    "def Average(lst):\n",
    "    return sum(lst) / len(lst)\n",
    "  \n",
    "# Driver Code\n",
    "lst = [15, 9, 55, 41, 35, 20, 62, 49]\n",
    "average = Average(lst)\n",
    "  \n",
    "# Printing average of the list\n",
    "print(\"Average of the list =\", round(average, 2))"
   ]
  },
  {
   "cell_type": "code",
   "execution_count": 33,
   "metadata": {
    "pycharm": {
     "name": "#%%\n"
    }
   },
   "outputs": [
    {
     "name": "stdout",
     "output_type": "stream",
     "text": [
      "How many numbers you want to do averaging: 2\n",
      "Enter your number : 2356\n",
      "Enter your number : 24765\n",
      "Average of  2  numbers are : 13560.5\n"
     ]
    }
   ],
   "source": [
    "num = int(input('How many numbers you want to do averaging: '))\n",
    "total = 0\n",
    "for n in range(num):\n",
    "    numbers = float(input('Enter your number : '))\n",
    "    total += numbers\n",
    " \n",
    "avg = total/num\n",
    "print('Average of ', num, ' numbers are :', avg)"
   ]
  },
  {
   "cell_type": "code",
   "execution_count": 36,
   "metadata": {
    "pycharm": {
     "name": "#%%\n"
    }
   },
   "outputs": [
    {
     "name": "stdout",
     "output_type": "stream",
     "text": [
      "['Compare2.py', 'File_Compare.py', 'OS_Module.py', 'date_time.py', 'file_download.py', 'time1.py']\n",
      "['Modules- Real Time', 'avg_Function.py', 'dict1.py', 'dict2.py', 'exception1.py', 'exception2.py', 'exception3.py', 'factorial.py', 'function1.py', 'functions2.py', 'functions3.py', 'guessing-game.py', 'lists1.py', 'lists2.py', 'lists3.py', 'modules1.py', 'set1.py', 'strings1.py', 'strings2.py', 'tuple1.py']\n"
     ]
    }
   ],
   "source": [
    "import os\n",
    "import sys\n",
    "\n",
    "print(sorted(os.listdir(\"/Users/iprabhatkumar/Documents/Self Pace Learning/Python Learning /Python Scripts and Tutorials/Python Code- WFI (ATOM)/Modules- Real Time\")))\n",
    "print(sorted(os.listdir(\"/Users/iprabhatkumar/Documents/Self Pace Learning/Python Learning /Python Scripts and Tutorials/Python Code- WFI (ATOM)\")))\n"
   ]
  },
  {
   "cell_type": "code",
   "execution_count": 38,
   "metadata": {
    "pycharm": {
     "name": "#%%\n"
    }
   },
   "outputs": [
    {
     "name": "stdout",
     "output_type": "stream",
     "text": [
      "os.stat(/Users/iprabhatkumar/Documents/Self Pace Learning/Python Learning /Python Scripts and Tutorials/Python Code- WFI (ATOM)/Modules- Real Time/OS_Module.py):\n",
      "  Size: 0\n",
      "  Permissions: 0o100644\n",
      "  Owner: 501\n",
      "  Device: 16777220\n",
      "  Created      : Wed Jun  8 10:36:20 2022\n",
      "  Last modified: Wed Jun  8 10:36:20 2022\n",
      "  Last accessed: Wed Jun  8 10:36:20 2022\n"
     ]
    }
   ],
   "source": [
    "import os\n",
    "import sys\n",
    "import time\n",
    "\n",
    "if len(sys.argv) == 1:\n",
    "    filename = __file__\n",
    "else:\n",
    "    filename = '/Users/iprabhatkumar/Documents/Self Pace Learning/Python Learning /Python Scripts and Tutorials/Python Code- WFI (ATOM)/Modules- Real Time/OS_Module.py'\n",
    "\n",
    "stat_info = os.stat(filename)\n",
    "\n",
    "print('os.stat({}):'.format(filename))\n",
    "print('  Size:', stat_info.st_size)\n",
    "print('  Permissions:', oct(stat_info.st_mode))\n",
    "print('  Owner:', stat_info.st_uid)\n",
    "print('  Device:', stat_info.st_dev)\n",
    "print('  Created      :', time.ctime(stat_info.st_ctime))\n",
    "print('  Last modified:', time.ctime(stat_info.st_mtime))\n",
    "print('  Last accessed:', time.ctime(stat_info.st_atime))"
   ]
  },
  {
   "cell_type": "code",
   "execution_count": 7,
   "metadata": {
    "pycharm": {
     "name": "#%%\n"
    }
   },
   "outputs": [
    {
     "name": "stdout",
     "output_type": "stream",
     "text": [
      "/Users/iprabhatkumar/Documents/Self Pace Learning/Python Learning /Python Scripts and Tutorials\n",
      "  .DS_Store\n",
      "  .ipynb_checkpoints/\n",
      "  Anaconda- Jupitor PYTHON/\n",
      "  Lets_Python.pdf\n",
      "  Python Code- WFI (ATOM)/\n",
      "  Python IDLE StandAlone/\n",
      "  Python Tutorial.pdf\n",
      "  modules.html\n",
      "\n",
      "/Users/iprabhatkumar/Documents/Self Pace Learning/Python Learning /Python Scripts and Tutorials/Anaconda- Jupitor PYTHON\n",
      "  .ipynb_checkpoints/\n",
      "  PythonLearning_Script.ipynb\n",
      "  Python_Learning_WFI.ipynb\n",
      "\n",
      "/Users/iprabhatkumar/Documents/Self Pace Learning/Python Learning /Python Scripts and Tutorials/Anaconda- Jupitor PYTHON/.ipynb_checkpoints\n",
      "  Python_Learning_WFI-checkpoint.ipynb\n",
      "\n",
      "/Users/iprabhatkumar/Documents/Self Pace Learning/Python Learning /Python Scripts and Tutorials/Python IDLE StandAlone\n",
      "  PythonCode_OS_Module.py\n",
      "  PythonCode_WFI_IDLE-StandAlone.py\n",
      "\n",
      "/Users/iprabhatkumar/Documents/Self Pace Learning/Python Learning /Python Scripts and Tutorials/Python Code- WFI (ATOM)\n",
      "  Modules- Real Time/\n",
      "  avg_Function.py\n",
      "  dict1.py\n",
      "  dict2.py\n",
      "  exception1.py\n",
      "  exception2.py\n",
      "  exception3.py\n",
      "  factorial.py\n",
      "  function1.py\n",
      "  functions2.py\n",
      "  functions3.py\n",
      "  guessing-game.py\n",
      "  lists1.py\n",
      "  lists2.py\n",
      "  lists3.py\n",
      "  modules1.py\n",
      "  set1.py\n",
      "  strings1.py\n",
      "  strings2.py\n",
      "  tuple1.py\n",
      "\n",
      "/Users/iprabhatkumar/Documents/Self Pace Learning/Python Learning /Python Scripts and Tutorials/Python Code- WFI (ATOM)/Modules- Real Time\n",
      "  Compare2.py\n",
      "  FileInfo.py\n",
      "  File_Compare.py\n",
      "  ListAllDir_SubDir.py\n",
      "  OS_Module.py\n",
      "  date_time.py\n",
      "  file_download.py\n",
      "  time1.py\n",
      "\n",
      "/Users/iprabhatkumar/Documents/Self Pace Learning/Python Learning /Python Scripts and Tutorials/.ipynb_checkpoints\n",
      "  PythonLearning_Script-checkpoint.ipynb\n",
      "  Python_Learning_WFI-checkpoint.ipynb\n",
      "\n"
     ]
    }
   ],
   "source": [
    "import os\n",
    "import sys\n",
    "\n",
    "# If we are not given a path to list, use /tmp\n",
    "if len(sys.argv) == 1:\n",
    "    root = '/tmp'\n",
    "else:\n",
    "    root = '/Users/iprabhatkumar/Documents/Self Pace Learning/Python Learning /Python Scripts and Tutorials'\n",
    "\n",
    "\n",
    "for dir_name, sub_dirs, files in os.walk(root):\n",
    "    print(dir_name)\n",
    "    # Make the subdirectory names stand out with /\n",
    "    sub_dirs = [n + '/' for n in sub_dirs]\n",
    "    # Mix the directory contents together\n",
    "    contents = sub_dirs + files\n",
    "    contents.sort()\n",
    "    # Show the contents\n",
    "    for c in contents:\n",
    "        print('  {}'.format(c))\n",
    "    print()"
   ]
  },
  {
   "cell_type": "code",
   "execution_count": 29,
   "metadata": {
    "pycharm": {
     "name": "#%%\n"
    }
   },
   "outputs": [
    {
     "name": "stdout",
     "output_type": "stream",
     "text": [
      "16\n",
      "64\n"
     ]
    }
   ],
   "source": [
    "import mymath\n",
    "print (mymath.square(4))\n",
    "print (mymath.cube(4))\n",
    "\n",
    "def square(n):\n",
    "    return n*n\n",
    "\n",
    "def cube(n):\n",
    "    return n**3"
   ]
  },
  {
   "cell_type": "markdown",
   "metadata": {
    "pycharm": {
     "name": "#%% md\n"
    }
   },
   "source": [
    "# Python with OOPS"
   ]
  },
  {
   "cell_type": "code",
   "execution_count": 10,
   "metadata": {
    "pycharm": {
     "name": "#%%\n"
    }
   },
   "outputs": [
    {
     "name": "stdout",
     "output_type": "stream",
     "text": [
      "<class '__main__.Dog'>\n",
      "True\n"
     ]
    }
   ],
   "source": [
    "#All Function and Class name start with small letter\n",
    "\n",
    "class Dog:\n",
    "    pass\n",
    "\n",
    "#Create Object know\n",
    "\n",
    "tommy = Dog()\n",
    "\n",
    "print (type (tommy))\n",
    "print (isinstance (tommy, Dog))"
   ]
  },
  {
   "cell_type": "code",
   "execution_count": 11,
   "metadata": {
    "pycharm": {
     "name": "#%%\n"
    }
   },
   "outputs": [
    {
     "name": "stdout",
     "output_type": "stream",
     "text": [
      "<class '__main__.Dog'>\n",
      "True\n",
      "Bhow..Bhow..\n",
      "I'm guarding my Owner's Home\n"
     ]
    }
   ],
   "source": [
    "#All Function and Class name start with small letter\n",
    "\n",
    "class Dog:\n",
    "#Define Method: Sits within a class which define your Object.\n",
    "    def speak(self):\n",
    "        print (\"Bhow..Bhow..\")\n",
    "    def guard(self):\n",
    "        print (\"I'm guarding my Owner's Home\")\n",
    "\n",
    "#Create Object know\n",
    "\n",
    "tommy = Dog()\n",
    "\n",
    "print (type (tommy))\n",
    "print (isinstance (tommy, Dog))\n",
    "\n",
    "tommy.speak()\n",
    "tommy.guard()\n"
   ]
  },
  {
   "cell_type": "code",
   "execution_count": 12,
   "metadata": {
    "pycharm": {
     "name": "#%%\n"
    }
   },
   "outputs": [
    {
     "name": "stdout",
     "output_type": "stream",
     "text": [
      "<class '__main__.Dog'>\n",
      "True\n",
      "Bhow..Bhow..\n",
      "I'm guarding my Owner's Home\n",
      "Fight: Other dog entered your location..\n"
     ]
    }
   ],
   "source": [
    "#All Function and Class name start with small letter\n",
    "\n",
    "class Dog:\n",
    "#Define Method: Sits within a class which define your Object.\n",
    "    def speak(self):\n",
    "        print (\"Bhow..Bhow..\")\n",
    "    def guard(self):\n",
    "        print (\"I'm guarding my Owner's Home\")\n",
    "    def fight(otherdog):\n",
    "        print (\"Fight: Other dog entered your location..\")\n",
    "#Create Object know\n",
    "\n",
    "tommy = Dog()\n",
    "\n",
    "print (type (tommy))\n",
    "print (isinstance (tommy, Dog))\n",
    "\n",
    "tommy.speak()\n",
    "tommy.guard()\n",
    "tommy.fight()\n"
   ]
  },
  {
   "cell_type": "code",
   "execution_count": 17,
   "metadata": {
    "pycharm": {
     "name": "#%%\n"
    }
   },
   "outputs": [
    {
     "name": "stdout",
     "output_type": "stream",
     "text": [
      "<class '__main__.Dog'>\n",
      "True\n",
      "Bhow..Bhow..\n",
      "I'm guarding my Owner's Home\n",
      "brown\n",
      "lab\n",
      "jimmy\n"
     ]
    }
   ],
   "source": [
    "#All Function and Class name start with small letter\n",
    "class Dog:\n",
    "    \n",
    "#Define Method: Sits within a class which define your Object.\n",
    "    def __init__(self, color, breed, otherdog):\n",
    "        self.color = color\n",
    "        self.breed = breed\n",
    "        self.fight = otherdog\n",
    "    def speak(self):\n",
    "        print (\"Bhow..Bhow..\")\n",
    "    def guard(self):\n",
    "        print (\"I'm guarding my Owner's Home\")\n",
    "    \n",
    "#Create Object know\n",
    "tommy = Dog(\"brown\",\"lab\", \"jimmy\")\n",
    "\n",
    "print (type (tommy))\n",
    "print (isinstance (tommy, Dog))\n",
    "\n",
    "tommy.speak()\n",
    "tommy.guard()\n",
    "print(tommy.color)\n",
    "print(tommy.breed)\n",
    "print(tommy.fight)\n"
   ]
  },
  {
   "cell_type": "code",
   "execution_count": 19,
   "metadata": {
    "pycharm": {
     "name": "#%%\n"
    }
   },
   "outputs": [
    {
     "name": "stdout",
     "output_type": "stream",
     "text": [
      "<class '__main__.Dog'>\n",
      "True\n",
      "Bhow..Bhow..\n",
      "I'm guarding my Owner's Home\n",
      "brown\n",
      "lab\n",
      "jimmy\n",
      "I'm fetching your ball\n",
      "Hello I am a brown lab\n",
      "Hello I am a black minpin\n"
     ]
    }
   ],
   "source": [
    "#All Function and Class name start with small letter\n",
    "class Dog:\n",
    "    \n",
    "#Define Method: Sits within a class which define your Object.\n",
    "    def __init__(self, color, breed, otherdog):\n",
    "        self.color = color\n",
    "        self.breed = breed\n",
    "        self.fight = otherdog\n",
    "    def speak(self):\n",
    "        print (\"Bhow..Bhow..\")\n",
    "    def guard(self):\n",
    "        print (\"I'm guarding my Owner's Home\")\n",
    "    def fetch(self,item):\n",
    "        print (f\"I'm fetching your {item}\")\n",
    "    def hi(self):\n",
    "        print (f\"Hello I am a {self.color} {self.breed}\")\n",
    "#Create Object know\n",
    "tommy = Dog(\"brown\",\"lab\", \"jimmy\")\n",
    "\n",
    "print (type (tommy))\n",
    "print (isinstance (tommy, Dog))\n",
    "\n",
    "tommy.speak()\n",
    "tommy.guard()\n",
    "print(tommy.color)\n",
    "print(tommy.breed)\n",
    "print(tommy.fight)\n",
    "#Create a method which can accept a parameter\n",
    "tommy.fetch('ball')\n",
    "tommy.hi()\n",
    "\n",
    "#Creating another Object and calling it's method using \"hi\"\n",
    "lucy = Dog(\"black\",\"minpin\", \"jimmy\")\n",
    "lucy.hi()"
   ]
  },
  {
   "cell_type": "code",
   "execution_count": 28,
   "metadata": {
    "pycharm": {
     "name": "#%%\n"
    }
   },
   "outputs": [
    {
     "name": "stdout",
     "output_type": "stream",
     "text": [
      "48\n",
      "32\n",
      "12\n",
      "4\n"
     ]
    }
   ],
   "source": [
    "#To run this: You have to keep mymodule file under same folder\n",
    "#Here I keep mymodule.py file under Anaconda-Jupitor_Python Folder Path \"/Users/iprabhatkumar/Documents/Self Pace Learning/Python Learning /Python Scripts and Tutorials\"\n",
    "\n",
    "from mymodule import Rectangle\n",
    "\n",
    "r1=Rectangle(12,4)\n",
    "\n",
    "r1.get_area()\n",
    "r1.get_perimeter()\n",
    "\n",
    "print(r1.length)\n",
    "print(r1.breadth)"
   ]
  },
  {
   "cell_type": "code",
   "execution_count": 36,
   "metadata": {
    "pycharm": {
     "name": "#%%\n"
    }
   },
   "outputs": [
    {
     "ename": "FileNotFoundError",
     "evalue": "[Errno 2] No such file or directory: 'oops1.py'",
     "output_type": "error",
     "traceback": [
      "\u001B[0;31m---------------------------------------------------------------------------\u001B[0m",
      "\u001B[0;31mFileNotFoundError\u001B[0m                         Traceback (most recent call last)",
      "Input \u001B[0;32mIn [36]\u001B[0m, in \u001B[0;36m<cell line: 18>\u001B[0;34m()\u001B[0m\n\u001B[1;32m     13\u001B[0m \t\t\u001B[38;5;28mprint\u001B[39m(\u001B[38;5;124mf\u001B[39m\u001B[38;5;124m\"\u001B[39m\u001B[38;5;124mThe file was last accessed at \u001B[39m\u001B[38;5;132;01m{\u001B[39;00mtime\u001B[38;5;241m.\u001B[39mctime(os\u001B[38;5;241m.\u001B[39mpath\u001B[38;5;241m.\u001B[39mgetatime(\u001B[38;5;28mself\u001B[39m\u001B[38;5;241m.\u001B[39mfilename))\u001B[38;5;132;01m}\u001B[39;00m\u001B[38;5;124m\"\u001B[39m)\n\u001B[1;32m     16\u001B[0m f\u001B[38;5;241m=\u001B[39mFileInfo(\u001B[38;5;124m\"\u001B[39m\u001B[38;5;124moops1.py\u001B[39m\u001B[38;5;124m\"\u001B[39m)\n\u001B[0;32m---> 18\u001B[0m \u001B[43mf\u001B[49m\u001B[38;5;241;43m.\u001B[39;49m\u001B[43mgetsize\u001B[49m\u001B[43m(\u001B[49m\u001B[43m)\u001B[49m\n\u001B[1;32m     19\u001B[0m f\u001B[38;5;241m.\u001B[39mgetctime()\n\u001B[1;32m     20\u001B[0m f\u001B[38;5;241m.\u001B[39mgetmtime()\n",
      "Input \u001B[0;32mIn [36]\u001B[0m, in \u001B[0;36mFileInfo.getsize\u001B[0;34m(self)\u001B[0m\n\u001B[1;32m      6\u001B[0m \u001B[38;5;28;01mdef\u001B[39;00m \u001B[38;5;21mgetsize\u001B[39m(\u001B[38;5;28mself\u001B[39m):\n\u001B[0;32m----> 7\u001B[0m \t\u001B[38;5;28mprint\u001B[39m(\u001B[38;5;124mf\u001B[39m\u001B[38;5;124m\"\u001B[39m\u001B[38;5;124mThe size of the file is \u001B[39m\u001B[38;5;132;01m{\u001B[39;00mos\u001B[38;5;241m.\u001B[39mpath\u001B[38;5;241m.\u001B[39mgetsize(\u001B[38;5;28mself\u001B[39m\u001B[38;5;241m.\u001B[39mfilename)\u001B[38;5;132;01m}\u001B[39;00m\u001B[38;5;124m\"\u001B[39m)\n",
      "File \u001B[0;32m~/opt/anaconda3/lib/python3.9/genericpath.py:50\u001B[0m, in \u001B[0;36mgetsize\u001B[0;34m(filename)\u001B[0m\n\u001B[1;32m     48\u001B[0m \u001B[38;5;28;01mdef\u001B[39;00m \u001B[38;5;21mgetsize\u001B[39m(filename):\n\u001B[1;32m     49\u001B[0m     \u001B[38;5;124;03m\"\"\"Return the size of a file, reported by os.stat().\"\"\"\u001B[39;00m\n\u001B[0;32m---> 50\u001B[0m     \u001B[38;5;28;01mreturn\u001B[39;00m \u001B[43mos\u001B[49m\u001B[38;5;241;43m.\u001B[39;49m\u001B[43mstat\u001B[49m\u001B[43m(\u001B[49m\u001B[43mfilename\u001B[49m\u001B[43m)\u001B[49m\u001B[38;5;241m.\u001B[39mst_size\n",
      "\u001B[0;31mFileNotFoundError\u001B[0m: [Errno 2] No such file or directory: 'oops1.py'"
     ]
    }
   ],
   "source": [
    "import os\n",
    "import time\n",
    "class FileInfo:\n",
    "\tdef __init__(self, filename):\n",
    "\t\tself.filename = filename\n",
    "\tdef getsize(self):\n",
    "\t\tprint(f\"The size of the file is {os.path.getsize(self.filename)}\")\n",
    "\tdef getctime(self):\n",
    "\t\tprint(f\"The file was created at {time.ctime(os.path.getctime(self.filename))}\")\n",
    "\tdef getmtime(self):\n",
    "\t\tprint(f\"The file was modified at {time.ctime(os.path.getmtime(self.filename))}\")\n",
    "\tdef getatime(self):\n",
    "\t\tprint(f\"The file was last accessed at {time.ctime(os.path.getatime(self.filename))}\")\n",
    "\n",
    "\n",
    "f=FileInfo(\"oops1.py\")\n",
    "\n",
    "f.getsize()\n",
    "f.getctime()\n",
    "f.getmtime()\n",
    "f.getatime()"
   ]
  },
  {
   "cell_type": "code",
   "execution_count": null,
   "metadata": {
    "pycharm": {
     "name": "#%%\n"
    }
   },
   "outputs": [],
   "source": []
  },
  {
   "cell_type": "code",
   "execution_count": 32,
   "metadata": {
    "pycharm": {
     "name": "#%%\n"
    }
   },
   "outputs": [
    {
     "name": "stdout",
     "output_type": "stream",
     "text": [
      "490730\n"
     ]
    }
   ],
   "source": [
    "class Employee:\n",
    "\tdef __init__(self, name, eid):\n",
    "\t\tself.name=name\n",
    "\t\tself.eid=eid\n",
    "\tdef get_id(self):\n",
    "\t\tprint(self.eid)\n",
    "\n",
    "prt = Employee(\"iprabhatkumar\",490730)\n",
    "prt.get_id()"
   ]
  },
  {
   "cell_type": "code",
   "execution_count": 45,
   "metadata": {
    "pycharm": {
     "name": "#%%\n"
    }
   },
   "outputs": [
    {
     "ename": "TabError",
     "evalue": "inconsistent use of tabs and spaces in indentation (22875034.py, line 4)",
     "output_type": "error",
     "traceback": [
      "\u001B[0;36m  Input \u001B[0;32mIn [45]\u001B[0;36m\u001B[0m\n\u001B[0;31m    def __init__(self, name, eid):\u001B[0m\n\u001B[0m    ^\u001B[0m\n\u001B[0;31mTabError\u001B[0m\u001B[0;31m:\u001B[0m inconsistent use of tabs and spaces in indentation\n"
     ]
    }
   ],
   "source": [
    "#You can not call any Method on Class, But you have to do on Object.\n",
    "class Employee:\n",
    "    _count=0 #Class Variable\n",
    "\tdef __init__(self, name, eid):\n",
    "\t\tself.name=name\n",
    "\t\tself.eid=eid\n",
    "        Employee._count+=1\n",
    "\tdef get_id(self):\n",
    "\t\tprint(self.eid)\n",
    "#Bind the method to class and call Object \"@classmethod\"\n",
    "    @classmethod\n",
    "    def get_emp_count(cls):\n",
    "        print(cls._count)\n",
    "    @staticmethod\n",
    "    def compute_tax(basic):\n",
    "        print(basic * 0.5)\n",
    "        \n",
    "Employee.get_emp_count()\n",
    "prt = Employee(\"iprabhatkumar\",490730)\n",
    "ravi = Employee(\"Ravi\", 007)\n",
    "prt.get_id()\n",
    "Employee.get_emp_count()\n",
    "\n",
    "Employee.compute_tax(25000)\n",
    "prt.compute_tax(35000)\n"
   ]
  },
  {
   "cell_type": "code",
   "execution_count": 40,
   "metadata": {
    "pycharm": {
     "name": "#%%\n"
    }
   },
   "outputs": [
    {
     "name": "stdout",
     "output_type": "stream",
     "text": [
      "5\n",
      "225\n"
     ]
    }
   ],
   "source": [
    "# Inheritance\n",
    "\n",
    "class Employee:\n",
    "\tdef __init__(self, name, eid):\n",
    "\t\tself.name=name\n",
    "\t\tself.eid=eid\n",
    "\n",
    "\tdef get_id(self):\n",
    "\t\tprint(self.eid)\n",
    "\n",
    "\n",
    "prt = Employee(\"iprabhatkumar\",5)\n",
    "prt.get_id()\n",
    "\n",
    "class Manager(Employee):  #Inherit the Parent Class to this Clild Class\n",
    "\tdef set_team(self,teamname):\n",
    "\t\tself.teamname = teamname\n",
    "\n",
    "ajit = Manager(\"Ajit Gopalakrishnan\", 225)\n",
    "\n",
    "ajit.get_id()\n",
    "\n",
    "ajit.set_team(\"Tools & Automation\")\n"
   ]
  },
  {
   "cell_type": "code",
   "execution_count": 46,
   "metadata": {
    "pycharm": {
     "name": "#%%\n"
    }
   },
   "outputs": [
    {
     "ename": "FileNotFoundError",
     "evalue": "[Errno 2] No such file or directory: 'oops1.py'",
     "output_type": "error",
     "traceback": [
      "\u001B[0;31m---------------------------------------------------------------------------\u001B[0m",
      "\u001B[0;31mFileNotFoundError\u001B[0m                         Traceback (most recent call last)",
      "Input \u001B[0;32mIn [46]\u001B[0m, in \u001B[0;36m<cell line: 24>\u001B[0;34m()\u001B[0m\n\u001B[1;32m     19\u001B[0m \t\t\u001B[38;5;28mprint\u001B[39m(\u001B[38;5;124mf\u001B[39m\u001B[38;5;124m\"\u001B[39m\u001B[38;5;124mThis is the path \u001B[39m\u001B[38;5;132;01m{\u001B[39;00mos\u001B[38;5;241m.\u001B[39mpath\u001B[38;5;241m.\u001B[39mabspath(\u001B[38;5;28mself\u001B[39m\u001B[38;5;241m.\u001B[39mfilename)\u001B[38;5;132;01m}\u001B[39;00m\u001B[38;5;124m\"\u001B[39m)\n\u001B[1;32m     22\u001B[0m f\u001B[38;5;241m=\u001B[39mNewFileInfo(\u001B[38;5;124m\"\u001B[39m\u001B[38;5;124moops1.py\u001B[39m\u001B[38;5;124m\"\u001B[39m)\n\u001B[0;32m---> 24\u001B[0m \u001B[43mf\u001B[49m\u001B[38;5;241;43m.\u001B[39;49m\u001B[43mgetsize\u001B[49m\u001B[43m(\u001B[49m\u001B[43m)\u001B[49m\n\u001B[1;32m     25\u001B[0m f\u001B[38;5;241m.\u001B[39mgetctime()\n\u001B[1;32m     26\u001B[0m f\u001B[38;5;241m.\u001B[39mgetmtime()\n",
      "Input \u001B[0;32mIn [46]\u001B[0m, in \u001B[0;36mFileInfo.getsize\u001B[0;34m(self)\u001B[0m\n\u001B[1;32m      6\u001B[0m \u001B[38;5;28;01mdef\u001B[39;00m \u001B[38;5;21mgetsize\u001B[39m(\u001B[38;5;28mself\u001B[39m):\n\u001B[0;32m----> 7\u001B[0m \t\u001B[38;5;28mprint\u001B[39m(\u001B[38;5;124mf\u001B[39m\u001B[38;5;124m\"\u001B[39m\u001B[38;5;124mThe size of the file is \u001B[39m\u001B[38;5;132;01m{\u001B[39;00mos\u001B[38;5;241m.\u001B[39mpath\u001B[38;5;241m.\u001B[39mgetsize(\u001B[38;5;28mself\u001B[39m\u001B[38;5;241m.\u001B[39mfilename)\u001B[38;5;132;01m}\u001B[39;00m\u001B[38;5;124m\"\u001B[39m)\n",
      "File \u001B[0;32m~/opt/anaconda3/lib/python3.9/genericpath.py:50\u001B[0m, in \u001B[0;36mgetsize\u001B[0;34m(filename)\u001B[0m\n\u001B[1;32m     48\u001B[0m \u001B[38;5;28;01mdef\u001B[39;00m \u001B[38;5;21mgetsize\u001B[39m(filename):\n\u001B[1;32m     49\u001B[0m     \u001B[38;5;124;03m\"\"\"Return the size of a file, reported by os.stat().\"\"\"\u001B[39;00m\n\u001B[0;32m---> 50\u001B[0m     \u001B[38;5;28;01mreturn\u001B[39;00m \u001B[43mos\u001B[49m\u001B[38;5;241;43m.\u001B[39;49m\u001B[43mstat\u001B[49m\u001B[43m(\u001B[49m\u001B[43mfilename\u001B[49m\u001B[43m)\u001B[49m\u001B[38;5;241m.\u001B[39mst_size\n",
      "\u001B[0;31mFileNotFoundError\u001B[0m: [Errno 2] No such file or directory: 'oops1.py'"
     ]
    }
   ],
   "source": [
    "import os\n",
    "import time\n",
    "class FileInfo:\n",
    "\tdef __init__(self, filename):\n",
    "\t\tself.filename = filename\n",
    "\tdef getsize(self):\n",
    "\t\tprint(f\"The size of the file is {os.path.getsize(self.filename)}\")\n",
    "\tdef getctime(self):\n",
    "\t\tprint(f\"The file was created at {time.ctime(os.path.getctime(self.filename))}\")\n",
    "\tdef getmtime(self):\n",
    "\t\tprint(f\"The file was modified at {time.ctime(os.path.getmtime(self.filename))}\")\n",
    "\tdef getatime(self):\n",
    "\t\tprint(f\"The file was last accessed at {time.ctime(os.path.getatime(self.filename))}\")\n",
    "\n",
    "\n",
    "\n",
    "class NewFileInfo(FileInfo):\n",
    "\tdef getpath(self):\n",
    "\t\tprint(f\"This is the path {os.path.abspath(self.filename)}\")\n",
    "\n",
    "\n",
    "f=NewFileInfo(\"oops1.py\")\n",
    "\n",
    "f.getsize()\n",
    "f.getctime()\n",
    "f.getmtime()\n",
    "f.getatime()\n",
    "f.getpath()"
   ]
  },
  {
   "cell_type": "code",
   "execution_count": 7,
   "metadata": {
    "pycharm": {
     "name": "#%%\n"
    }
   },
   "outputs": [
    {
     "name": "stdout",
     "output_type": "stream",
     "text": [
      "bhou..meau\n",
      "milk\n"
     ]
    }
   ],
   "source": [
    "# multiple inheritance\n",
    "\n",
    "class Cat:\n",
    "\tdef speak(self):\n",
    "\t\tprint(\"meau..meau\")\n",
    "\tdef likes(self):\n",
    "\t\tprint(\"milk\")\n",
    "\n",
    "class Dog:\n",
    "\tdef speak(self):\n",
    "\t\tprint(\"bhou..bhou\")\n",
    "\tdef likes(self):\n",
    "\t\tprint(\"bones\")\n",
    "\n",
    "\n",
    "\n",
    "class Doat(Cat, Dog): #The Output will be based on Order of Precidence\n",
    "#Here: We're given precidence to Cat first. So, ginger.likes() will be Milk.\n",
    "\tdef speak(self):\n",
    "\t\tprint(\"bhou..meau\")\n",
    "\n",
    "ginger = Doat()\n",
    "\n",
    "ginger.speak()\n",
    "ginger.likes()"
   ]
  },
  {
   "cell_type": "code",
   "execution_count": 25,
   "metadata": {
    "pycharm": {
     "name": "#%%\n"
    }
   },
   "outputs": [
    {
     "name": "stdout",
     "output_type": "stream",
     "text": [
      "8884531562\n",
      "Technology Lead\n",
      "Wells Fargo International\n"
     ]
    }
   ],
   "source": [
    "class Person:\n",
    "    def __init__(self, name, address, contact):\n",
    "        self.name=name\n",
    "        self.address=address\n",
    "        self.contact=contact\n",
    "    def get_contact(self):\n",
    "        print(self.contact)\n",
    "\n",
    "    def job(self):\n",
    "        print (\"Technology Lead\")\n",
    "    def company(self):\n",
    "        print (\"Wells Fargo International\")\n",
    "\n",
    "prt = Person(\"iprabhatkumar\",\"Kempapura\", 8884531562 )\n",
    "prt.get_contact()\n",
    "prt.job()\n",
    "prt.company()"
   ]
  },
  {
   "cell_type": "code",
   "execution_count": 27,
   "metadata": {
    "pycharm": {
     "name": "#%%\n"
    }
   },
   "outputs": [
    {
     "name": "stdout",
     "output_type": "stream",
     "text": [
      "2\n"
     ]
    }
   ],
   "source": [
    "age='20' \n",
    "print(len(age))"
   ]
  },
  {
   "cell_type": "code",
   "execution_count": 3,
   "metadata": {
    "pycharm": {
     "name": "#%%\n"
    }
   },
   "outputs": [
    {
     "name": "stdout",
     "output_type": "stream",
     "text": [
      "hello\n"
     ]
    }
   ],
   "source": [
    "login= {'user':'scott','password':'hello'} \n",
    "print(login['password'])"
   ]
  },
  {
   "cell_type": "code",
   "execution_count": 2,
   "metadata": {
    "pycharm": {
     "name": "#%%\n"
    }
   },
   "outputs": [],
   "source": [
    "li=[True,'Test',123,{'name':'Sita'},(4,5,6)]"
   ]
  },
  {
   "cell_type": "code",
   "execution_count": 17,
   "metadata": {
    "pycharm": {
     "name": "#%%\n"
    }
   },
   "outputs": [
    {
     "name": "stdout",
     "output_type": "stream",
     "text": [
      "sample2.txt\n",
      "a\n",
      "True\n"
     ]
    }
   ],
   "source": [
    "# file I/O\n",
    "\n",
    "# write into a file\n",
    "\n",
    "f=open(\"sample.txt\",\"w\")\n",
    "f.write(\"This is line one\\n\")\n",
    "f.write(\"This is line two\\n\")\n",
    "f.write(\"This is line 3\\n\")\n",
    "f.write(\"This is line 4\\n\")\n",
    "f.write(\"This is the last line\")\n",
    "f.close()\n",
    "\n",
    "\n",
    "# append to a file\n",
    "\n",
    "f=open(\"sample2.txt\",\"a\")\n",
    "f.write(\"This is line one\\n\")\n",
    "f.write(\"This is line two\\n\")\n",
    "f.write(\"This is line 3\\n\")\n",
    "f.write(\"This is line 4\\n\")\n",
    "f.write(\"This is the last line\")\n",
    "f.close()\n",
    "\n",
    "# working with the file pointer\n",
    "\n",
    "print(f.name)\n",
    "print(f.mode)\n",
    "print(f.closed)"
   ]
  },
  {
   "cell_type": "code",
   "execution_count": 18,
   "metadata": {
    "pycharm": {
     "name": "#%%\n"
    }
   },
   "outputs": [
    {
     "name": "stdout",
     "output_type": "stream",
     "text": [
      "This is line one\n",
      "This is line two\n",
      "This is line 3\n",
      "This is line 4\n",
      "This is the last line\n",
      "['This is line one\\n', 'This is line two\\n', 'This is line 3\\n', 'This is line 4\\n', 'This is the last line']\n"
     ]
    },
    {
     "ename": "NameError",
     "evalue": "name 'line' is not defined",
     "output_type": "error",
     "traceback": [
      "\u001B[0;31m---------------------------------------------------------------------------\u001B[0m",
      "\u001B[0;31mNameError\u001B[0m                                 Traceback (most recent call last)",
      "Input \u001B[0;32mIn [18]\u001B[0m, in \u001B[0;36m<cell line: 16>\u001B[0;34m()\u001B[0m\n\u001B[1;32m     15\u001B[0m f\u001B[38;5;241m=\u001B[39m\u001B[38;5;28mopen\u001B[39m(\u001B[38;5;124m\"\u001B[39m\u001B[38;5;124msample.txt\u001B[39m\u001B[38;5;124m\"\u001B[39m, \u001B[38;5;124m\"\u001B[39m\u001B[38;5;124mr\u001B[39m\u001B[38;5;124m\"\u001B[39m)\n\u001B[1;32m     16\u001B[0m \u001B[38;5;28;01mfor\u001B[39;00m lines \u001B[38;5;129;01min\u001B[39;00m f:\n\u001B[0;32m---> 17\u001B[0m     \u001B[38;5;28mprint\u001B[39m (\u001B[43mline\u001B[49m, end\u001B[38;5;241m=\u001B[39m\u001B[38;5;124m\"\u001B[39m\u001B[38;5;124m\"\u001B[39m)\n\u001B[1;32m     18\u001B[0m f\u001B[38;5;241m.\u001B[39mclose()\n\u001B[1;32m     20\u001B[0m \u001B[38;5;28mprint\u001B[39m()\n",
      "\u001B[0;31mNameError\u001B[0m: name 'line' is not defined"
     ]
    }
   ],
   "source": [
    "#Reading from a File\n",
    "#Read All Lines at once\n",
    "f=open(\"sample.txt\", \"r\")\n",
    "contents = f.read()\n",
    "print(contents)\n",
    "f.close()\n",
    "\n",
    "# Read one LIne at a time\n",
    "f=open(\"sample.txt\", \"r\")\n",
    "lines = (f.readlines())\n",
    "print(lines)\n",
    "f.close()\n",
    "\n",
    "# Use a For Loop to read the lines\n",
    "f=open(\"sample.txt\", \"r\")\n",
    "for lines in f:\n",
    "    print (line, end=\"\")\n",
    "f.close()\n",
    "\n",
    "print()\n",
    "\n",
    "f=open(\"sample.txt\", \"r\")\n",
    "for lines in f:\n",
    "    print (line.rstrip())\n",
    "f.close()"
   ]
  },
  {
   "cell_type": "markdown",
   "metadata": {
    "pycharm": {
     "name": "#%% md\n"
    }
   },
   "source": [
    "# pip install openpyxl"
   ]
  },
  {
   "cell_type": "code",
   "execution_count": null,
   "metadata": {
    "pycharm": {
     "name": "#%%\n"
    }
   },
   "outputs": [],
   "source": []
  },
  {
   "cell_type": "code",
   "execution_count": 1,
   "metadata": {
    "pycharm": {
     "name": "#%%\n"
    }
   },
   "outputs": [
    {
     "ename": "InterfaceError",
     "evalue": "2003: Can't connect to MySQL server on '127.0.0.1:3306' (61 Connection refused)",
     "output_type": "error",
     "traceback": [
      "\u001B[0;31m---------------------------------------------------------------------------\u001B[0m",
      "\u001B[0;31mConnectionRefusedError\u001B[0m                    Traceback (most recent call last)",
      "File \u001B[0;32m~/opt/anaconda3/lib/python3.9/site-packages/mysql/connector/network.py:574\u001B[0m, in \u001B[0;36mMySQLTCPSocket.open_connection\u001B[0;34m(self)\u001B[0m\n\u001B[1;32m    573\u001B[0m     \u001B[38;5;28mself\u001B[39m\u001B[38;5;241m.\u001B[39msock\u001B[38;5;241m.\u001B[39msettimeout(\u001B[38;5;28mself\u001B[39m\u001B[38;5;241m.\u001B[39m_connection_timeout)\n\u001B[0;32m--> 574\u001B[0m     \u001B[38;5;28;43mself\u001B[39;49m\u001B[38;5;241;43m.\u001B[39;49m\u001B[43msock\u001B[49m\u001B[38;5;241;43m.\u001B[39;49m\u001B[43mconnect\u001B[49m\u001B[43m(\u001B[49m\u001B[43msockaddr\u001B[49m\u001B[43m)\u001B[49m\n\u001B[1;32m    575\u001B[0m \u001B[38;5;28;01mexcept\u001B[39;00m \u001B[38;5;167;01mIOError\u001B[39;00m \u001B[38;5;28;01mas\u001B[39;00m err:\n",
      "\u001B[0;31mConnectionRefusedError\u001B[0m: [Errno 61] Connection refused",
      "\nDuring handling of the above exception, another exception occurred:\n",
      "\u001B[0;31mInterfaceError\u001B[0m                            Traceback (most recent call last)",
      "Input \u001B[0;32mIn [1]\u001B[0m, in \u001B[0;36m<cell line: 2>\u001B[0;34m()\u001B[0m\n\u001B[1;32m      1\u001B[0m \u001B[38;5;28;01mimport\u001B[39;00m \u001B[38;5;21;01mmysql\u001B[39;00m\u001B[38;5;21;01m.\u001B[39;00m\u001B[38;5;21;01mconnector\u001B[39;00m\n\u001B[0;32m----> 2\u001B[0m cnx \u001B[38;5;241m=\u001B[39m \u001B[43mmysql\u001B[49m\u001B[38;5;241;43m.\u001B[39;49m\u001B[43mconnector\u001B[49m\u001B[38;5;241;43m.\u001B[39;49m\u001B[43mconnect\u001B[49m\u001B[43m(\u001B[49m\u001B[43muser\u001B[49m\u001B[38;5;241;43m=\u001B[39;49m\u001B[38;5;124;43m'\u001B[39;49m\u001B[38;5;124;43mscott\u001B[39;49m\u001B[38;5;124;43m'\u001B[39;49m\u001B[43m,\u001B[49m\u001B[43m \u001B[49m\u001B[43mpassword\u001B[49m\u001B[38;5;241;43m=\u001B[39;49m\u001B[38;5;124;43m'\u001B[39;49m\u001B[38;5;124;43mpassword\u001B[39;49m\u001B[38;5;124;43m'\u001B[39;49m\u001B[43m,\u001B[49m\n\u001B[1;32m      3\u001B[0m \u001B[43m                              \u001B[49m\u001B[43mhost\u001B[49m\u001B[38;5;241;43m=\u001B[39;49m\u001B[38;5;124;43m'\u001B[39;49m\u001B[38;5;124;43m127.0.0.1\u001B[39;49m\u001B[38;5;124;43m'\u001B[39;49m\u001B[43m,\u001B[49m\n\u001B[1;32m      4\u001B[0m \u001B[43m                              \u001B[49m\u001B[43mdatabase\u001B[49m\u001B[38;5;241;43m=\u001B[39;49m\u001B[38;5;124;43m'\u001B[39;49m\u001B[38;5;124;43memployee\u001B[39;49m\u001B[38;5;124;43m'\u001B[39;49m\u001B[43m)\u001B[49m\n\u001B[1;32m      5\u001B[0m cnx\u001B[38;5;241m.\u001B[39mclose()\n",
      "File \u001B[0;32m~/opt/anaconda3/lib/python3.9/site-packages/mysql/connector/__init__.py:273\u001B[0m, in \u001B[0;36mconnect\u001B[0;34m(*args, **kwargs)\u001B[0m\n\u001B[1;32m    271\u001B[0m \u001B[38;5;28;01mif\u001B[39;00m HAVE_CEXT \u001B[38;5;129;01mand\u001B[39;00m \u001B[38;5;129;01mnot\u001B[39;00m use_pure:\n\u001B[1;32m    272\u001B[0m     \u001B[38;5;28;01mreturn\u001B[39;00m CMySQLConnection(\u001B[38;5;241m*\u001B[39margs, \u001B[38;5;241m*\u001B[39m\u001B[38;5;241m*\u001B[39mkwargs)\n\u001B[0;32m--> 273\u001B[0m \u001B[38;5;28;01mreturn\u001B[39;00m \u001B[43mMySQLConnection\u001B[49m\u001B[43m(\u001B[49m\u001B[38;5;241;43m*\u001B[39;49m\u001B[43margs\u001B[49m\u001B[43m,\u001B[49m\u001B[43m \u001B[49m\u001B[38;5;241;43m*\u001B[39;49m\u001B[38;5;241;43m*\u001B[39;49m\u001B[43mkwargs\u001B[49m\u001B[43m)\u001B[49m\n",
      "File \u001B[0;32m~/opt/anaconda3/lib/python3.9/site-packages/mysql/connector/connection.py:116\u001B[0m, in \u001B[0;36mMySQLConnection.__init__\u001B[0;34m(self, *args, **kwargs)\u001B[0m\n\u001B[1;32m    114\u001B[0m \u001B[38;5;28;01mif\u001B[39;00m kwargs:\n\u001B[1;32m    115\u001B[0m     \u001B[38;5;28;01mtry\u001B[39;00m:\n\u001B[0;32m--> 116\u001B[0m         \u001B[38;5;28;43mself\u001B[39;49m\u001B[38;5;241;43m.\u001B[39;49m\u001B[43mconnect\u001B[49m\u001B[43m(\u001B[49m\u001B[38;5;241;43m*\u001B[39;49m\u001B[38;5;241;43m*\u001B[39;49m\u001B[43mkwargs\u001B[49m\u001B[43m)\u001B[49m\n\u001B[1;32m    117\u001B[0m     \u001B[38;5;28;01mexcept\u001B[39;00m:\n\u001B[1;32m    118\u001B[0m         \u001B[38;5;66;03m# Tidy-up underlying socket on failure\u001B[39;00m\n\u001B[1;32m    119\u001B[0m         \u001B[38;5;28mself\u001B[39m\u001B[38;5;241m.\u001B[39mclose()\n",
      "File \u001B[0;32m~/opt/anaconda3/lib/python3.9/site-packages/mysql/connector/abstracts.py:1052\u001B[0m, in \u001B[0;36mMySQLConnectionAbstract.connect\u001B[0;34m(self, **kwargs)\u001B[0m\n\u001B[1;32m   1049\u001B[0m     \u001B[38;5;28mself\u001B[39m\u001B[38;5;241m.\u001B[39mconfig(\u001B[38;5;241m*\u001B[39m\u001B[38;5;241m*\u001B[39mkwargs)\n\u001B[1;32m   1051\u001B[0m \u001B[38;5;28mself\u001B[39m\u001B[38;5;241m.\u001B[39mdisconnect()\n\u001B[0;32m-> 1052\u001B[0m \u001B[38;5;28;43mself\u001B[39;49m\u001B[38;5;241;43m.\u001B[39;49m\u001B[43m_open_connection\u001B[49m\u001B[43m(\u001B[49m\u001B[43m)\u001B[49m\n\u001B[1;32m   1053\u001B[0m \u001B[38;5;66;03m# Server does not allow to run any other statement different from ALTER\u001B[39;00m\n\u001B[1;32m   1054\u001B[0m \u001B[38;5;66;03m# when user's password has been expired.\u001B[39;00m\n\u001B[1;32m   1055\u001B[0m \u001B[38;5;28;01mif\u001B[39;00m \u001B[38;5;129;01mnot\u001B[39;00m \u001B[38;5;28mself\u001B[39m\u001B[38;5;241m.\u001B[39m_client_flags \u001B[38;5;241m&\u001B[39m ClientFlag\u001B[38;5;241m.\u001B[39mCAN_HANDLE_EXPIRED_PASSWORDS:\n",
      "File \u001B[0;32m~/opt/anaconda3/lib/python3.9/site-packages/mysql/connector/connection.py:494\u001B[0m, in \u001B[0;36mMySQLConnection._open_connection\u001B[0;34m(self)\u001B[0m\n\u001B[1;32m    492\u001B[0m \u001B[38;5;28mself\u001B[39m\u001B[38;5;241m.\u001B[39m_socket \u001B[38;5;241m=\u001B[39m \u001B[38;5;28mself\u001B[39m\u001B[38;5;241m.\u001B[39m_get_connection()\n\u001B[1;32m    493\u001B[0m \u001B[38;5;28;01mtry\u001B[39;00m:\n\u001B[0;32m--> 494\u001B[0m     \u001B[38;5;28;43mself\u001B[39;49m\u001B[38;5;241;43m.\u001B[39;49m\u001B[43m_socket\u001B[49m\u001B[38;5;241;43m.\u001B[39;49m\u001B[43mopen_connection\u001B[49m\u001B[43m(\u001B[49m\u001B[43m)\u001B[49m\n\u001B[1;32m    495\u001B[0m     \u001B[38;5;28mself\u001B[39m\u001B[38;5;241m.\u001B[39m_do_handshake()\n\u001B[1;32m    496\u001B[0m     \u001B[38;5;28mself\u001B[39m\u001B[38;5;241m.\u001B[39m_do_auth(\u001B[38;5;28mself\u001B[39m\u001B[38;5;241m.\u001B[39m_user, \u001B[38;5;28mself\u001B[39m\u001B[38;5;241m.\u001B[39m_password,\n\u001B[1;32m    497\u001B[0m                   \u001B[38;5;28mself\u001B[39m\u001B[38;5;241m.\u001B[39m_database, \u001B[38;5;28mself\u001B[39m\u001B[38;5;241m.\u001B[39m_client_flags, \u001B[38;5;28mself\u001B[39m\u001B[38;5;241m.\u001B[39m_charset_id,\n\u001B[1;32m    498\u001B[0m                   \u001B[38;5;28mself\u001B[39m\u001B[38;5;241m.\u001B[39m_ssl, \u001B[38;5;28mself\u001B[39m\u001B[38;5;241m.\u001B[39m_conn_attrs)\n",
      "File \u001B[0;32m~/opt/anaconda3/lib/python3.9/site-packages/mysql/connector/network.py:576\u001B[0m, in \u001B[0;36mMySQLTCPSocket.open_connection\u001B[0;34m(self)\u001B[0m\n\u001B[1;32m    574\u001B[0m     \u001B[38;5;28mself\u001B[39m\u001B[38;5;241m.\u001B[39msock\u001B[38;5;241m.\u001B[39mconnect(sockaddr)\n\u001B[1;32m    575\u001B[0m \u001B[38;5;28;01mexcept\u001B[39;00m \u001B[38;5;167;01mIOError\u001B[39;00m \u001B[38;5;28;01mas\u001B[39;00m err:\n\u001B[0;32m--> 576\u001B[0m     \u001B[38;5;28;01mraise\u001B[39;00m errors\u001B[38;5;241m.\u001B[39mInterfaceError(\n\u001B[1;32m    577\u001B[0m         errno\u001B[38;5;241m=\u001B[39m\u001B[38;5;241m2003\u001B[39m, values\u001B[38;5;241m=\u001B[39m(\n\u001B[1;32m    578\u001B[0m             \u001B[38;5;28mself\u001B[39m\u001B[38;5;241m.\u001B[39mserver_host,\n\u001B[1;32m    579\u001B[0m             \u001B[38;5;28mself\u001B[39m\u001B[38;5;241m.\u001B[39mserver_port,\n\u001B[1;32m    580\u001B[0m             _strioerror(err),\n\u001B[1;32m    581\u001B[0m         )\n\u001B[1;32m    582\u001B[0m     )\n\u001B[1;32m    583\u001B[0m \u001B[38;5;28;01mexcept\u001B[39;00m \u001B[38;5;167;01mException\u001B[39;00m \u001B[38;5;28;01mas\u001B[39;00m err:\n\u001B[1;32m    584\u001B[0m     \u001B[38;5;28;01mraise\u001B[39;00m errors\u001B[38;5;241m.\u001B[39mOperationalError(\u001B[38;5;28mstr\u001B[39m(err))\n",
      "\u001B[0;31mInterfaceError\u001B[0m: 2003: Can't connect to MySQL server on '127.0.0.1:3306' (61 Connection refused)"
     ]
    }
   ],
   "source": [
    "import mysql.connector\n",
    "cnx = mysql.connector.connect(user='scott', password='password',\n",
    "                              host='127.0.0.1',\n",
    "                              database='employee')\n",
    "cnx.close()"
   ]
  }
 ],
 "metadata": {
  "kernelspec": {
   "display_name": "Python 3 (ipykernel)",
   "language": "python",
   "name": "python3"
  },
  "language_info": {
   "codemirror_mode": {
    "name": "ipython",
    "version": 3
   },
   "file_extension": ".py",
   "mimetype": "text/x-python",
   "name": "python",
   "nbconvert_exporter": "python",
   "pygments_lexer": "ipython3",
   "version": "3.9.12"
  }
 },
 "nbformat": 4,
 "nbformat_minor": 4
}